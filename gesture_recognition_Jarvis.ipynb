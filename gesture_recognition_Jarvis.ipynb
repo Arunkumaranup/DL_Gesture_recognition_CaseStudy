{
 "cells": [
  {
   "cell_type": "markdown",
   "metadata": {
    "id": "FsCWJ6klvu_d"
   },
   "source": [
    "# CaseStudy Gesture Recognition\n",
    "\n",
    "Imagine you are working as a data scientist at a home electronics company which manufactures state of the art smart televisions. You want to develop a cool feature in the smart-TV that can recognise five different gestures performed by the user which will help users control the TV without using a remote. \n",
    "\n",
    "In this group project, you are going to build a 3D Conv model that will be able to predict the 5 gestures correctly. \n",
    "\n",
    "The gestures are continuously monitored by the webcam mounted on the TV. Each gesture corresponds to a specific command:\n",
    "\n",
    "    Thumbs up:  Increase the volume\n",
    "    Thumbs down: Decrease the volume\n",
    "    Left swipe: 'Jump' backwards 10 seconds\n",
    "    Right swipe: 'Jump' forward 10 seconds  \n",
    "    Stop: Pause the movie\n"
   ]
  },
  {
   "cell_type": "code",
   "execution_count": 1,
   "metadata": {
    "id": "mJtPaYUIpIHJ"
   },
   "outputs": [],
   "source": [
    "import numpy as np\n",
    "import os\n",
    "# https://docs.scipy.org/doc/scipy-1.1.0/reference/generated/scipy.misc.imread.html\n",
    "#from scipy.misc import imread, imresize\n",
    "from skimage.transform import resize\n",
    "from imageio import imread\n",
    "import datetime\n",
    "import os"
   ]
  },
  {
   "cell_type": "code",
   "execution_count": 2,
   "metadata": {
    "id": "hfY7P8LRpIHK"
   },
   "outputs": [],
   "source": [
    "import matplotlib.pyplot as plt\n",
    "import warnings\n",
    "warnings.filterwarnings('ignore')"
   ]
  },
  {
   "cell_type": "code",
   "execution_count": null,
   "metadata": {
    "id": "rsFPvEWNpIHK"
   },
   "outputs": [],
   "source": []
  },
  {
   "cell_type": "markdown",
   "metadata": {
    "id": "449DFLskpIHK"
   },
   "source": [
    "We set the random seed so that the results don't vary drastically."
   ]
  },
  {
   "cell_type": "code",
   "execution_count": 3,
   "metadata": {
    "id": "kZKSPOrIpIHL"
   },
   "outputs": [],
   "source": [
    "np.random.seed(30)\n",
    "import random as rn\n",
    "rn.seed(30)\n",
    "from keras import backend as K\n",
    "import tensorflow as tf\n",
    "tf.random.set_seed(30)"
   ]
  },
  {
   "cell_type": "code",
   "execution_count": 4,
   "metadata": {
    "colab": {
     "base_uri": "https://localhost:8080/"
    },
    "id": "VaIX6uXOpkSF",
    "outputId": "3e35a21d-11e4-42ed-db65-435119358e5f"
   },
   "outputs": [],
   "source": [
    "#from google.colab import drive\n",
    "#drive.mount('/content/drive')"
   ]
  },
  {
   "cell_type": "code",
   "execution_count": 5,
   "metadata": {
    "_kg_hide-input": true,
    "_kg_hide-output": true,
    "colab": {
     "base_uri": "https://localhost:8080/"
    },
    "id": "5H-8IGVHpIHL",
    "outputId": "512b354d-a8f6-4e5c-e7d3-3c6f5637ce67"
   },
   "outputs": [
    {
     "name": "stdout",
     "output_type": "stream",
     "text": [
      "Found GPU at: /device:GPU:0\n"
     ]
    },
    {
     "name": "stderr",
     "output_type": "stream",
     "text": [
      "2022-06-15 13:43:34.133698: W tensorflow/core/common_runtime/gpu/gpu_bfc_allocator.cc:39] Overriding allow_growth setting because the TF_FORCE_GPU_ALLOW_GROWTH environment variable is set. Original config value was 0.\n",
      "2022-06-15 13:43:34.133777: I tensorflow/core/common_runtime/gpu/gpu_device.cc:1525] Created device /device:GPU:0 with 46477 MB memory:  -> device: 0, name: NVIDIA RTX A6000, pci bus id: 0000:89:00.0, compute capability: 8.6\n"
     ]
    }
   ],
   "source": [
    "device_name = tf.test.gpu_device_name()\n",
    "if \"GPU\" not in device_name:\n",
    "    print(\"GPU device not found\")\n",
    "else:\n",
    "    print('Found GPU at: {}'.format(device_name))"
   ]
  },
  {
   "cell_type": "markdown",
   "metadata": {
    "id": "25e-YiZOpIHL"
   },
   "source": [
    "In this block, you read the folder names for training and validation. You also set the `batch_size` here. Note that you set the batch size in such a way that you are able to use the GPU in full capacity. You keep increasing the batch size until the machine throws an error."
   ]
  },
  {
   "cell_type": "code",
   "execution_count": 6,
   "metadata": {
    "colab": {
     "base_uri": "https://localhost:8080/"
    },
    "id": "NRsHwxXApsX0",
    "outputId": "bb5fd477-a095-4b6a-8293-4f0255a6d039"
   },
   "outputs": [
    {
     "name": "stdout",
     "output_type": "stream",
     "text": [
      "[1, 3, 5, 7, 9, 11, 13, 15, 17, 19, 21, 23, 25, 27, 29]\n",
      "(15, 100, 100, 3)\n"
     ]
    }
   ],
   "source": [
    "# setting up basic parameters for the model\n",
    "img_indices = list(range(1,30,2))\n",
    "print(img_indices)\n",
    "input_shape=(len(img_indices),100,100,3) #15 images per video, each image is of 100x100x3\n",
    "print(input_shape)\n",
    "batch_size = 10\n",
    "no_of_classes = 5\n",
    "num_epochs = 50 # choose the number of epochs"
   ]
  },
  {
   "cell_type": "code",
   "execution_count": 7,
   "metadata": {
    "colab": {
     "base_uri": "https://localhost:8080/"
    },
    "id": "wvifoqxj4H8P",
    "outputId": "87d4ea6d-194d-43e8-e22d-14595c87db16"
   },
   "outputs": [
    {
     "name": "stdout",
     "output_type": "stream",
     "text": [
      "3\n"
     ]
    }
   ],
   "source": [
    "print(input_shape[3])"
   ]
  },
  {
   "cell_type": "code",
   "execution_count": 8,
   "metadata": {
    "id": "LhbVPWKZpIHM"
   },
   "outputs": [],
   "source": [
    "train_doc = np.random.permutation(open('/datasets/Project_data/train.csv').readlines())\n",
    "val_doc = np.random.permutation(open('/datasets/Project_data/val.csv').readlines())\n",
    "batch_size = 32"
   ]
  },
  {
   "cell_type": "code",
   "execution_count": null,
   "metadata": {
    "id": "EtIxpxudpgrw"
   },
   "outputs": [],
   "source": []
  },
  {
   "cell_type": "code",
   "execution_count": 9,
   "metadata": {
    "colab": {
     "base_uri": "https://localhost:8080/"
    },
    "id": "uZW4rStGpIHN",
    "outputId": "757d4581-3c75-4c18-ceba-b3d45601b376"
   },
   "outputs": [
    {
     "name": "stdout",
     "output_type": "stream",
     "text": [
      "Wed Jun 15 13:43:34 2022       \n",
      "+-----------------------------------------------------------------------------+\n",
      "| NVIDIA-SMI 470.42.01    Driver Version: 470.42.01    CUDA Version: 11.4     |\n",
      "|-------------------------------+----------------------+----------------------+\n",
      "| GPU  Name        Persistence-M| Bus-Id        Disp.A | Volatile Uncorr. ECC |\n",
      "| Fan  Temp  Perf  Pwr:Usage/Cap|         Memory-Usage | GPU-Util  Compute M. |\n",
      "|                               |                      |               MIG M. |\n",
      "|===============================+======================+======================|\n",
      "|   0  NVIDIA RTX A6000    Off  | 00000000:89:00.0 Off |                  Off |\n",
      "| 30%   36C    P2    61W / 300W |    407MiB / 48685MiB |      0%      Default |\n",
      "|                               |                      |                  N/A |\n",
      "+-------------------------------+----------------------+----------------------+\n",
      "                                                                               \n",
      "+-----------------------------------------------------------------------------+\n",
      "| Processes:                                                                  |\n",
      "|  GPU   GI   CI        PID   Type   Process name                  GPU Memory |\n",
      "|        ID   ID                                                   Usage      |\n",
      "|=============================================================================|\n",
      "+-----------------------------------------------------------------------------+\n"
     ]
    }
   ],
   "source": [
    "## Checking the GPU configuration\n",
    "!nvidia-smi"
   ]
  },
  {
   "cell_type": "markdown",
   "metadata": {
    "id": "DGY4lrhhvu_w"
   },
   "source": [
    "## Generator\n",
    "This is one of the most important part of the code. The overall structure of the generator has been given. In the generator, you are going to preprocess the images as you have images of 2 different dimensions as well as create a batch of video frames. You have to experiment with `img_idx`, `y`,`z` and normalization such that you get high accuracy."
   ]
  },
  {
   "cell_type": "code",
   "execution_count": 10,
   "metadata": {
    "id": "1xrANziuvu_x"
   },
   "outputs": [],
   "source": [
    "def cropResize(image, y, z):\n",
    "    h, w = image.shape\n",
    "    \n",
    "    # if smaller image crop at center for 120x120\n",
    "    if w == 160:\n",
    "        image = image[:120, 20:140]\n",
    "\n",
    "    # resize every image\n",
    "    return resize(image, (y,z))"
   ]
  },
  {
   "cell_type": "code",
   "execution_count": 11,
   "metadata": {
    "id": "KhGrETufvu_y"
   },
   "outputs": [],
   "source": [
    "def normalizeImage(image):\n",
    "    # applying normalization\n",
    "    return image/255.0"
   ]
  },
  {
   "cell_type": "code",
   "execution_count": 12,
   "metadata": {
    "id": "-qd1bxIZvu_y"
   },
   "outputs": [],
   "source": [
    "def preprocessImage(image, y, z):\n",
    "    return normalizeImage(cropResize(image, y, z))"
   ]
  },
  {
   "cell_type": "code",
   "execution_count": 13,
   "metadata": {
    "id": "LNgZq2e-vu_z"
   },
   "outputs": [],
   "source": [
    "def make3dFilter(x):\n",
    "    return tuple([x]*3)\n",
    "\n",
    "def make2dFilter(x):\n",
    "    return tuple([x]*2)"
   ]
  },
  {
   "cell_type": "code",
   "execution_count": null,
   "metadata": {
    "id": "-yPBgXECvu_z"
   },
   "outputs": [],
   "source": []
  },
  {
   "cell_type": "markdown",
   "metadata": {
    "id": "Wzj7VTjE6S2L"
   },
   "source": []
  },
  {
   "cell_type": "markdown",
   "metadata": {
    "id": "ZD9g_Vu66RUN"
   },
   "source": []
  },
  {
   "cell_type": "code",
   "execution_count": 14,
   "metadata": {
    "colab": {
     "base_uri": "https://localhost:8080/"
    },
    "id": "eA6r1IMmvu_0",
    "outputId": "0d0eaf91-516b-42dc-f3f3-cd2223879526"
   },
   "outputs": [
    {
     "name": "stdout",
     "output_type": "stream",
     "text": [
      "5\n"
     ]
    }
   ],
   "source": [
    "print(no_of_classes)"
   ]
  },
  {
   "cell_type": "code",
   "execution_count": 15,
   "metadata": {
    "id": "0CYR3WYM54s4"
   },
   "outputs": [],
   "source": [
    "def getBatchData(source_path, t, batch, batch_size, img_tensor):\n",
    "    [x,y,z] = [len(img_tensor[0]),img_tensor[1], img_tensor[2]]\n",
    "    img_idx = img_tensor[0]\n",
    "    batch_data = np.zeros((batch_size,x,y,z,3)) # x is the number of images you use for each video, (y,z) is the final size of the input images and 3 is the number of channels RGB\n",
    "    batch_labels = np.zeros((batch_size,5)) # batch_labels is the one hot representation of the output\n",
    "    for folder in range(batch_size): # iterate over the batch_size\n",
    "        imgs = os.listdir(source_path+'/'+ t[folder + (batch*batch_size)].split(';')[0]) # read all the images in the folder\n",
    "        for idx,item in enumerate(img_idx): #  Iterate iver the frames/images of a folder to read them in\n",
    "            image = imread(source_path+'/'+ t[folder + (batch*batch_size)].strip().split(';')[0]+'/'+imgs[item]).astype(np.float32)\n",
    "\n",
    "            #crop the images and resize them. Note that the images are of 2 different shape \n",
    "            #and the conv3D will throw error if the inputs in a batch have different shapes\n",
    "\n",
    "            # separate preprocessImage function is defined for cropping, resizing and normalizing images\n",
    "            batch_data[folder,idx,:,:,0] = preprocessImage(image[:, :, 0], y, z)\n",
    "            batch_data[folder,idx,:,:,1] = preprocessImage(image[:, :, 1], y, z)\n",
    "            batch_data[folder,idx,:,:,2] = preprocessImage(image[:, :, 2], y, z)\n",
    "\n",
    "        batch_labels[folder, int(t[folder + (batch*batch_size)].strip().split(';')[2])] = 1\n",
    "    return batch_data, batch_labels\n",
    "    \n",
    "def generator(source_path, folder_list, batch_size, img_tensor):\n",
    "    print( 'Source path = ', source_path, '; batch size =', batch_size)\n",
    "    while True:\n",
    "        t = np.random.permutation(folder_list)\n",
    "        num_batches = int(len(folder_list)/batch_size)\n",
    "        for batch in range(num_batches): # we iterate over the number of batches\n",
    "            yield getBatchData(source_path, t, batch, batch_size, img_tensor)\n",
    "        \n",
    "        # write the code for the remaining data points which are left after full batches\n",
    "        # checking if any remaining batches are there or not\n",
    "        if len(folder_list)%batch_size != 0:\n",
    "            # updated the batch size and yield\n",
    "            batch_size = len(folder_list)%batch_size\n",
    "            yield getBatchData(source_path, t, batch, batch_size, img_tensor)"
   ]
  },
  {
   "cell_type": "markdown",
   "metadata": {
    "id": "tzNpErbFvu_1"
   },
   "source": [
    "Note here that a video is represented above in the generator as (number of images, height, width, number of channels). Take this into consideration while creating the model architecture."
   ]
  },
  {
   "cell_type": "code",
   "execution_count": 16,
   "metadata": {
    "colab": {
     "base_uri": "https://localhost:8080/"
    },
    "id": "CiGThqNVvu_2",
    "outputId": "2c5a6448-6b13-4206-b424-0d4af3086e1e"
   },
   "outputs": [
    {
     "name": "stdout",
     "output_type": "stream",
     "text": [
      "# training sequences = 663\n",
      "# validation sequences = 100\n",
      "# epochs = 10\n"
     ]
    }
   ],
   "source": [
    "curr_dt_time = datetime.datetime.now()\n",
    "train_path = '/datasets/Project_data/train'\n",
    "val_path = '/datasets/Project_data/val'\n",
    "num_train_sequences = len(train_doc)\n",
    "print('# training sequences =', num_train_sequences)\n",
    "num_val_sequences = len(val_doc)\n",
    "print('# validation sequences =', num_val_sequences)\n",
    "num_epochs = 10\n",
    "print ('# epochs =', num_epochs)"
   ]
  },
  {
   "cell_type": "code",
   "execution_count": 17,
   "metadata": {
    "colab": {
     "base_uri": "https://localhost:8080/"
    },
    "id": "w2bDaqWXvu_4",
    "outputId": "fcb4531e-fb78-46b7-d3f9-aac4a92ea762"
   },
   "outputs": [
    {
     "name": "stdout",
     "output_type": "stream",
     "text": [
      "# img_tensor = [array([ 0,  2,  3,  5,  6,  8,  9, 11, 12, 14, 15, 17, 18, 20, 21, 23, 24,\n",
      "       26, 27, 29]), 100, 100, 3]\n"
     ]
    }
   ],
   "source": [
    "def getImgTensor(n_frames):\n",
    "    img_idx = np.round(np.linspace(0, 29, n_frames)).astype(int)\n",
    "    return [img_idx, 100, 100, 3]\n",
    "\n",
    "# define image tensor size\n",
    "img_tensor = getImgTensor(20)\n",
    "print ('# img_tensor =', img_tensor)"
   ]
  },
  {
   "cell_type": "code",
   "execution_count": 18,
   "metadata": {
    "id": "k3HvPgOPvu_-"
   },
   "outputs": [],
   "source": [
    "def plotModelHistory(h):\n",
    "    fig, ax = plt.subplots(1, 2, figsize=(15,4))\n",
    "    ax[0].plot(h.history['loss'])   \n",
    "    ax[0].plot(h.history['val_loss'])\n",
    "    ax[0].legend(['loss','val_loss'])\n",
    "    ax[0].title.set_text(\"Train loss vs Validation loss\")\n",
    "\n",
    "    ax[1].plot(h.history['categorical_accuracy'])   \n",
    "    ax[1].plot(h.history['val_categorical_accuracy'])\n",
    "    ax[1].legend(['categorical_accuracy','val_categorical_accuracy'])\n",
    "    ax[1].title.set_text(\"Train accuracy vs Validation accuracy\")\n",
    "    plt.show()\n",
    "\n",
    "    print(\"Max. Training Accuracy\", max(h.history['categorical_accuracy']))\n",
    "    print(\"Max. Validaiton Accuracy\", max(h.history['val_categorical_accuracy']))"
   ]
  },
  {
   "cell_type": "markdown",
   "metadata": {
    "id": "dcGAuU41vu__"
   },
   "source": [
    "## Model Building\n",
    "Here you make the model using different functionalities that Keras provides. Remember to use `Conv3D` and `MaxPooling3D` and not `Conv2D` and `Maxpooling2D` for a 3D convolution model. You would want to use `TimeDistributed` while building a Conv2D + RNN model. Also remember that the last layer is the softmax. Design the network in such a way that the model is able to give good accuracy on the least number of parameters so that it can fit in the memory of the webcam."
   ]
  },
  {
   "cell_type": "code",
   "execution_count": 19,
   "metadata": {
    "id": "BlVvi0S9vvAA"
   },
   "outputs": [],
   "source": [
    "from tensorflow import keras\n",
    "from keras.models import Sequential, Model\n",
    "from keras.layers import Dense, GRU, Flatten, TimeDistributed, Flatten, BatchNormalization, Activation, Dropout, LSTM\n",
    "from keras.layers.convolutional import Conv3D, MaxPooling3D, Conv2D, MaxPooling2D\n",
    "from keras.callbacks import ModelCheckpoint, ReduceLROnPlateau\n",
    "from keras import optimizers\n"
   ]
  },
  {
   "cell_type": "markdown",
   "metadata": {
    "id": "9A0Y13yhvvAA"
   },
   "source": [
    "### Base Model"
   ]
  },
  {
   "cell_type": "code",
   "execution_count": 20,
   "metadata": {
    "colab": {
     "base_uri": "https://localhost:8080/"
    },
    "id": "jD0uh84WvvAB",
    "outputId": "8c3b2db7-9b96-4013-f8d0-1f63fd6ba4fb"
   },
   "outputs": [
    {
     "name": "stdout",
     "output_type": "stream",
     "text": [
      "Model: \"sequential\"\n",
      "_________________________________________________________________\n",
      " Layer (type)                Output Shape              Param #   \n",
      "=================================================================\n",
      " conv3d (Conv3D)             (None, 16, 96, 96, 16)    6016      \n",
      "                                                                 \n",
      " max_pooling3d (MaxPooling3D  (None, 8, 48, 48, 16)    0         \n",
      " )                                                               \n",
      "                                                                 \n",
      " batch_normalization (BatchN  (None, 8, 48, 48, 16)    64        \n",
      " ormalization)                                                   \n",
      "                                                                 \n",
      " conv3d_1 (Conv3D)           (None, 6, 46, 46, 32)     13856     \n",
      "                                                                 \n",
      " max_pooling3d_1 (MaxPooling  (None, 6, 23, 23, 32)    0         \n",
      " 3D)                                                             \n",
      "                                                                 \n",
      " batch_normalization_1 (Batc  (None, 6, 23, 23, 32)    128       \n",
      " hNormalization)                                                 \n",
      "                                                                 \n",
      " conv3d_2 (Conv3D)           (None, 4, 21, 21, 64)     55360     \n",
      "                                                                 \n",
      " max_pooling3d_2 (MaxPooling  (None, 4, 11, 11, 64)    0         \n",
      " 3D)                                                             \n",
      "                                                                 \n",
      " batch_normalization_2 (Batc  (None, 4, 11, 11, 64)    256       \n",
      " hNormalization)                                                 \n",
      "                                                                 \n",
      " flatten (Flatten)           (None, 30976)             0         \n",
      "                                                                 \n",
      " dense (Dense)               (None, 128)               3965056   \n",
      "                                                                 \n",
      " batch_normalization_3 (Batc  (None, 128)              512       \n",
      " hNormalization)                                                 \n",
      "                                                                 \n",
      " dropout (Dropout)           (None, 128)               0         \n",
      "                                                                 \n",
      " dense_1 (Dense)             (None, 64)                8256      \n",
      "                                                                 \n",
      " batch_normalization_4 (Batc  (None, 64)               256       \n",
      " hNormalization)                                                 \n",
      "                                                                 \n",
      " dropout_1 (Dropout)         (None, 64)                0         \n",
      "                                                                 \n",
      " dense_2 (Dense)             (None, 5)                 325       \n",
      "                                                                 \n",
      "=================================================================\n",
      "Total params: 4,050,085\n",
      "Trainable params: 4,049,477\n",
      "Non-trainable params: 608\n",
      "_________________________________________________________________\n"
     ]
    },
    {
     "name": "stderr",
     "output_type": "stream",
     "text": [
      "2022-06-15 13:43:34.756331: I tensorflow/core/common_runtime/gpu/gpu_device.cc:1525] Created device /job:localhost/replica:0/task:0/device:GPU:0 with 46477 MB memory:  -> device: 0, name: NVIDIA RTX A6000, pci bus id: 0000:89:00.0, compute capability: 8.6\n"
     ]
    }
   ],
   "source": [
    "#write your model here\n",
    "def defineModel(img_tensor):\n",
    "    inputShape = (len(img_tensor[0]), img_tensor[1], img_tensor[2], img_tensor[3])\n",
    "\n",
    "    model = Sequential([\n",
    "        Conv3D(16, make3dFilter(5), activation='relu', input_shape=inputShape),\n",
    "        MaxPooling3D(make3dFilter(2), padding='same'),\n",
    "        BatchNormalization(),\n",
    "\n",
    "        Conv3D(32, make3dFilter(3), activation='relu'),\n",
    "        MaxPooling3D(pool_size=(1,2,2), padding='same'),\n",
    "        BatchNormalization(),\n",
    "\n",
    "        Conv3D(64, make3dFilter(3), activation='relu'),\n",
    "        MaxPooling3D(pool_size=(1,2,2), padding='same'),\n",
    "        BatchNormalization(),\n",
    "\n",
    "        Flatten(),\n",
    "        Dense(128, activation='relu'),\n",
    "        BatchNormalization(),\n",
    "        Dropout(0.25),\n",
    "\n",
    "        Dense(64, activation='relu'),\n",
    "        BatchNormalization(),\n",
    "        Dropout(0.25),\n",
    "\n",
    "        Dense(5, activation='softmax')\n",
    "    ])\n",
    "\n",
    "    optimiser = tf.keras.optimizers.Adam()\n",
    "\n",
    "    model.compile(optimizer=optimiser, loss='categorical_crossentropy', metrics=['categorical_accuracy'])\n",
    "    #model.compile(optimizer=Adam(), loss='categorical_crossentropy', metrics=['categorical_accuracy'])\n",
    "    return model\n",
    "\n",
    "model = defineModel(img_tensor)\n",
    "model.summary()"
   ]
  },
  {
   "cell_type": "code",
   "execution_count": 21,
   "metadata": {
    "id": "1SFrztx4vvAE"
   },
   "outputs": [],
   "source": [
    "train_generator = generator(train_path, train_doc, batch_size, img_tensor)\n",
    "val_generator = generator(val_path, val_doc, batch_size, img_tensor)"
   ]
  },
  {
   "cell_type": "markdown",
   "metadata": {
    "id": "TshGKBpyvvAF"
   },
   "source": [
    "The `steps_per_epoch` and `validation_steps` are used by `fit_generator` to decide the number of next() calls it need to make."
   ]
  },
  {
   "cell_type": "code",
   "execution_count": 22,
   "metadata": {
    "colab": {
     "base_uri": "https://localhost:8080/"
    },
    "id": "hWzVNhUhRqpL",
    "outputId": "ab9c1a89-7536-4878-9567-8d14d5350b97"
   },
   "outputs": [
    {
     "name": "stdout",
     "output_type": "stream",
     "text": [
      "WARNING:tensorflow:`period` argument is deprecated. Please use `save_freq` to specify the frequency in number of batches seen.\n"
     ]
    }
   ],
   "source": [
    "model_name = 'model_init' + '_' + str(curr_dt_time).replace(' ','').replace(':','_') + '/'\n",
    "    \n",
    "if not os.path.exists(model_name):\n",
    "    os.mkdir(model_name)\n",
    "        \n",
    "filepath = model_name + 'model-{epoch:05d}-{loss:.5f}-{categorical_accuracy:.5f}-{val_loss:.5f}-{val_categorical_accuracy:.5f}.h5'\n",
    "\n",
    "checkpoint = ModelCheckpoint(filepath, monitor='val_loss', verbose=1, save_best_only=False, save_weights_only=False, mode='auto', period=1)\n",
    "\n",
    "LR = ReduceLROnPlateau(monitor='val_loss', factor=0.2, verbose=1, patience=4)\n",
    "callbacks_list = [checkpoint, LR]"
   ]
  },
  {
   "cell_type": "markdown",
   "metadata": {
    "id": "i6nd1bm1oaS2"
   },
   "source": [
    "model_name = 'model_init' + '_' + str(curr_dt_time).replace(' ','').replace(':','_') + '/'\n",
    "    \n",
    "if not os.path.exists(model_name):\n",
    "    os.mkdir(model_name)\n",
    "\n",
    "filepath = model_name + 'model-{epoch:05d}-{loss:.5f}-{categorical_accuracy:.5f}-{val_loss:.5f}-{val_categorical_accuracy:.5f}.h5'\n",
    "\n",
    "checkpoint = ModelCheckpoint(filepath, monitor='val_loss', verbose=1, save_best_only=False, save_weights_only=False, mode='auto', period=1)\n",
    "\n",
    "LR = ReduceLROnPlateau(monitor='val_loss', factor=0.2, verbose=1, patience=4)\n",
    "\n",
    "#### callbacks_list = [checkpoint, LR]\n",
    "callbacks_list = [LR]"
   ]
  },
  {
   "cell_type": "code",
   "execution_count": 23,
   "metadata": {
    "id": "hNW5OuAsvvAF"
   },
   "outputs": [],
   "source": [
    "if (num_train_sequences%batch_size) == 0:\n",
    "    steps_per_epoch = int(num_train_sequences/batch_size)\n",
    "else:\n",
    "    steps_per_epoch = (num_train_sequences//batch_size) + 1\n",
    "\n",
    "if (num_val_sequences%batch_size) == 0:\n",
    "    validation_steps = int(num_val_sequences/batch_size)\n",
    "else:\n",
    "    validation_steps = (num_val_sequences//batch_size) + 1"
   ]
  },
  {
   "cell_type": "markdown",
   "metadata": {
    "id": "zXk7xAMuqYQO"
   },
   "source": [
    "Let us now fit the model. This will start training the model and with the help of the checkpoints, you'll be able to save the model at the end of each epoch.\n"
   ]
  },
  {
   "cell_type": "markdown",
   "metadata": {
    "id": "-hem7-SrSZme"
   },
   "source": [
    "### Test Batch Size & Frames"
   ]
  },
  {
   "cell_type": "code",
   "execution_count": 24,
   "metadata": {
    "id": "ez2ESV-vHPKA"
   },
   "outputs": [],
   "source": [
    "def testBatchSize(batch_size, n_frames):\n",
    "    img_tensor = getImgTensor(n_frames)\n",
    "    print(\"Using frames as\", img_tensor[0])\n",
    "    global callbacks_list\n",
    "    num_epochs = 3\n",
    "    train_generator = generator(train_path, train_doc, batch_size, img_tensor)\n",
    "    val_generator = generator(val_path, val_doc, batch_size, img_tensor)\n",
    "    if (num_train_sequences%batch_size) == 0:\n",
    "        steps_per_epoch = int(num_train_sequences/batch_size)\n",
    "    else:\n",
    "        steps_per_epoch = (num_train_sequences//batch_size) + 1\n",
    "\n",
    "    if (num_val_sequences%batch_size) == 0:\n",
    "        validation_steps = int(num_val_sequences/batch_size)\n",
    "    else:\n",
    "        validation_steps = (num_val_sequences//batch_size) + 1\n",
    "\n",
    "    model = defineModel(img_tensor)\n",
    "#    model.fit_generator(train_generator, steps_per_epoch=steps_per_epoch, epochs=num_epochs, verbose=1, \n",
    "#                callbacks=callbacks_list, validation_data=val_generator, \n",
    "#                validation_steps=validation_steps, class_weight=None, workers=1, initial_epoch=0)\n",
    "    model.fit_generator(train_generator, steps_per_epoch=steps_per_epoch, epochs=num_epochs, verbose=1, \n",
    "                    callbacks=callbacks_list, validation_data=val_generator, \n",
    "                    validation_steps=validation_steps, class_weight=None, workers=1, initial_epoch=0)"
   ]
  },
  {
   "cell_type": "code",
   "execution_count": 28,
   "metadata": {
    "id": "Iod1jHQapIHT"
   },
   "outputs": [],
   "source": [
    "testBatchSize(batch_size=32, n_frames=16)"
   ]
  },
  {
   "cell_type": "markdown",
   "metadata": {
    "id": "Vh1IZvwiajxA"
   },
   "source": [
    "With above observations, we can see that batch size is not impacting training time but number of frames. We will use batch size of 64 as it seems optimal. It is commented as it takes a lot of time to run that is restricting for the notebook to completely run."
   ]
  },
  {
   "cell_type": "markdown",
   "metadata": {
    "id": "TRxSBVQgbPHo"
   },
   "source": [
    "### Model 1 - Frames-16, Epoc-20"
   ]
  },
  {
   "cell_type": "code",
   "execution_count": 29,
   "metadata": {
    "colab": {
     "base_uri": "https://localhost:8080/"
    },
    "id": "e9Z5A_HNZgyP",
    "outputId": "5a801bbd-f2de-4d19-bbd4-0b265b493c42"
   },
   "outputs": [
    {
     "name": "stdout",
     "output_type": "stream",
     "text": [
      "Model: \"conv_3d1\"\n",
      "_________________________________________________________________\n",
      " Layer (type)                Output Shape              Param #   \n",
      "=================================================================\n",
      " conv3d_3 (Conv3D)           (None, 12, 96, 96, 16)    6016      \n",
      "                                                                 \n",
      " max_pooling3d_3 (MaxPooling  (None, 6, 48, 48, 16)    0         \n",
      " 3D)                                                             \n",
      "                                                                 \n",
      " batch_normalization_5 (Batc  (None, 6, 48, 48, 16)    64        \n",
      " hNormalization)                                                 \n",
      "                                                                 \n",
      " conv3d_4 (Conv3D)           (None, 4, 46, 46, 32)     13856     \n",
      "                                                                 \n",
      " max_pooling3d_4 (MaxPooling  (None, 4, 23, 23, 32)    0         \n",
      " 3D)                                                             \n",
      "                                                                 \n",
      " batch_normalization_6 (Batc  (None, 4, 23, 23, 32)    128       \n",
      " hNormalization)                                                 \n",
      "                                                                 \n",
      " conv3d_5 (Conv3D)           (None, 2, 21, 21, 64)     55360     \n",
      "                                                                 \n",
      " max_pooling3d_5 (MaxPooling  (None, 2, 11, 11, 64)    0         \n",
      " 3D)                                                             \n",
      "                                                                 \n",
      " batch_normalization_7 (Batc  (None, 2, 11, 11, 64)    256       \n",
      " hNormalization)                                                 \n",
      "                                                                 \n",
      " flatten_1 (Flatten)         (None, 15488)             0         \n",
      "                                                                 \n",
      " dense_3 (Dense)             (None, 128)               1982592   \n",
      "                                                                 \n",
      " batch_normalization_8 (Batc  (None, 128)              512       \n",
      " hNormalization)                                                 \n",
      "                                                                 \n",
      " dropout_2 (Dropout)         (None, 128)               0         \n",
      "                                                                 \n",
      " dense_4 (Dense)             (None, 64)                8256      \n",
      "                                                                 \n",
      " batch_normalization_9 (Batc  (None, 64)               256       \n",
      " hNormalization)                                                 \n",
      "                                                                 \n",
      " dropout_3 (Dropout)         (None, 64)                0         \n",
      "                                                                 \n",
      " dense_5 (Dense)             (None, 5)                 325       \n",
      "                                                                 \n",
      "=================================================================\n",
      "Total params: 2,067,621\n",
      "Trainable params: 2,067,013\n",
      "Non-trainable params: 608\n",
      "_________________________________________________________________\n",
      "None\n",
      "Source path =  /datasets/Project_data/train ; batch size = 64\n",
      "Epoch 1/20\n"
     ]
    },
    {
     "name": "stderr",
     "output_type": "stream",
     "text": [
      "2022-06-15 13:43:47.646405: I tensorflow/stream_executor/cuda/cuda_dnn.cc:377] Loaded cuDNN version 8302\n",
      "2022-06-15 13:43:50.015354: I tensorflow/stream_executor/cuda/cuda_blas.cc:1792] TensorFloat-32 will be used for the matrix multiplication. This will only be logged once.\n"
     ]
    },
    {
     "name": "stdout",
     "output_type": "stream",
     "text": [
      "11/11 [==============================] - ETA: 0s - loss: 1.4609 - categorical_accuracy: 0.4842Source path =  /datasets/Project_data/val ; batch size = 64\n",
      "\n",
      "Epoch 00001: saving model to model_init_2022-06-1513_43_34.651809/model-00001-1.46094-0.48416-5.75848-0.20000.h5\n",
      "11/11 [==============================] - 120s 11s/step - loss: 1.4609 - categorical_accuracy: 0.4842 - val_loss: 5.7585 - val_categorical_accuracy: 0.2000 - lr: 0.0010\n",
      "Epoch 2/20\n",
      "11/11 [==============================] - ETA: 0s - loss: 0.8514 - categorical_accuracy: 0.6759\n",
      "Epoch 00002: saving model to model_init_2022-06-1513_43_34.651809/model-00002-0.85144-0.67589-6.49902-0.28125.h5\n",
      "11/11 [==============================] - 53s 5s/step - loss: 0.8514 - categorical_accuracy: 0.6759 - val_loss: 6.4990 - val_categorical_accuracy: 0.2812 - lr: 0.0010\n",
      "Epoch 3/20\n",
      "11/11 [==============================] - ETA: 0s - loss: 0.8915 - categorical_accuracy: 0.6443\n",
      "Epoch 00003: saving model to model_init_2022-06-1513_43_34.651809/model-00003-0.89151-0.64427-3.53985-0.25000.h5\n",
      "11/11 [==============================] - 48s 5s/step - loss: 0.8915 - categorical_accuracy: 0.6443 - val_loss: 3.5399 - val_categorical_accuracy: 0.2500 - lr: 0.0010\n",
      "Epoch 4/20\n",
      "11/11 [==============================] - ETA: 0s - loss: 0.6460 - categorical_accuracy: 0.7597\n",
      "Epoch 00004: saving model to model_init_2022-06-1513_43_34.651809/model-00004-0.64597-0.75966-2.31532-0.31250.h5\n",
      "11/11 [==============================] - 41s 4s/step - loss: 0.6460 - categorical_accuracy: 0.7597 - val_loss: 2.3153 - val_categorical_accuracy: 0.3125 - lr: 0.0010\n",
      "Epoch 5/20\n",
      "11/11 [==============================] - ETA: 0s - loss: 0.5745 - categorical_accuracy: 0.7799\n",
      "Epoch 00005: saving model to model_init_2022-06-1513_43_34.651809/model-00005-0.57445-0.77990-3.41815-0.21875.h5\n",
      "11/11 [==============================] - 39s 4s/step - loss: 0.5745 - categorical_accuracy: 0.7799 - val_loss: 3.4182 - val_categorical_accuracy: 0.2188 - lr: 0.0010\n",
      "Epoch 6/20\n",
      "11/11 [==============================] - ETA: 0s - loss: 0.5820 - categorical_accuracy: 0.7943\n",
      "Epoch 00006: saving model to model_init_2022-06-1513_43_34.651809/model-00006-0.58197-0.79426-2.78402-0.37500.h5\n",
      "11/11 [==============================] - 32s 3s/step - loss: 0.5820 - categorical_accuracy: 0.7943 - val_loss: 2.7840 - val_categorical_accuracy: 0.3750 - lr: 0.0010\n",
      "Epoch 7/20\n",
      "11/11 [==============================] - ETA: 0s - loss: 0.5560 - categorical_accuracy: 0.8030\n",
      "Epoch 00007: saving model to model_init_2022-06-1513_43_34.651809/model-00007-0.55599-0.80296-1.51126-0.50000.h5\n",
      "11/11 [==============================] - 32s 3s/step - loss: 0.5560 - categorical_accuracy: 0.8030 - val_loss: 1.5113 - val_categorical_accuracy: 0.5000 - lr: 0.0010\n",
      "Epoch 8/20\n",
      "11/11 [==============================] - ETA: 0s - loss: 0.6404 - categorical_accuracy: 0.7540\n",
      "Epoch 00008: saving model to model_init_2022-06-1513_43_34.651809/model-00008-0.64042-0.75401-5.53032-0.12500.h5\n",
      "11/11 [==============================] - 30s 3s/step - loss: 0.6404 - categorical_accuracy: 0.7540 - val_loss: 5.5303 - val_categorical_accuracy: 0.1250 - lr: 0.0010\n",
      "Epoch 9/20\n",
      "11/11 [==============================] - ETA: 0s - loss: 0.6125 - categorical_accuracy: 0.7647\n",
      "Epoch 00009: saving model to model_init_2022-06-1513_43_34.651809/model-00009-0.61250-0.76471-2.47561-0.37500.h5\n",
      "11/11 [==============================] - 29s 3s/step - loss: 0.6125 - categorical_accuracy: 0.7647 - val_loss: 2.4756 - val_categorical_accuracy: 0.3750 - lr: 0.0010\n",
      "Epoch 10/20\n",
      "11/11 [==============================] - ETA: 0s - loss: 0.5110 - categorical_accuracy: 0.8021\n",
      "Epoch 00010: saving model to model_init_2022-06-1513_43_34.651809/model-00010-0.51096-0.80214-3.22721-0.12500.h5\n",
      "11/11 [==============================] - 29s 3s/step - loss: 0.5110 - categorical_accuracy: 0.8021 - val_loss: 3.2272 - val_categorical_accuracy: 0.1250 - lr: 0.0010\n",
      "Epoch 11/20\n",
      "11/11 [==============================] - ETA: 0s - loss: 0.5032 - categorical_accuracy: 0.8182\n",
      "Epoch 00011: saving model to model_init_2022-06-1513_43_34.651809/model-00011-0.50321-0.81818-2.59706-0.37500.h5\n",
      "\n",
      "Epoch 00011: ReduceLROnPlateau reducing learning rate to 0.00020000000949949026.\n",
      "11/11 [==============================] - 31s 3s/step - loss: 0.5032 - categorical_accuracy: 0.8182 - val_loss: 2.5971 - val_categorical_accuracy: 0.3750 - lr: 0.0010\n",
      "Epoch 12/20\n",
      "11/11 [==============================] - ETA: 0s - loss: 0.4043 - categorical_accuracy: 0.8556\n",
      "Epoch 00012: saving model to model_init_2022-06-1513_43_34.651809/model-00012-0.40425-0.85561-3.40897-0.25000.h5\n",
      "11/11 [==============================] - 28s 3s/step - loss: 0.4043 - categorical_accuracy: 0.8556 - val_loss: 3.4090 - val_categorical_accuracy: 0.2500 - lr: 2.0000e-04\n",
      "Epoch 13/20\n",
      "11/11 [==============================] - ETA: 0s - loss: 0.4314 - categorical_accuracy: 0.8396\n",
      "Epoch 00013: saving model to model_init_2022-06-1513_43_34.651809/model-00013-0.43141-0.83957-2.88724-0.25000.h5\n",
      "11/11 [==============================] - 30s 3s/step - loss: 0.4314 - categorical_accuracy: 0.8396 - val_loss: 2.8872 - val_categorical_accuracy: 0.2500 - lr: 2.0000e-04\n",
      "Epoch 14/20\n",
      "11/11 [==============================] - ETA: 0s - loss: 0.4034 - categorical_accuracy: 0.8663\n",
      "Epoch 00014: saving model to model_init_2022-06-1513_43_34.651809/model-00014-0.40343-0.86631-2.25427-0.25000.h5\n",
      "11/11 [==============================] - 29s 3s/step - loss: 0.4034 - categorical_accuracy: 0.8663 - val_loss: 2.2543 - val_categorical_accuracy: 0.2500 - lr: 2.0000e-04\n",
      "Epoch 15/20\n",
      "11/11 [==============================] - ETA: 0s - loss: 0.2975 - categorical_accuracy: 0.8984\n",
      "Epoch 00015: saving model to model_init_2022-06-1513_43_34.651809/model-00015-0.29751-0.89840-1.07620-0.50000.h5\n",
      "11/11 [==============================] - 29s 3s/step - loss: 0.2975 - categorical_accuracy: 0.8984 - val_loss: 1.0762 - val_categorical_accuracy: 0.5000 - lr: 2.0000e-04\n",
      "Epoch 16/20\n",
      "11/11 [==============================] - ETA: 0s - loss: 0.3625 - categorical_accuracy: 0.8717\n",
      "Epoch 00016: saving model to model_init_2022-06-1513_43_34.651809/model-00016-0.36253-0.87166-1.61182-0.37500.h5\n",
      "11/11 [==============================] - 29s 3s/step - loss: 0.3625 - categorical_accuracy: 0.8717 - val_loss: 1.6118 - val_categorical_accuracy: 0.3750 - lr: 2.0000e-04\n",
      "Epoch 17/20\n",
      "11/11 [==============================] - ETA: 0s - loss: 0.2738 - categorical_accuracy: 0.9144\n",
      "Epoch 00017: saving model to model_init_2022-06-1513_43_34.651809/model-00017-0.27380-0.91444-0.77846-0.75000.h5\n",
      "11/11 [==============================] - 28s 3s/step - loss: 0.2738 - categorical_accuracy: 0.9144 - val_loss: 0.7785 - val_categorical_accuracy: 0.7500 - lr: 2.0000e-04\n",
      "Epoch 18/20\n",
      "11/11 [==============================] - ETA: 0s - loss: 0.2913 - categorical_accuracy: 0.8930\n",
      "Epoch 00018: saving model to model_init_2022-06-1513_43_34.651809/model-00018-0.29133-0.89305-1.70301-0.37500.h5\n",
      "11/11 [==============================] - 31s 3s/step - loss: 0.2913 - categorical_accuracy: 0.8930 - val_loss: 1.7030 - val_categorical_accuracy: 0.3750 - lr: 2.0000e-04\n",
      "Epoch 19/20\n",
      "11/11 [==============================] - ETA: 0s - loss: 0.2530 - categorical_accuracy: 0.9251\n",
      "Epoch 00019: saving model to model_init_2022-06-1513_43_34.651809/model-00019-0.25296-0.92513-1.31067-0.37500.h5\n",
      "11/11 [==============================] - 27s 3s/step - loss: 0.2530 - categorical_accuracy: 0.9251 - val_loss: 1.3107 - val_categorical_accuracy: 0.3750 - lr: 2.0000e-04\n",
      "Epoch 20/20\n",
      "11/11 [==============================] - ETA: 0s - loss: 0.2483 - categorical_accuracy: 0.9305\n",
      "Epoch 00020: saving model to model_init_2022-06-1513_43_34.651809/model-00020-0.24829-0.93048-0.89744-0.75000.h5\n",
      "11/11 [==============================] - 29s 3s/step - loss: 0.2483 - categorical_accuracy: 0.9305 - val_loss: 0.8974 - val_categorical_accuracy: 0.7500 - lr: 2.0000e-04\n"
     ]
    }
   ],
   "source": [
    "n_frames = 16\n",
    "num_epochs = 20\n",
    "batch_size = 64\n",
    "\n",
    "img_tensor = getImgTensor(n_frames)\n",
    "train_generator = generator(train_path, train_doc, batch_size, img_tensor)\n",
    "val_generator = generator(val_path, val_doc, batch_size, img_tensor)\n",
    "\n",
    "if (num_train_sequences%batch_size) == 0:\n",
    "    steps_per_epoch = int(num_train_sequences/batch_size)\n",
    "else:\n",
    "    steps_per_epoch = (num_train_sequences//batch_size) + 1\n",
    "\n",
    "if (num_val_sequences%batch_size) == 0:\n",
    "    validation_steps = int(num_val_sequences/batch_size)\n",
    "else:\n",
    "    validation_steps = (num_val_sequences//batch_size) + 1\n",
    "    \n",
    "inputShape = (len(img_tensor[0]), img_tensor[1], img_tensor[2], img_tensor[3])\n",
    "\n",
    "model1 = Sequential([\n",
    "    Conv3D(16, make3dFilter(5), activation='relu', input_shape=inputShape),\n",
    "    MaxPooling3D(make3dFilter(2), padding='same'),\n",
    "    BatchNormalization(),\n",
    "\n",
    "    Conv3D(32, make3dFilter(3), activation='relu'),\n",
    "    MaxPooling3D(pool_size=(1,2,2), padding='same'),\n",
    "    BatchNormalization(),\n",
    "\n",
    "    Conv3D(64, make3dFilter(3), activation='relu'),\n",
    "    MaxPooling3D(pool_size=(1,2,2), padding='same'),\n",
    "    BatchNormalization(),\n",
    "\n",
    "    Flatten(),\n",
    "    Dense(128, activation='relu'),\n",
    "    BatchNormalization(),\n",
    "    Dropout(0.25),\n",
    "\n",
    "    Dense(64, activation='relu'),\n",
    "    BatchNormalization(),\n",
    "    Dropout(0.25),\n",
    "\n",
    "    Dense(5, activation='softmax')\n",
    "], name=\"conv_3d1\")\n",
    "model1.compile(optimizer=tf.keras.optimizers.Adam(), loss='categorical_crossentropy', metrics=['categorical_accuracy'])\n",
    "print(model1.summary())\n",
    "\n",
    "model1_history = model1.fit_generator(train_generator, steps_per_epoch=steps_per_epoch, epochs=num_epochs, verbose=1, \n",
    "            callbacks=callbacks_list, validation_data=val_generator, \n",
    "            validation_steps=validation_steps, class_weight=None, workers=1, initial_epoch=0)"
   ]
  },
  {
   "cell_type": "code",
   "execution_count": 30,
   "metadata": {
    "colab": {
     "base_uri": "https://localhost:8080/",
     "height": 255
    },
    "id": "YfeBXCls1r7R",
    "outputId": "eee31844-ed1d-49b4-846c-d04cb5071ca4"
   },
   "outputs": [
    {
     "data": {
      "image/png": "[encoded data removed]",
      "text/plain": [
       "<Figure size 1080x288 with 2 Axes>"
      ]
     },
     "metadata": {
      "needs_background": "light"
     },
     "output_type": "display_data"
    },
    {
     "name": "stdout",
     "output_type": "stream",
     "text": [
      "Max. Training Accuracy 0.9304812550544739\n",
      "Max. Validaiton Accuracy 0.75\n"
     ]
    }
   ],
   "source": [
    "plotModelHistory(model1_history)"
   ]
  },
  {
   "cell_type": "markdown",
   "metadata": {
    "id": "dsjCzIj40suJ"
   },
   "source": [
    "### Model 2: Frames-30, Epocs-30"
   ]
  },
  {
   "cell_type": "code",
   "execution_count": 31,
   "metadata": {
    "colab": {
     "base_uri": "https://localhost:8080/"
    },
    "id": "I82f2MK3bNyZ",
    "outputId": "9f750896-da30-42b8-989b-d2539dd072a7"
   },
   "outputs": [
    {
     "name": "stdout",
     "output_type": "stream",
     "text": [
      "Model: \"conv_3d2\"\n",
      "_________________________________________________________________\n",
      " Layer (type)                Output Shape              Param #   \n",
      "=================================================================\n",
      " conv3d_6 (Conv3D)           (None, 26, 96, 96, 16)    6016      \n",
      "                                                                 \n",
      " max_pooling3d_6 (MaxPooling  (None, 13, 48, 48, 16)   0         \n",
      " 3D)                                                             \n",
      "                                                                 \n",
      " batch_normalization_10 (Bat  (None, 13, 48, 48, 16)   64        \n",
      " chNormalization)                                                \n",
      "                                                                 \n",
      " conv3d_7 (Conv3D)           (None, 11, 46, 46, 32)    13856     \n",
      "                                                                 \n",
      " max_pooling3d_7 (MaxPooling  (None, 11, 23, 23, 32)   0         \n",
      " 3D)                                                             \n",
      "                                                                 \n",
      " batch_normalization_11 (Bat  (None, 11, 23, 23, 32)   128       \n",
      " chNormalization)                                                \n",
      "                                                                 \n",
      " conv3d_8 (Conv3D)           (None, 9, 21, 21, 64)     55360     \n",
      "                                                                 \n",
      " max_pooling3d_8 (MaxPooling  (None, 9, 11, 11, 64)    0         \n",
      " 3D)                                                             \n",
      "                                                                 \n",
      " batch_normalization_12 (Bat  (None, 9, 11, 11, 64)    256       \n",
      " chNormalization)                                                \n",
      "                                                                 \n",
      " flatten_2 (Flatten)         (None, 69696)             0         \n",
      "                                                                 \n",
      " dense_6 (Dense)             (None, 128)               8921216   \n",
      "                                                                 \n",
      " batch_normalization_13 (Bat  (None, 128)              512       \n",
      " chNormalization)                                                \n",
      "                                                                 \n",
      " dropout_4 (Dropout)         (None, 128)               0         \n",
      "                                                                 \n",
      " dense_7 (Dense)             (None, 64)                8256      \n",
      "                                                                 \n",
      " batch_normalization_14 (Bat  (None, 64)               256       \n",
      " chNormalization)                                                \n",
      "                                                                 \n",
      " dropout_5 (Dropout)         (None, 64)                0         \n",
      "                                                                 \n",
      " dense_8 (Dense)             (None, 5)                 325       \n",
      "                                                                 \n",
      "=================================================================\n",
      "Total params: 9,006,245\n",
      "Trainable params: 9,005,637\n",
      "Non-trainable params: 608\n",
      "_________________________________________________________________\n",
      "None\n",
      "Source path =  /datasets/Project_data/train ; batch size = 64\n",
      "Epoch 1/30\n",
      "11/11 [==============================] - ETA: 0s - loss: 1.4935 - categorical_accuracy: 0.4314 Source path =  /datasets/Project_data/val ; batch size = 64\n",
      "\n",
      "Epoch 00001: saving model to model_init_2022-06-1513_43_34.651809/model-00001-1.49348-0.43137-3.55789-0.23000.h5\n",
      "11/11 [==============================] - 214s 21s/step - loss: 1.4935 - categorical_accuracy: 0.4314 - val_loss: 3.5579 - val_categorical_accuracy: 0.2300 - lr: 0.0010\n",
      "Epoch 2/30\n",
      "11/11 [==============================] - ETA: 0s - loss: 0.8679 - categorical_accuracy: 0.6838\n",
      "Epoch 00002: saving model to model_init_2022-06-1513_43_34.651809/model-00002-0.86789-0.68379-5.03087-0.14062.h5\n",
      "11/11 [==============================] - 91s 9s/step - loss: 0.8679 - categorical_accuracy: 0.6838 - val_loss: 5.0309 - val_categorical_accuracy: 0.1406 - lr: 0.0010\n",
      "Epoch 3/30\n",
      "11/11 [==============================] - ETA: 0s - loss: 1.0863 - categorical_accuracy: 0.5850\n",
      "Epoch 00003: saving model to model_init_2022-06-1513_43_34.651809/model-00003-1.08630-0.58498-2.84079-0.19643.h5\n",
      "11/11 [==============================] - 94s 9s/step - loss: 1.0863 - categorical_accuracy: 0.5850 - val_loss: 2.8408 - val_categorical_accuracy: 0.1964 - lr: 0.0010\n",
      "Epoch 4/30\n",
      "11/11 [==============================] - ETA: 0s - loss: 0.6874 - categorical_accuracy: 0.7425\n",
      "Epoch 00004: saving model to model_init_2022-06-1513_43_34.651809/model-00004-0.68737-0.74249-5.73465-0.06250.h5\n",
      "11/11 [==============================] - 72s 7s/step - loss: 0.6874 - categorical_accuracy: 0.7425 - val_loss: 5.7347 - val_categorical_accuracy: 0.0625 - lr: 0.0010\n",
      "Epoch 5/30\n",
      "11/11 [==============================] - ETA: 0s - loss: 0.7637 - categorical_accuracy: 0.7129\n",
      "Epoch 00005: saving model to model_init_2022-06-1513_43_34.651809/model-00005-0.76368-0.71292-3.49514-0.28125.h5\n",
      "11/11 [==============================] - 68s 7s/step - loss: 0.7637 - categorical_accuracy: 0.7129 - val_loss: 3.4951 - val_categorical_accuracy: 0.2812 - lr: 0.0010\n",
      "Epoch 6/30\n",
      "11/11 [==============================] - ETA: 0s - loss: 0.5580 - categorical_accuracy: 0.7895\n",
      "Epoch 00006: saving model to model_init_2022-06-1513_43_34.651809/model-00006-0.55799-0.78947-5.14186-0.00000.h5\n",
      "11/11 [==============================] - 56s 6s/step - loss: 0.5580 - categorical_accuracy: 0.7895 - val_loss: 5.1419 - val_categorical_accuracy: 0.0000e+00 - lr: 0.0010\n",
      "Epoch 7/30\n",
      "11/11 [==============================] - ETA: 0s - loss: 0.6008 - categorical_accuracy: 0.7833\n",
      "Epoch 00007: saving model to model_init_2022-06-1513_43_34.651809/model-00007-0.60077-0.78325-1.83476-0.25000.h5\n",
      "11/11 [==============================] - 57s 6s/step - loss: 0.6008 - categorical_accuracy: 0.7833 - val_loss: 1.8348 - val_categorical_accuracy: 0.2500 - lr: 0.0010\n",
      "Epoch 8/30\n",
      "11/11 [==============================] - ETA: 0s - loss: 0.4564 - categorical_accuracy: 0.8075\n",
      "Epoch 00008: saving model to model_init_2022-06-1513_43_34.651809/model-00008-0.45641-0.80749-2.71474-0.12500.h5\n",
      "11/11 [==============================] - 54s 5s/step - loss: 0.4564 - categorical_accuracy: 0.8075 - val_loss: 2.7147 - val_categorical_accuracy: 0.1250 - lr: 0.0010\n",
      "Epoch 9/30\n",
      "11/11 [==============================] - ETA: 0s - loss: 0.4650 - categorical_accuracy: 0.8396\n",
      "Epoch 00009: saving model to model_init_2022-06-1513_43_34.651809/model-00009-0.46504-0.83957-0.88635-0.75000.h5\n",
      "11/11 [==============================] - 51s 5s/step - loss: 0.4650 - categorical_accuracy: 0.8396 - val_loss: 0.8864 - val_categorical_accuracy: 0.7500 - lr: 0.0010\n",
      "Epoch 10/30\n",
      "11/11 [==============================] - ETA: 0s - loss: 0.6740 - categorical_accuracy: 0.7326\n",
      "Epoch 00010: saving model to model_init_2022-06-1513_43_34.651809/model-00010-0.67396-0.73262-3.94406-0.00000.h5\n",
      "11/11 [==============================] - 54s 5s/step - loss: 0.6740 - categorical_accuracy: 0.7326 - val_loss: 3.9441 - val_categorical_accuracy: 0.0000e+00 - lr: 0.0010\n",
      "Epoch 11/30\n",
      "11/11 [==============================] - ETA: 0s - loss: 0.5505 - categorical_accuracy: 0.7754\n",
      "Epoch 00011: saving model to model_init_2022-06-1513_43_34.651809/model-00011-0.55051-0.77540-2.64304-0.12500.h5\n",
      "11/11 [==============================] - 51s 5s/step - loss: 0.5505 - categorical_accuracy: 0.7754 - val_loss: 2.6430 - val_categorical_accuracy: 0.1250 - lr: 0.0010\n",
      "Epoch 12/30\n",
      "11/11 [==============================] - ETA: 0s - loss: 0.4505 - categorical_accuracy: 0.8128\n",
      "Epoch 00012: saving model to model_init_2022-06-1513_43_34.651809/model-00012-0.45052-0.81283-2.26292-0.25000.h5\n",
      "11/11 [==============================] - 52s 5s/step - loss: 0.4505 - categorical_accuracy: 0.8128 - val_loss: 2.2629 - val_categorical_accuracy: 0.2500 - lr: 0.0010\n",
      "Epoch 13/30\n",
      "11/11 [==============================] - ETA: 0s - loss: 0.4566 - categorical_accuracy: 0.8449\n",
      "Epoch 00013: saving model to model_init_2022-06-1513_43_34.651809/model-00013-0.45661-0.84492-1.79163-0.62500.h5\n",
      "\n",
      "Epoch 00013: ReduceLROnPlateau reducing learning rate to 0.00020000000949949026.\n",
      "11/11 [==============================] - 50s 5s/step - loss: 0.4566 - categorical_accuracy: 0.8449 - val_loss: 1.7916 - val_categorical_accuracy: 0.6250 - lr: 0.0010\n",
      "Epoch 14/30\n",
      "11/11 [==============================] - ETA: 0s - loss: 0.5254 - categorical_accuracy: 0.7968\n",
      "Epoch 00014: saving model to model_init_2022-06-1513_43_34.651809/model-00014-0.52535-0.79679-0.78467-0.50000.h5\n",
      "11/11 [==============================] - 55s 5s/step - loss: 0.5254 - categorical_accuracy: 0.7968 - val_loss: 0.7847 - val_categorical_accuracy: 0.5000 - lr: 2.0000e-04\n",
      "Epoch 15/30\n",
      "11/11 [==============================] - ETA: 0s - loss: 0.3708 - categorical_accuracy: 0.8449\n",
      "Epoch 00015: saving model to model_init_2022-06-1513_43_34.651809/model-00015-0.37079-0.84492-0.68003-0.75000.h5\n",
      "11/11 [==============================] - 52s 5s/step - loss: 0.3708 - categorical_accuracy: 0.8449 - val_loss: 0.6800 - val_categorical_accuracy: 0.7500 - lr: 2.0000e-04\n",
      "Epoch 16/30\n",
      "11/11 [==============================] - ETA: 0s - loss: 0.2647 - categorical_accuracy: 0.9198\n",
      "Epoch 00016: saving model to model_init_2022-06-1513_43_34.651809/model-00016-0.26473-0.91979-1.57325-0.37500.h5\n",
      "11/11 [==============================] - 52s 5s/step - loss: 0.2647 - categorical_accuracy: 0.9198 - val_loss: 1.5733 - val_categorical_accuracy: 0.3750 - lr: 2.0000e-04\n",
      "Epoch 17/30\n",
      "11/11 [==============================] - ETA: 0s - loss: 0.3114 - categorical_accuracy: 0.9037\n",
      "Epoch 00017: saving model to model_init_2022-06-1513_43_34.651809/model-00017-0.31139-0.90374-0.98587-0.50000.h5\n",
      "11/11 [==============================] - 52s 5s/step - loss: 0.3114 - categorical_accuracy: 0.9037 - val_loss: 0.9859 - val_categorical_accuracy: 0.5000 - lr: 2.0000e-04\n",
      "Epoch 18/30\n",
      "11/11 [==============================] - ETA: 0s - loss: 0.2309 - categorical_accuracy: 0.9465\n",
      "Epoch 00018: saving model to model_init_2022-06-1513_43_34.651809/model-00018-0.23088-0.94652-1.51604-0.50000.h5\n",
      "11/11 [==============================] - 54s 5s/step - loss: 0.2309 - categorical_accuracy: 0.9465 - val_loss: 1.5160 - val_categorical_accuracy: 0.5000 - lr: 2.0000e-04\n",
      "Epoch 19/30\n",
      "11/11 [==============================] - ETA: 0s - loss: 0.2473 - categorical_accuracy: 0.9305\n",
      "Epoch 00019: saving model to model_init_2022-06-1513_43_34.651809/model-00019-0.24734-0.93048-1.26717-0.62500.h5\n",
      "\n",
      "Epoch 00019: ReduceLROnPlateau reducing learning rate to 4.0000001899898055e-05.\n",
      "11/11 [==============================] - 51s 5s/step - loss: 0.2473 - categorical_accuracy: 0.9305 - val_loss: 1.2672 - val_categorical_accuracy: 0.6250 - lr: 2.0000e-04\n",
      "Epoch 20/30\n",
      "11/11 [==============================] - ETA: 0s - loss: 0.2277 - categorical_accuracy: 0.9198\n",
      "Epoch 00020: saving model to model_init_2022-06-1513_43_34.651809/model-00020-0.22769-0.91979-2.26590-0.25000.h5\n",
      "11/11 [==============================] - 50s 5s/step - loss: 0.2277 - categorical_accuracy: 0.9198 - val_loss: 2.2659 - val_categorical_accuracy: 0.2500 - lr: 4.0000e-05\n",
      "Epoch 21/30\n",
      "11/11 [==============================] - ETA: 0s - loss: 0.2317 - categorical_accuracy: 0.9465\n",
      "Epoch 00021: saving model to model_init_2022-06-1513_43_34.651809/model-00021-0.23168-0.94652-0.99488-0.50000.h5\n",
      "11/11 [==============================] - 51s 5s/step - loss: 0.2317 - categorical_accuracy: 0.9465 - val_loss: 0.9949 - val_categorical_accuracy: 0.5000 - lr: 4.0000e-05\n",
      "Epoch 22/30\n",
      "11/11 [==============================] - ETA: 0s - loss: 0.3036 - categorical_accuracy: 0.8717\n",
      "Epoch 00022: saving model to model_init_2022-06-1513_43_34.651809/model-00022-0.30357-0.87166-1.11308-0.75000.h5\n",
      "11/11 [==============================] - 54s 5s/step - loss: 0.3036 - categorical_accuracy: 0.8717 - val_loss: 1.1131 - val_categorical_accuracy: 0.7500 - lr: 4.0000e-05\n",
      "Epoch 23/30\n",
      "11/11 [==============================] - ETA: 0s - loss: 0.2327 - categorical_accuracy: 0.9144\n",
      "Epoch 00023: saving model to model_init_2022-06-1513_43_34.651809/model-00023-0.23271-0.91444-1.18241-0.62500.h5\n",
      "\n",
      "Epoch 00023: ReduceLROnPlateau reducing learning rate to 8.000000525498762e-06.\n",
      "11/11 [==============================] - 49s 5s/step - loss: 0.2327 - categorical_accuracy: 0.9144 - val_loss: 1.1824 - val_categorical_accuracy: 0.6250 - lr: 4.0000e-05\n",
      "Epoch 24/30\n",
      "11/11 [==============================] - ETA: 0s - loss: 0.2020 - categorical_accuracy: 0.9412\n",
      "Epoch 00024: saving model to model_init_2022-06-1513_43_34.651809/model-00024-0.20200-0.94118-1.26456-0.37500.h5\n",
      "11/11 [==============================] - 52s 5s/step - loss: 0.2020 - categorical_accuracy: 0.9412 - val_loss: 1.2646 - val_categorical_accuracy: 0.3750 - lr: 8.0000e-06\n",
      "Epoch 25/30\n",
      "11/11 [==============================] - ETA: 0s - loss: 0.1754 - categorical_accuracy: 0.9572\n",
      "Epoch 00025: saving model to model_init_2022-06-1513_43_34.651809/model-00025-0.17545-0.95722-0.94875-0.37500.h5\n",
      "11/11 [==============================] - 52s 5s/step - loss: 0.1754 - categorical_accuracy: 0.9572 - val_loss: 0.9488 - val_categorical_accuracy: 0.3750 - lr: 8.0000e-06\n",
      "Epoch 26/30\n",
      "11/11 [==============================] - ETA: 0s - loss: 0.1998 - categorical_accuracy: 0.9519\n",
      "Epoch 00026: saving model to model_init_2022-06-1513_43_34.651809/model-00026-0.19978-0.95187-1.22509-0.50000.h5\n",
      "11/11 [==============================] - 50s 5s/step - loss: 0.1998 - categorical_accuracy: 0.9519 - val_loss: 1.2251 - val_categorical_accuracy: 0.5000 - lr: 8.0000e-06\n",
      "Epoch 27/30\n",
      "11/11 [==============================] - ETA: 0s - loss: 0.2680 - categorical_accuracy: 0.9198\n",
      "Epoch 00027: saving model to model_init_2022-06-1513_43_34.651809/model-00027-0.26799-0.91979-0.63523-0.75000.h5\n",
      "11/11 [==============================] - 54s 5s/step - loss: 0.2680 - categorical_accuracy: 0.9198 - val_loss: 0.6352 - val_categorical_accuracy: 0.7500 - lr: 8.0000e-06\n",
      "Epoch 28/30\n",
      "11/11 [==============================] - ETA: 0s - loss: 0.2539 - categorical_accuracy: 0.9091\n",
      "Epoch 00028: saving model to model_init_2022-06-1513_43_34.651809/model-00028-0.25391-0.90909-0.99281-0.75000.h5\n",
      "11/11 [==============================] - 50s 5s/step - loss: 0.2539 - categorical_accuracy: 0.9091 - val_loss: 0.9928 - val_categorical_accuracy: 0.7500 - lr: 8.0000e-06\n",
      "Epoch 29/30\n",
      "11/11 [==============================] - ETA: 0s - loss: 0.2260 - categorical_accuracy: 0.9305\n",
      "Epoch 00029: saving model to model_init_2022-06-1513_43_34.651809/model-00029-0.22595-0.93048-0.97270-0.75000.h5\n",
      "11/11 [==============================] - 53s 5s/step - loss: 0.2260 - categorical_accuracy: 0.9305 - val_loss: 0.9727 - val_categorical_accuracy: 0.7500 - lr: 8.0000e-06\n",
      "Epoch 30/30\n",
      "11/11 [==============================] - ETA: 0s - loss: 0.2202 - categorical_accuracy: 0.9358\n",
      "Epoch 00030: saving model to model_init_2022-06-1513_43_34.651809/model-00030-0.22024-0.93583-0.86790-0.62500.h5\n",
      "11/11 [==============================] - 51s 5s/step - loss: 0.2202 - categorical_accuracy: 0.9358 - val_loss: 0.8679 - val_categorical_accuracy: 0.6250 - lr: 8.0000e-06\n"
     ]
    }
   ],
   "source": [
    "n_frames = 30\n",
    "num_epochs = 30\n",
    "batch_size = 64\n",
    "\n",
    "img_tensor = getImgTensor(n_frames)\n",
    "train_generator = generator(train_path, train_doc, batch_size, img_tensor)\n",
    "val_generator = generator(val_path, val_doc, batch_size, img_tensor)\n",
    "\n",
    "if (num_train_sequences%batch_size) == 0:\n",
    "    steps_per_epoch = int(num_train_sequences/batch_size)\n",
    "else:\n",
    "    steps_per_epoch = (num_train_sequences//batch_size) + 1\n",
    "\n",
    "if (num_val_sequences%batch_size) == 0:\n",
    "    validation_steps = int(num_val_sequences/batch_size)\n",
    "else:\n",
    "    validation_steps = (num_val_sequences//batch_size) + 1\n",
    "    \n",
    "inputShape = (len(img_tensor[0]), img_tensor[1], img_tensor[2], img_tensor[3])\n",
    "\n",
    "model2 = Sequential([\n",
    "    Conv3D(16, make3dFilter(5), activation='relu', input_shape=inputShape),\n",
    "    MaxPooling3D(make3dFilter(2), padding='same'),\n",
    "    BatchNormalization(),\n",
    "\n",
    "    Conv3D(32, make3dFilter(3), activation='relu'),\n",
    "    MaxPooling3D(pool_size=(1,2,2), padding='same'),\n",
    "    BatchNormalization(),\n",
    "\n",
    "    Conv3D(64, make3dFilter(3), activation='relu'),\n",
    "    MaxPooling3D(pool_size=(1,2,2), padding='same'),\n",
    "    BatchNormalization(),\n",
    "\n",
    "    Flatten(),\n",
    "    Dense(128, activation='relu'),\n",
    "    BatchNormalization(),\n",
    "    Dropout(0.25),\n",
    "\n",
    "    Dense(64, activation='relu'),\n",
    "    BatchNormalization(),\n",
    "    Dropout(0.25),\n",
    "\n",
    "    Dense(5, activation='softmax')\n",
    "], name=\"conv_3d2\")\n",
    "model2.compile(optimizer=tf.keras.optimizers.Adam(), loss='categorical_crossentropy', metrics=['categorical_accuracy'])\n",
    "print(model2.summary())\n",
    "\n",
    "model2_history = model2.fit_generator(train_generator, steps_per_epoch=steps_per_epoch, epochs=num_epochs, verbose=1, \n",
    "            callbacks=callbacks_list, validation_data=val_generator, \n",
    "            validation_steps=validation_steps, class_weight=None, workers=1, initial_epoch=0)"
   ]
  },
  {
   "cell_type": "code",
   "execution_count": 32,
   "metadata": {
    "id": "dGXMP96h1zDT"
   },
   "outputs": [
    {
     "data": {
      "image/png": "[encoded data removed]",
      "text/plain": [
       "<Figure size 1080x288 with 2 Axes>"
      ]
     },
     "metadata": {
      "needs_background": "light"
     },
     "output_type": "display_data"
    },
    {
     "name": "stdout",
     "output_type": "stream",
     "text": [
      "Max. Training Accuracy 0.9572192430496216\n",
      "Max. Validaiton Accuracy 0.75\n"
     ]
    }
   ],
   "source": [
    "plotModelHistory(model2_history)"
   ]
  },
  {
   "cell_type": "markdown",
   "metadata": {
    "id": "m_-TyE8YDCnP"
   },
   "source": [
    "Reduce parameters, with padding in Conv3D layers and filter of (3,3,3)."
   ]
  },
  {
   "cell_type": "markdown",
   "metadata": {
    "id": "n_Fqznw7DwLr"
   },
   "source": [
    "### Model 3: Frames-30, Epocs-20, Reduced parameters"
   ]
  },
  {
   "cell_type": "code",
   "execution_count": 33,
   "metadata": {
    "id": "UlmHHFrL8HYu"
   },
   "outputs": [
    {
     "name": "stdout",
     "output_type": "stream",
     "text": [
      "Model: \"conv_3d3\"\n",
      "_________________________________________________________________\n",
      " Layer (type)                Output Shape              Param #   \n",
      "=================================================================\n",
      " conv3d_9 (Conv3D)           (None, 30, 100, 100, 16)  1312      \n",
      "                                                                 \n",
      " max_pooling3d_9 (MaxPooling  (None, 15, 50, 50, 16)   0         \n",
      " 3D)                                                             \n",
      "                                                                 \n",
      " batch_normalization_15 (Bat  (None, 15, 50, 50, 16)   64        \n",
      " chNormalization)                                                \n",
      "                                                                 \n",
      " conv3d_10 (Conv3D)          (None, 15, 50, 50, 32)    13856     \n",
      "                                                                 \n",
      " max_pooling3d_10 (MaxPoolin  (None, 8, 25, 25, 32)    0         \n",
      " g3D)                                                            \n",
      "                                                                 \n",
      " batch_normalization_16 (Bat  (None, 8, 25, 25, 32)    128       \n",
      " chNormalization)                                                \n",
      "                                                                 \n",
      " conv3d_11 (Conv3D)          (None, 8, 25, 25, 64)     55360     \n",
      "                                                                 \n",
      " max_pooling3d_11 (MaxPoolin  (None, 4, 13, 13, 64)    0         \n",
      " g3D)                                                            \n",
      "                                                                 \n",
      " batch_normalization_17 (Bat  (None, 4, 13, 13, 64)    256       \n",
      " chNormalization)                                                \n",
      "                                                                 \n",
      " flatten_3 (Flatten)         (None, 43264)             0         \n",
      "                                                                 \n",
      " dense_9 (Dense)             (None, 128)               5537920   \n",
      "                                                                 \n",
      " batch_normalization_18 (Bat  (None, 128)              512       \n",
      " chNormalization)                                                \n",
      "                                                                 \n",
      " dropout_6 (Dropout)         (None, 128)               0         \n",
      "                                                                 \n",
      " dense_10 (Dense)            (None, 64)                8256      \n",
      "                                                                 \n",
      " batch_normalization_19 (Bat  (None, 64)               256       \n",
      " chNormalization)                                                \n",
      "                                                                 \n",
      " dropout_7 (Dropout)         (None, 64)                0         \n",
      "                                                                 \n",
      " dense_11 (Dense)            (None, 5)                 325       \n",
      "                                                                 \n",
      "=================================================================\n",
      "Total params: 5,618,245\n",
      "Trainable params: 5,617,637\n",
      "Non-trainable params: 608\n",
      "_________________________________________________________________\n",
      "None\n",
      "Source path =  /datasets/Project_data/train ; batch size = 64\n",
      "Epoch 1/20\n",
      "11/11 [==============================] - ETA: 0s - loss: 1.3558 - categorical_accuracy: 0.5008 Source path =  /datasets/Project_data/val ; batch size = 64\n",
      "\n",
      "Epoch 00001: saving model to model_init_2022-06-1513_43_34.651809/model-00001-1.35583-0.50075-2.26058-0.26000.h5\n",
      "11/11 [==============================] - 208s 21s/step - loss: 1.3558 - categorical_accuracy: 0.5008 - val_loss: 2.2606 - val_categorical_accuracy: 0.2600 - lr: 0.0010\n",
      "Epoch 2/20\n",
      "11/11 [==============================] - ETA: 0s - loss: 0.6738 - categorical_accuracy: 0.7589\n",
      "Epoch 00002: saving model to model_init_2022-06-1513_43_34.651809/model-00002-0.67376-0.75889-1.77501-0.17188.h5\n",
      "11/11 [==============================] - 93s 9s/step - loss: 0.6738 - categorical_accuracy: 0.7589 - val_loss: 1.7750 - val_categorical_accuracy: 0.1719 - lr: 0.0010\n",
      "Epoch 3/20\n",
      "11/11 [==============================] - ETA: 0s - loss: 0.7662 - categorical_accuracy: 0.6996\n",
      "Epoch 00003: saving model to model_init_2022-06-1513_43_34.651809/model-00003-0.76619-0.69960-1.98236-0.23214.h5\n",
      "11/11 [==============================] - 86s 9s/step - loss: 0.7662 - categorical_accuracy: 0.6996 - val_loss: 1.9824 - val_categorical_accuracy: 0.2321 - lr: 0.0010\n",
      "Epoch 4/20\n",
      "11/11 [==============================] - ETA: 0s - loss: 0.6645 - categorical_accuracy: 0.7468\n",
      "Epoch 00004: saving model to model_init_2022-06-1513_43_34.651809/model-00004-0.66454-0.74678-1.79914-0.28125.h5\n",
      "11/11 [==============================] - 74s 7s/step - loss: 0.6645 - categorical_accuracy: 0.7468 - val_loss: 1.7991 - val_categorical_accuracy: 0.2812 - lr: 0.0010\n",
      "Epoch 5/20\n",
      "11/11 [==============================] - ETA: 0s - loss: 0.5629 - categorical_accuracy: 0.7799\n",
      "Epoch 00005: saving model to model_init_2022-06-1513_43_34.651809/model-00005-0.56286-0.77990-2.22211-0.12500.h5\n",
      "11/11 [==============================] - 68s 7s/step - loss: 0.5629 - categorical_accuracy: 0.7799 - val_loss: 2.2221 - val_categorical_accuracy: 0.1250 - lr: 0.0010\n",
      "Epoch 6/20\n",
      "11/11 [==============================] - ETA: 0s - loss: 0.4438 - categorical_accuracy: 0.8325\n",
      "Epoch 00006: saving model to model_init_2022-06-1513_43_34.651809/model-00006-0.44381-0.83254-2.12294-0.25000.h5\n",
      "\n",
      "Epoch 00006: ReduceLROnPlateau reducing learning rate to 0.00020000000949949026.\n",
      "11/11 [==============================] - 60s 6s/step - loss: 0.4438 - categorical_accuracy: 0.8325 - val_loss: 2.1229 - val_categorical_accuracy: 0.2500 - lr: 0.0010\n",
      "Epoch 7/20\n",
      "11/11 [==============================] - ETA: 0s - loss: 0.4734 - categorical_accuracy: 0.8276\n",
      "Epoch 00007: saving model to model_init_2022-06-1513_43_34.651809/model-00007-0.47341-0.82759-1.49598-0.37500.h5\n",
      "11/11 [==============================] - 58s 6s/step - loss: 0.4734 - categorical_accuracy: 0.8276 - val_loss: 1.4960 - val_categorical_accuracy: 0.3750 - lr: 2.0000e-04\n",
      "Epoch 8/20\n",
      "11/11 [==============================] - ETA: 0s - loss: 0.3638 - categorical_accuracy: 0.8610\n",
      "Epoch 00008: saving model to model_init_2022-06-1513_43_34.651809/model-00008-0.36382-0.86096-3.12176-0.00000.h5\n",
      "11/11 [==============================] - 54s 5s/step - loss: 0.3638 - categorical_accuracy: 0.8610 - val_loss: 3.1218 - val_categorical_accuracy: 0.0000e+00 - lr: 2.0000e-04\n",
      "Epoch 9/20\n",
      "11/11 [==============================] - ETA: 0s - loss: 0.3493 - categorical_accuracy: 0.8556\n",
      "Epoch 00009: saving model to model_init_2022-06-1513_43_34.651809/model-00009-0.34934-0.85561-2.93003-0.25000.h5\n",
      "11/11 [==============================] - 51s 5s/step - loss: 0.3493 - categorical_accuracy: 0.8556 - val_loss: 2.9300 - val_categorical_accuracy: 0.2500 - lr: 2.0000e-04\n",
      "Epoch 10/20\n",
      "11/11 [==============================] - ETA: 0s - loss: 0.3107 - categorical_accuracy: 0.8824\n",
      "Epoch 00010: saving model to model_init_2022-06-1513_43_34.651809/model-00010-0.31074-0.88235-2.82052-0.00000.h5\n",
      "11/11 [==============================] - 55s 5s/step - loss: 0.3107 - categorical_accuracy: 0.8824 - val_loss: 2.8205 - val_categorical_accuracy: 0.0000e+00 - lr: 2.0000e-04\n",
      "Epoch 11/20\n",
      "11/11 [==============================] - ETA: 0s - loss: 0.3069 - categorical_accuracy: 0.8717\n",
      "Epoch 00011: saving model to model_init_2022-06-1513_43_34.651809/model-00011-0.30686-0.87166-1.31956-0.37500.h5\n",
      "11/11 [==============================] - 53s 5s/step - loss: 0.3069 - categorical_accuracy: 0.8717 - val_loss: 1.3196 - val_categorical_accuracy: 0.3750 - lr: 2.0000e-04\n",
      "Epoch 12/20\n",
      "11/11 [==============================] - ETA: 0s - loss: 0.2770 - categorical_accuracy: 0.9251\n",
      "Epoch 00012: saving model to model_init_2022-06-1513_43_34.651809/model-00012-0.27699-0.92513-3.26440-0.12500.h5\n",
      "11/11 [==============================] - 53s 5s/step - loss: 0.2770 - categorical_accuracy: 0.9251 - val_loss: 3.2644 - val_categorical_accuracy: 0.1250 - lr: 2.0000e-04\n",
      "Epoch 13/20\n",
      "11/11 [==============================] - ETA: 0s - loss: 0.2819 - categorical_accuracy: 0.9198\n",
      "Epoch 00013: saving model to model_init_2022-06-1513_43_34.651809/model-00013-0.28186-0.91979-2.89021-0.00000.h5\n",
      "11/11 [==============================] - 57s 5s/step - loss: 0.2819 - categorical_accuracy: 0.9198 - val_loss: 2.8902 - val_categorical_accuracy: 0.0000e+00 - lr: 2.0000e-04\n",
      "Epoch 14/20\n",
      "11/11 [==============================] - ETA: 0s - loss: 0.2295 - categorical_accuracy: 0.9358\n",
      "Epoch 00014: saving model to model_init_2022-06-1513_43_34.651809/model-00014-0.22950-0.93583-2.52141-0.25000.h5\n",
      "11/11 [==============================] - 52s 5s/step - loss: 0.2295 - categorical_accuracy: 0.9358 - val_loss: 2.5214 - val_categorical_accuracy: 0.2500 - lr: 2.0000e-04\n",
      "Epoch 15/20\n",
      "11/11 [==============================] - ETA: 0s - loss: 0.1663 - categorical_accuracy: 0.9412\n",
      "Epoch 00015: saving model to model_init_2022-06-1513_43_34.651809/model-00015-0.16628-0.94118-2.53886-0.37500.h5\n",
      "\n",
      "Epoch 00015: ReduceLROnPlateau reducing learning rate to 4.0000001899898055e-05.\n",
      "11/11 [==============================] - 56s 6s/step - loss: 0.1663 - categorical_accuracy: 0.9412 - val_loss: 2.5389 - val_categorical_accuracy: 0.3750 - lr: 2.0000e-04\n",
      "Epoch 16/20\n",
      "11/11 [==============================] - ETA: 0s - loss: 0.1774 - categorical_accuracy: 0.9572\n",
      "Epoch 00016: saving model to model_init_2022-06-1513_43_34.651809/model-00016-0.17745-0.95722-2.10726-0.50000.h5\n",
      "11/11 [==============================] - 55s 5s/step - loss: 0.1774 - categorical_accuracy: 0.9572 - val_loss: 2.1073 - val_categorical_accuracy: 0.5000 - lr: 4.0000e-05\n",
      "Epoch 17/20\n",
      "11/11 [==============================] - ETA: 0s - loss: 0.1859 - categorical_accuracy: 0.9412\n",
      "Epoch 00017: saving model to model_init_2022-06-1513_43_34.651809/model-00017-0.18587-0.94118-1.98198-0.25000.h5\n",
      "11/11 [==============================] - 50s 5s/step - loss: 0.1859 - categorical_accuracy: 0.9412 - val_loss: 1.9820 - val_categorical_accuracy: 0.2500 - lr: 4.0000e-05\n",
      "Epoch 18/20\n",
      "11/11 [==============================] - ETA: 0s - loss: 0.2251 - categorical_accuracy: 0.9305\n",
      "Epoch 00018: saving model to model_init_2022-06-1513_43_34.651809/model-00018-0.22511-0.93048-2.44658-0.12500.h5\n",
      "11/11 [==============================] - 54s 5s/step - loss: 0.2251 - categorical_accuracy: 0.9305 - val_loss: 2.4466 - val_categorical_accuracy: 0.1250 - lr: 4.0000e-05\n",
      "Epoch 19/20\n",
      "11/11 [==============================] - ETA: 0s - loss: 0.1666 - categorical_accuracy: 0.9733\n",
      "Epoch 00019: saving model to model_init_2022-06-1513_43_34.651809/model-00019-0.16664-0.97326-1.59896-0.62500.h5\n",
      "\n",
      "Epoch 00019: ReduceLROnPlateau reducing learning rate to 8.000000525498762e-06.\n",
      "11/11 [==============================] - 55s 5s/step - loss: 0.1666 - categorical_accuracy: 0.9733 - val_loss: 1.5990 - val_categorical_accuracy: 0.6250 - lr: 4.0000e-05\n",
      "Epoch 20/20\n",
      "11/11 [==============================] - ETA: 0s - loss: 0.1696 - categorical_accuracy: 0.9572\n",
      "Epoch 00020: saving model to model_init_2022-06-1513_43_34.651809/model-00020-0.16956-0.95722-2.73592-0.25000.h5\n",
      "11/11 [==============================] - 56s 6s/step - loss: 0.1696 - categorical_accuracy: 0.9572 - val_loss: 2.7359 - val_categorical_accuracy: 0.2500 - lr: 8.0000e-06\n"
     ]
    }
   ],
   "source": [
    "n_frames = 30\n",
    "num_epochs = 20\n",
    "batch_size = 64\n",
    "\n",
    "img_tensor = getImgTensor(n_frames)\n",
    "train_generator = generator(train_path, train_doc, batch_size, img_tensor)\n",
    "val_generator = generator(val_path, val_doc, batch_size, img_tensor)\n",
    "\n",
    "if (num_train_sequences%batch_size) == 0:\n",
    "    steps_per_epoch = int(num_train_sequences/batch_size)\n",
    "else:\n",
    "    steps_per_epoch = (num_train_sequences//batch_size) + 1\n",
    "\n",
    "if (num_val_sequences%batch_size) == 0:\n",
    "    validation_steps = int(num_val_sequences/batch_size)\n",
    "else:\n",
    "    validation_steps = (num_val_sequences//batch_size) + 1\n",
    "    \n",
    "inputShape = (len(img_tensor[0]), img_tensor[1], img_tensor[2], img_tensor[3])\n",
    "\n",
    "model3 = Sequential([\n",
    "    Conv3D(16, make3dFilter(3), padding='same', activation='relu', input_shape=inputShape),\n",
    "    MaxPooling3D(make3dFilter(2), padding='same'),\n",
    "    BatchNormalization(),\n",
    "\n",
    "    Conv3D(32, make3dFilter(3), padding='same', activation='relu'),\n",
    "    MaxPooling3D(pool_size=(2), padding='same'),\n",
    "    BatchNormalization(),\n",
    "\n",
    "    Conv3D(64, make3dFilter(3), padding='same', activation='relu'),\n",
    "    MaxPooling3D(pool_size=(2), padding='same'),\n",
    "    BatchNormalization(),\n",
    "\n",
    "    Flatten(),\n",
    "    Dense(128, activation='relu'),\n",
    "    BatchNormalization(),\n",
    "    Dropout(0.25),\n",
    "\n",
    "    Dense(64, activation='relu'),\n",
    "    BatchNormalization(),\n",
    "    Dropout(0.25),\n",
    "\n",
    "    Dense(5, activation='softmax')\n",
    "], name=\"conv_3d3\")\n",
    "model3.compile(optimizer=tf.keras.optimizers.Adam(), loss='categorical_crossentropy', metrics=['categorical_accuracy'])\n",
    "print(model3.summary())\n",
    "\n",
    "model3_history = model3.fit_generator(train_generator, steps_per_epoch=steps_per_epoch, epochs=num_epochs, verbose=1, \n",
    "            callbacks=callbacks_list, validation_data=val_generator, \n",
    "            validation_steps=validation_steps, class_weight=None, workers=1, initial_epoch=0)"
   ]
  },
  {
   "cell_type": "code",
   "execution_count": 34,
   "metadata": {
    "id": "axo5ACbypIHV"
   },
   "outputs": [
    {
     "data": {
      "image/png": "[encoded data removed]",
      "text/plain": [
       "<Figure size 1080x288 with 2 Axes>"
      ]
     },
     "metadata": {
      "needs_background": "light"
     },
     "output_type": "display_data"
    },
    {
     "name": "stdout",
     "output_type": "stream",
     "text": [
      "Max. Training Accuracy 0.9732620120048523\n",
      "Max. Validaiton Accuracy 0.625\n"
     ]
    }
   ],
   "source": [
    "plotModelHistory(model3_history)"
   ]
  },
  {
   "cell_type": "markdown",
   "metadata": {
    "id": "50alkFqTbYVq"
   },
   "source": [
    "### Model 4: Frames-20, Same pooling in Conv3D layer"
   ]
  },
  {
   "cell_type": "code",
   "execution_count": 35,
   "metadata": {
    "id": "kR92LCmTBQCD"
   },
   "outputs": [
    {
     "name": "stdout",
     "output_type": "stream",
     "text": [
      "Model: \"conv_3d4\"\n",
      "_________________________________________________________________\n",
      " Layer (type)                Output Shape              Param #   \n",
      "=================================================================\n",
      " conv3d_12 (Conv3D)          (None, 20, 100, 100, 16)  1312      \n",
      "                                                                 \n",
      " max_pooling3d_12 (MaxPoolin  (None, 10, 50, 50, 16)   0         \n",
      " g3D)                                                            \n",
      "                                                                 \n",
      " batch_normalization_20 (Bat  (None, 10, 50, 50, 16)   64        \n",
      " chNormalization)                                                \n",
      "                                                                 \n",
      " conv3d_13 (Conv3D)          (None, 10, 50, 50, 32)    13856     \n",
      "                                                                 \n",
      " max_pooling3d_13 (MaxPoolin  (None, 5, 25, 25, 32)    0         \n",
      " g3D)                                                            \n",
      "                                                                 \n",
      " batch_normalization_21 (Bat  (None, 5, 25, 25, 32)    128       \n",
      " chNormalization)                                                \n",
      "                                                                 \n",
      " conv3d_14 (Conv3D)          (None, 5, 25, 25, 64)     55360     \n",
      "                                                                 \n",
      " max_pooling3d_14 (MaxPoolin  (None, 3, 13, 13, 64)    0         \n",
      " g3D)                                                            \n",
      "                                                                 \n",
      " batch_normalization_22 (Bat  (None, 3, 13, 13, 64)    256       \n",
      " chNormalization)                                                \n",
      "                                                                 \n",
      " conv3d_15 (Conv3D)          (None, 3, 13, 13, 128)    221312    \n",
      "                                                                 \n",
      " max_pooling3d_15 (MaxPoolin  (None, 2, 7, 7, 128)     0         \n",
      " g3D)                                                            \n",
      "                                                                 \n",
      " batch_normalization_23 (Bat  (None, 2, 7, 7, 128)     512       \n",
      " chNormalization)                                                \n",
      "                                                                 \n",
      " flatten_4 (Flatten)         (None, 12544)             0         \n",
      "                                                                 \n",
      " dense_12 (Dense)            (None, 128)               1605760   \n",
      "                                                                 \n",
      " batch_normalization_24 (Bat  (None, 128)              512       \n",
      " chNormalization)                                                \n",
      "                                                                 \n",
      " dropout_8 (Dropout)         (None, 128)               0         \n",
      "                                                                 \n",
      " dense_13 (Dense)            (None, 64)                8256      \n",
      "                                                                 \n",
      " batch_normalization_25 (Bat  (None, 64)               256       \n",
      " chNormalization)                                                \n",
      "                                                                 \n",
      " dropout_9 (Dropout)         (None, 64)                0         \n",
      "                                                                 \n",
      " dense_14 (Dense)            (None, 5)                 325       \n",
      "                                                                 \n",
      "=================================================================\n",
      "Total params: 1,907,909\n",
      "Trainable params: 1,907,045\n",
      "Non-trainable params: 864\n",
      "_________________________________________________________________\n",
      "None\n",
      "Source path =  /datasets/Project_data/train ; batch size = 64\n",
      "Epoch 1/20\n",
      "11/11 [==============================] - ETA: 0s - loss: 1.4903 - categorical_accuracy: 0.4540 Source path =  /datasets/Project_data/val ; batch size = 64\n",
      "\n",
      "Epoch 00001: saving model to model_init_2022-06-1513_43_34.651809/model-00001-1.49031-0.45400-1.51422-0.26000.h5\n",
      "11/11 [==============================] - 145s 14s/step - loss: 1.4903 - categorical_accuracy: 0.4540 - val_loss: 1.5142 - val_categorical_accuracy: 0.2600 - lr: 0.0010\n",
      "Epoch 2/20\n",
      "11/11 [==============================] - ETA: 0s - loss: 0.8331 - categorical_accuracy: 0.6798\n",
      "Epoch 00002: saving model to model_init_2022-06-1513_43_34.651809/model-00002-0.83309-0.67984-1.72098-0.29688.h5\n",
      "11/11 [==============================] - 63s 6s/step - loss: 0.8331 - categorical_accuracy: 0.6798 - val_loss: 1.7210 - val_categorical_accuracy: 0.2969 - lr: 0.0010\n",
      "Epoch 3/20\n",
      "11/11 [==============================] - ETA: 0s - loss: 0.8421 - categorical_accuracy: 0.6759\n",
      "Epoch 00003: saving model to model_init_2022-06-1513_43_34.651809/model-00003-0.84207-0.67589-2.36301-0.17857.h5\n",
      "11/11 [==============================] - 61s 6s/step - loss: 0.8421 - categorical_accuracy: 0.6759 - val_loss: 2.3630 - val_categorical_accuracy: 0.1786 - lr: 0.0010\n",
      "Epoch 4/20\n",
      "11/11 [==============================] - ETA: 0s - loss: 0.7257 - categorical_accuracy: 0.7468\n",
      "Epoch 00004: saving model to model_init_2022-06-1513_43_34.651809/model-00004-0.72571-0.74678-2.70866-0.09375.h5\n",
      "11/11 [==============================] - 48s 5s/step - loss: 0.7257 - categorical_accuracy: 0.7468 - val_loss: 2.7087 - val_categorical_accuracy: 0.0938 - lr: 0.0010\n",
      "Epoch 5/20\n",
      "11/11 [==============================] - ETA: 0s - loss: 0.6558 - categorical_accuracy: 0.7464\n",
      "Epoch 00005: saving model to model_init_2022-06-1513_43_34.651809/model-00005-0.65583-0.74641-2.60408-0.25000.h5\n",
      "\n",
      "Epoch 00005: ReduceLROnPlateau reducing learning rate to 0.00020000000949949026.\n",
      "11/11 [==============================] - 48s 5s/step - loss: 0.6558 - categorical_accuracy: 0.7464 - val_loss: 2.6041 - val_categorical_accuracy: 0.2500 - lr: 0.0010\n",
      "Epoch 6/20\n",
      "11/11 [==============================] - ETA: 0s - loss: 0.6180 - categorical_accuracy: 0.7560\n",
      "Epoch 00006: saving model to model_init_2022-06-1513_43_34.651809/model-00006-0.61798-0.75598-3.18038-0.00000.h5\n",
      "11/11 [==============================] - 37s 4s/step - loss: 0.6180 - categorical_accuracy: 0.7560 - val_loss: 3.1804 - val_categorical_accuracy: 0.0000e+00 - lr: 2.0000e-04\n",
      "Epoch 7/20\n",
      "11/11 [==============================] - ETA: 0s - loss: 0.4932 - categorical_accuracy: 0.8374\n",
      "Epoch 00007: saving model to model_init_2022-06-1513_43_34.651809/model-00007-0.49316-0.83744-2.89194-0.25000.h5\n",
      "11/11 [==============================] - 40s 4s/step - loss: 0.4932 - categorical_accuracy: 0.8374 - val_loss: 2.8919 - val_categorical_accuracy: 0.2500 - lr: 2.0000e-04\n",
      "Epoch 8/20\n",
      "11/11 [==============================] - ETA: 0s - loss: 0.3080 - categorical_accuracy: 0.8930\n",
      "Epoch 00008: saving model to model_init_2022-06-1513_43_34.651809/model-00008-0.30800-0.89305-3.63890-0.12500.h5\n",
      "11/11 [==============================] - 34s 3s/step - loss: 0.3080 - categorical_accuracy: 0.8930 - val_loss: 3.6389 - val_categorical_accuracy: 0.1250 - lr: 2.0000e-04\n",
      "Epoch 9/20\n",
      "11/11 [==============================] - ETA: 0s - loss: 0.4269 - categorical_accuracy: 0.8235\n",
      "Epoch 00009: saving model to model_init_2022-06-1513_43_34.651809/model-00009-0.42694-0.82353-3.99733-0.25000.h5\n",
      "\n",
      "Epoch 00009: ReduceLROnPlateau reducing learning rate to 4.0000001899898055e-05.\n",
      "11/11 [==============================] - 38s 4s/step - loss: 0.4269 - categorical_accuracy: 0.8235 - val_loss: 3.9973 - val_categorical_accuracy: 0.2500 - lr: 2.0000e-04\n",
      "Epoch 10/20\n",
      "11/11 [==============================] - ETA: 0s - loss: 0.3002 - categorical_accuracy: 0.9091\n",
      "Epoch 00010: saving model to model_init_2022-06-1513_43_34.651809/model-00010-0.30021-0.90909-4.06901-0.00000.h5\n",
      "11/11 [==============================] - 33s 3s/step - loss: 0.3002 - categorical_accuracy: 0.9091 - val_loss: 4.0690 - val_categorical_accuracy: 0.0000e+00 - lr: 4.0000e-05\n",
      "Epoch 11/20\n",
      "11/11 [==============================] - ETA: 0s - loss: 0.2909 - categorical_accuracy: 0.8930\n",
      "Epoch 00011: saving model to model_init_2022-06-1513_43_34.651809/model-00011-0.29088-0.89305-2.85744-0.25000.h5\n",
      "11/11 [==============================] - 36s 4s/step - loss: 0.2909 - categorical_accuracy: 0.8930 - val_loss: 2.8574 - val_categorical_accuracy: 0.2500 - lr: 4.0000e-05\n",
      "Epoch 12/20\n",
      "11/11 [==============================] - ETA: 0s - loss: 0.2983 - categorical_accuracy: 0.8824\n",
      "Epoch 00012: saving model to model_init_2022-06-1513_43_34.651809/model-00012-0.29828-0.88235-3.80698-0.12500.h5\n",
      "11/11 [==============================] - 36s 4s/step - loss: 0.2983 - categorical_accuracy: 0.8824 - val_loss: 3.8070 - val_categorical_accuracy: 0.1250 - lr: 4.0000e-05\n",
      "Epoch 13/20\n",
      "11/11 [==============================] - ETA: 0s - loss: 0.3443 - categorical_accuracy: 0.8877\n",
      "Epoch 00013: saving model to model_init_2022-06-1513_43_34.651809/model-00013-0.34426-0.88770-3.89890-0.25000.h5\n",
      "\n",
      "Epoch 00013: ReduceLROnPlateau reducing learning rate to 8.000000525498762e-06.\n",
      "11/11 [==============================] - 35s 3s/step - loss: 0.3443 - categorical_accuracy: 0.8877 - val_loss: 3.8989 - val_categorical_accuracy: 0.2500 - lr: 4.0000e-05\n",
      "Epoch 14/20\n",
      "11/11 [==============================] - ETA: 0s - loss: 0.2687 - categorical_accuracy: 0.9198\n",
      "Epoch 00014: saving model to model_init_2022-06-1513_43_34.651809/model-00014-0.26869-0.91979-3.13321-0.37500.h5\n",
      "11/11 [==============================] - 34s 3s/step - loss: 0.2687 - categorical_accuracy: 0.9198 - val_loss: 3.1332 - val_categorical_accuracy: 0.3750 - lr: 8.0000e-06\n",
      "Epoch 15/20\n",
      "11/11 [==============================] - ETA: 0s - loss: 0.2415 - categorical_accuracy: 0.9251\n",
      "Epoch 00015: saving model to model_init_2022-06-1513_43_34.651809/model-00015-0.24145-0.92513-2.87955-0.25000.h5\n",
      "11/11 [==============================] - 35s 3s/step - loss: 0.2415 - categorical_accuracy: 0.9251 - val_loss: 2.8795 - val_categorical_accuracy: 0.2500 - lr: 8.0000e-06\n",
      "Epoch 16/20\n",
      "11/11 [==============================] - ETA: 0s - loss: 0.3005 - categorical_accuracy: 0.8930\n",
      "Epoch 00016: saving model to model_init_2022-06-1513_43_34.651809/model-00016-0.30048-0.89305-3.83036-0.12500.h5\n",
      "11/11 [==============================] - 36s 4s/step - loss: 0.3005 - categorical_accuracy: 0.8930 - val_loss: 3.8304 - val_categorical_accuracy: 0.1250 - lr: 8.0000e-06\n",
      "Epoch 17/20\n",
      "11/11 [==============================] - ETA: 0s - loss: 0.3151 - categorical_accuracy: 0.8984\n",
      "Epoch 00017: saving model to model_init_2022-06-1513_43_34.651809/model-00017-0.31514-0.89840-3.74624-0.12500.h5\n",
      "\n",
      "Epoch 00017: ReduceLROnPlateau reducing learning rate to 1.6000001778593287e-06.\n",
      "11/11 [==============================] - 33s 3s/step - loss: 0.3151 - categorical_accuracy: 0.8984 - val_loss: 3.7462 - val_categorical_accuracy: 0.1250 - lr: 8.0000e-06\n",
      "Epoch 18/20\n",
      "11/11 [==============================] - ETA: 0s - loss: 0.3056 - categorical_accuracy: 0.8717\n",
      "Epoch 00018: saving model to model_init_2022-06-1513_43_34.651809/model-00018-0.30556-0.87166-3.01622-0.25000.h5\n",
      "11/11 [==============================] - 32s 3s/step - loss: 0.3056 - categorical_accuracy: 0.8717 - val_loss: 3.0162 - val_categorical_accuracy: 0.2500 - lr: 1.6000e-06\n",
      "Epoch 19/20\n",
      "11/11 [==============================] - ETA: 0s - loss: 0.2948 - categorical_accuracy: 0.9198\n",
      "Epoch 00019: saving model to model_init_2022-06-1513_43_34.651809/model-00019-0.29477-0.91979-3.29515-0.25000.h5\n",
      "11/11 [==============================] - 37s 4s/step - loss: 0.2948 - categorical_accuracy: 0.9198 - val_loss: 3.2951 - val_categorical_accuracy: 0.2500 - lr: 1.6000e-06\n",
      "Epoch 20/20\n",
      "11/11 [==============================] - ETA: 0s - loss: 0.2734 - categorical_accuracy: 0.9198\n",
      "Epoch 00020: saving model to model_init_2022-06-1513_43_34.651809/model-00020-0.27344-0.91979-3.98606-0.12500.h5\n",
      "11/11 [==============================] - 33s 3s/step - loss: 0.2734 - categorical_accuracy: 0.9198 - val_loss: 3.9861 - val_categorical_accuracy: 0.1250 - lr: 1.6000e-06\n"
     ]
    }
   ],
   "source": [
    "n_frames = 20\n",
    "num_epochs = 20\n",
    "batch_size = 64\n",
    "\n",
    "img_tensor = getImgTensor(n_frames)\n",
    "train_generator = generator(train_path, train_doc, batch_size, img_tensor)\n",
    "val_generator = generator(val_path, val_doc, batch_size, img_tensor)\n",
    "\n",
    "if (num_train_sequences%batch_size) == 0:\n",
    "    steps_per_epoch = int(num_train_sequences/batch_size)\n",
    "else:\n",
    "    steps_per_epoch = (num_train_sequences//batch_size) + 1\n",
    "\n",
    "if (num_val_sequences%batch_size) == 0:\n",
    "    validation_steps = int(num_val_sequences/batch_size)\n",
    "else:\n",
    "    validation_steps = (num_val_sequences//batch_size) + 1\n",
    "    \n",
    "inputShape = (len(img_tensor[0]), img_tensor[1], img_tensor[2], img_tensor[3])\n",
    "\n",
    "model4 = Sequential([\n",
    "    Conv3D(16, make3dFilter(3), padding='same', activation='relu', input_shape=inputShape),\n",
    "    MaxPooling3D(make3dFilter(2), padding='same'),\n",
    "    BatchNormalization(),\n",
    "\n",
    "    Conv3D(32, make3dFilter(3), padding='same', activation='relu'),\n",
    "    MaxPooling3D(pool_size=(2), padding='same'),\n",
    "    BatchNormalization(),\n",
    "\n",
    "    Conv3D(64, make3dFilter(3), padding='same', activation='relu'),\n",
    "    MaxPooling3D(pool_size=(2), padding='same'),\n",
    "    BatchNormalization(),\n",
    "\n",
    "    Conv3D(128, make3dFilter(3), padding='same', activation='relu'),\n",
    "    MaxPooling3D(pool_size=(2), padding='same'),\n",
    "    BatchNormalization(),\n",
    "\n",
    "    Flatten(),\n",
    "    Dense(128, activation='relu'),\n",
    "    BatchNormalization(),\n",
    "    Dropout(0.25),\n",
    "\n",
    "    Dense(64, activation='relu'),\n",
    "    BatchNormalization(),\n",
    "    Dropout(0.25),\n",
    "\n",
    "    Dense(5, activation='softmax')\n",
    "], name=\"conv_3d4\")\n",
    "model4.compile(optimizer=tf.keras.optimizers.Adam(), loss='categorical_crossentropy', metrics=['categorical_accuracy'])\n",
    "print(model4.summary())\n",
    "\n",
    "model4_history = model4.fit_generator(train_generator, steps_per_epoch=steps_per_epoch, epochs=num_epochs, verbose=1, \n",
    "            callbacks=callbacks_list, validation_data=val_generator, \n",
    "            validation_steps=validation_steps, class_weight=None, workers=1, initial_epoch=0)"
   ]
  },
  {
   "cell_type": "code",
   "execution_count": 36,
   "metadata": {
    "id": "1gmxGiR8pIHW"
   },
   "outputs": [
    {
     "data": {
      "image/png": "[encoded data removed]",
      "text/plain": [
       "<Figure size 1080x288 with 2 Axes>"
      ]
     },
     "metadata": {
      "needs_background": "light"
     },
     "output_type": "display_data"
    },
    {
     "name": "stdout",
     "output_type": "stream",
     "text": [
      "Max. Training Accuracy 0.9251337051391602\n",
      "Max. Validaiton Accuracy 0.375\n"
     ]
    }
   ],
   "source": [
    "plotModelHistory(model4_history)"
   ]
  },
  {
   "cell_type": "markdown",
   "metadata": {
    "id": "jd5Nr0nUaR8X"
   },
   "source": [
    "### Model 5: Frames:20, Epocs-20, BS-64, reduced kernel to (2,2,2), switching BatchNormalization before MaxPooling."
   ]
  },
  {
   "cell_type": "code",
   "execution_count": 37,
   "metadata": {
    "id": "wuKTh7-yHs13"
   },
   "outputs": [
    {
     "name": "stdout",
     "output_type": "stream",
     "text": [
      "Model: \"conv_3d5\"\n",
      "_________________________________________________________________\n",
      " Layer (type)                Output Shape              Param #   \n",
      "=================================================================\n",
      " conv3d_16 (Conv3D)          (None, 20, 100, 100, 16)  400       \n",
      "                                                                 \n",
      " batch_normalization_26 (Bat  (None, 20, 100, 100, 16)  64       \n",
      " chNormalization)                                                \n",
      "                                                                 \n",
      " max_pooling3d_16 (MaxPoolin  (None, 10, 50, 50, 16)   0         \n",
      " g3D)                                                            \n",
      "                                                                 \n",
      " conv3d_17 (Conv3D)          (None, 10, 50, 50, 32)    4128      \n",
      "                                                                 \n",
      " batch_normalization_27 (Bat  (None, 10, 50, 50, 32)   128       \n",
      " chNormalization)                                                \n",
      "                                                                 \n",
      " max_pooling3d_17 (MaxPoolin  (None, 5, 25, 25, 32)    0         \n",
      " g3D)                                                            \n",
      "                                                                 \n",
      " conv3d_18 (Conv3D)          (None, 5, 25, 25, 64)     16448     \n",
      "                                                                 \n",
      " batch_normalization_28 (Bat  (None, 5, 25, 25, 64)    256       \n",
      " chNormalization)                                                \n",
      "                                                                 \n",
      " max_pooling3d_18 (MaxPoolin  (None, 2, 12, 12, 64)    0         \n",
      " g3D)                                                            \n",
      "                                                                 \n",
      " conv3d_19 (Conv3D)          (None, 2, 12, 12, 128)    65664     \n",
      "                                                                 \n",
      " batch_normalization_29 (Bat  (None, 2, 12, 12, 128)   512       \n",
      " chNormalization)                                                \n",
      "                                                                 \n",
      " max_pooling3d_19 (MaxPoolin  (None, 1, 6, 6, 128)     0         \n",
      " g3D)                                                            \n",
      "                                                                 \n",
      " flatten_5 (Flatten)         (None, 4608)              0         \n",
      "                                                                 \n",
      " dense_15 (Dense)            (None, 256)               1179904   \n",
      "                                                                 \n",
      " dense_16 (Dense)            (None, 128)               32896     \n",
      "                                                                 \n",
      " dense_17 (Dense)            (None, 5)                 645       \n",
      "                                                                 \n",
      "=================================================================\n",
      "Total params: 1,301,045\n",
      "Trainable params: 1,300,565\n",
      "Non-trainable params: 480\n",
      "_________________________________________________________________\n",
      "None\n",
      "Source path =  /datasets/Project_data/train ; batch size = 64\n",
      "Epoch 1/20\n",
      "11/11 [==============================] - ETA: 0s - loss: 3.5150 - categorical_accuracy: 0.3228 Source path =  /datasets/Project_data/val ; batch size = 64\n",
      "\n",
      "Epoch 00001: saving model to model_init_2022-06-1513_43_34.651809/model-00001-3.51496-0.32278-1.55711-0.17000.h5\n",
      "11/11 [==============================] - 141s 14s/step - loss: 3.5150 - categorical_accuracy: 0.3228 - val_loss: 1.5571 - val_categorical_accuracy: 0.1700 - lr: 0.0010\n",
      "Epoch 2/20\n",
      "11/11 [==============================] - ETA: 0s - loss: 1.1257 - categorical_accuracy: 0.5652\n",
      "Epoch 00002: saving model to model_init_2022-06-1513_43_34.651809/model-00002-1.12569-0.56522-1.70886-0.17188.h5\n",
      "11/11 [==============================] - 63s 6s/step - loss: 1.1257 - categorical_accuracy: 0.5652 - val_loss: 1.7089 - val_categorical_accuracy: 0.1719 - lr: 0.0010\n",
      "Epoch 3/20\n",
      "11/11 [==============================] - ETA: 0s - loss: 0.8831 - categorical_accuracy: 0.7036\n",
      "Epoch 00003: saving model to model_init_2022-06-1513_43_34.651809/model-00003-0.88306-0.70356-3.07279-0.17857.h5\n",
      "11/11 [==============================] - 58s 6s/step - loss: 0.8831 - categorical_accuracy: 0.7036 - val_loss: 3.0728 - val_categorical_accuracy: 0.1786 - lr: 0.0010\n",
      "Epoch 4/20\n",
      "11/11 [==============================] - ETA: 0s - loss: 0.7089 - categorical_accuracy: 0.7425\n",
      "Epoch 00004: saving model to model_init_2022-06-1513_43_34.651809/model-00004-0.70891-0.74249-4.22846-0.18750.h5\n",
      "11/11 [==============================] - 50s 5s/step - loss: 0.7089 - categorical_accuracy: 0.7425 - val_loss: 4.2285 - val_categorical_accuracy: 0.1875 - lr: 0.0010\n",
      "Epoch 5/20\n",
      "11/11 [==============================] - ETA: 0s - loss: 0.4750 - categorical_accuracy: 0.8038\n",
      "Epoch 00005: saving model to model_init_2022-06-1513_43_34.651809/model-00005-0.47501-0.80383-3.74384-0.18750.h5\n",
      "\n",
      "Epoch 00005: ReduceLROnPlateau reducing learning rate to 0.00020000000949949026.\n",
      "11/11 [==============================] - 46s 5s/step - loss: 0.4750 - categorical_accuracy: 0.8038 - val_loss: 3.7438 - val_categorical_accuracy: 0.1875 - lr: 0.0010\n",
      "Epoch 6/20\n",
      "11/11 [==============================] - ETA: 0s - loss: 0.4853 - categorical_accuracy: 0.8134\n",
      "Epoch 00006: saving model to model_init_2022-06-1513_43_34.651809/model-00006-0.48527-0.81340-5.77042-0.12500.h5\n",
      "11/11 [==============================] - 35s 4s/step - loss: 0.4853 - categorical_accuracy: 0.8134 - val_loss: 5.7704 - val_categorical_accuracy: 0.1250 - lr: 2.0000e-04\n",
      "Epoch 7/20\n",
      "11/11 [==============================] - ETA: 0s - loss: 0.3454 - categorical_accuracy: 0.8621\n",
      "Epoch 00007: saving model to model_init_2022-06-1513_43_34.651809/model-00007-0.34536-0.86207-3.29111-0.37500.h5\n",
      "11/11 [==============================] - 37s 4s/step - loss: 0.3454 - categorical_accuracy: 0.8621 - val_loss: 3.2911 - val_categorical_accuracy: 0.3750 - lr: 2.0000e-04\n",
      "Epoch 8/20\n",
      "11/11 [==============================] - ETA: 0s - loss: 0.2732 - categorical_accuracy: 0.8877\n",
      "Epoch 00008: saving model to model_init_2022-06-1513_43_34.651809/model-00008-0.27321-0.88770-8.08948-0.12500.h5\n",
      "11/11 [==============================] - 34s 3s/step - loss: 0.2732 - categorical_accuracy: 0.8877 - val_loss: 8.0895 - val_categorical_accuracy: 0.1250 - lr: 2.0000e-04\n",
      "Epoch 9/20\n",
      "11/11 [==============================] - ETA: 0s - loss: 0.1779 - categorical_accuracy: 0.9465\n",
      "Epoch 00009: saving model to model_init_2022-06-1513_43_34.651809/model-00009-0.17788-0.94652-6.76678-0.00000.h5\n",
      "\n",
      "Epoch 00009: ReduceLROnPlateau reducing learning rate to 4.0000001899898055e-05.\n",
      "11/11 [==============================] - 36s 3s/step - loss: 0.1779 - categorical_accuracy: 0.9465 - val_loss: 6.7668 - val_categorical_accuracy: 0.0000e+00 - lr: 2.0000e-04\n",
      "Epoch 10/20\n",
      "11/11 [==============================] - ETA: 0s - loss: 0.1860 - categorical_accuracy: 0.9465\n",
      "Epoch 00010: saving model to model_init_2022-06-1513_43_34.651809/model-00010-0.18604-0.94652-7.07170-0.25000.h5\n",
      "11/11 [==============================] - 35s 3s/step - loss: 0.1860 - categorical_accuracy: 0.9465 - val_loss: 7.0717 - val_categorical_accuracy: 0.2500 - lr: 4.0000e-05\n",
      "Epoch 11/20\n",
      "11/11 [==============================] - ETA: 0s - loss: 0.1797 - categorical_accuracy: 0.9519\n",
      "Epoch 00011: saving model to model_init_2022-06-1513_43_34.651809/model-00011-0.17972-0.95187-5.43609-0.12500.h5\n",
      "11/11 [==============================] - 35s 3s/step - loss: 0.1797 - categorical_accuracy: 0.9519 - val_loss: 5.4361 - val_categorical_accuracy: 0.1250 - lr: 4.0000e-05\n",
      "Epoch 12/20\n",
      "11/11 [==============================] - ETA: 0s - loss: 0.1371 - categorical_accuracy: 0.9626\n",
      "Epoch 00012: saving model to model_init_2022-06-1513_43_34.651809/model-00012-0.13713-0.96257-8.29578-0.00000.h5\n",
      "11/11 [==============================] - 35s 3s/step - loss: 0.1371 - categorical_accuracy: 0.9626 - val_loss: 8.2958 - val_categorical_accuracy: 0.0000e+00 - lr: 4.0000e-05\n",
      "Epoch 13/20\n",
      "11/11 [==============================] - ETA: 0s - loss: 0.1455 - categorical_accuracy: 0.9679\n",
      "Epoch 00013: saving model to model_init_2022-06-1513_43_34.651809/model-00013-0.14555-0.96791-7.56180-0.12500.h5\n",
      "\n",
      "Epoch 00013: ReduceLROnPlateau reducing learning rate to 8.000000525498762e-06.\n",
      "11/11 [==============================] - 35s 4s/step - loss: 0.1455 - categorical_accuracy: 0.9679 - val_loss: 7.5618 - val_categorical_accuracy: 0.1250 - lr: 4.0000e-05\n",
      "Epoch 14/20\n",
      "11/11 [==============================] - ETA: 0s - loss: 0.1360 - categorical_accuracy: 0.9572\n",
      "Epoch 00014: saving model to model_init_2022-06-1513_43_34.651809/model-00014-0.13599-0.95722-6.58168-0.00000.h5\n",
      "11/11 [==============================] - 34s 3s/step - loss: 0.1360 - categorical_accuracy: 0.9572 - val_loss: 6.5817 - val_categorical_accuracy: 0.0000e+00 - lr: 8.0000e-06\n",
      "Epoch 15/20\n",
      "11/11 [==============================] - ETA: 0s - loss: 0.1709 - categorical_accuracy: 0.9465\n",
      "Epoch 00015: saving model to model_init_2022-06-1513_43_34.651809/model-00015-0.17088-0.94652-6.90553-0.12500.h5\n",
      "11/11 [==============================] - 37s 3s/step - loss: 0.1709 - categorical_accuracy: 0.9465 - val_loss: 6.9055 - val_categorical_accuracy: 0.1250 - lr: 8.0000e-06\n",
      "Epoch 16/20\n",
      "11/11 [==============================] - ETA: 0s - loss: 0.1249 - categorical_accuracy: 0.9733\n",
      "Epoch 00016: saving model to model_init_2022-06-1513_43_34.651809/model-00016-0.12490-0.97326-4.20111-0.25000.h5\n",
      "11/11 [==============================] - 33s 3s/step - loss: 0.1249 - categorical_accuracy: 0.9733 - val_loss: 4.2011 - val_categorical_accuracy: 0.2500 - lr: 8.0000e-06\n",
      "Epoch 17/20\n",
      "11/11 [==============================] - ETA: 0s - loss: 0.1363 - categorical_accuracy: 0.9733\n",
      "Epoch 00017: saving model to model_init_2022-06-1513_43_34.651809/model-00017-0.13631-0.97326-4.89685-0.12500.h5\n",
      "\n",
      "Epoch 00017: ReduceLROnPlateau reducing learning rate to 1.6000001778593287e-06.\n",
      "11/11 [==============================] - 37s 4s/step - loss: 0.1363 - categorical_accuracy: 0.9733 - val_loss: 4.8968 - val_categorical_accuracy: 0.1250 - lr: 8.0000e-06\n",
      "Epoch 18/20\n",
      "11/11 [==============================] - ETA: 0s - loss: 0.1203 - categorical_accuracy: 0.9947\n",
      "Epoch 00018: saving model to model_init_2022-06-1513_43_34.651809/model-00018-0.12027-0.99465-5.19961-0.00000.h5\n",
      "11/11 [==============================] - 34s 3s/step - loss: 0.1203 - categorical_accuracy: 0.9947 - val_loss: 5.1996 - val_categorical_accuracy: 0.0000e+00 - lr: 1.6000e-06\n",
      "Epoch 19/20\n",
      "11/11 [==============================] - ETA: 0s - loss: 0.1074 - categorical_accuracy: 0.9840\n",
      "Epoch 00019: saving model to model_init_2022-06-1513_43_34.651809/model-00019-0.10740-0.98396-3.43307-0.25000.h5\n",
      "11/11 [==============================] - 34s 3s/step - loss: 0.1074 - categorical_accuracy: 0.9840 - val_loss: 3.4331 - val_categorical_accuracy: 0.2500 - lr: 1.6000e-06\n",
      "Epoch 20/20\n",
      "11/11 [==============================] - ETA: 0s - loss: 0.1268 - categorical_accuracy: 0.9786\n",
      "Epoch 00020: saving model to model_init_2022-06-1513_43_34.651809/model-00020-0.12682-0.97861-4.50954-0.25000.h5\n",
      "11/11 [==============================] - 35s 3s/step - loss: 0.1268 - categorical_accuracy: 0.9786 - val_loss: 4.5095 - val_categorical_accuracy: 0.2500 - lr: 1.6000e-06\n"
     ]
    }
   ],
   "source": [
    "n_frames = 20\n",
    "num_epochs = 20\n",
    "batch_size = 64\n",
    "\n",
    "img_tensor = getImgTensor(n_frames)\n",
    "train_generator = generator(train_path, train_doc, batch_size, img_tensor)\n",
    "val_generator = generator(val_path, val_doc, batch_size, img_tensor)\n",
    "\n",
    "if (num_train_sequences%batch_size) == 0:\n",
    "    steps_per_epoch = int(num_train_sequences/batch_size)\n",
    "else:\n",
    "    steps_per_epoch = (num_train_sequences//batch_size) + 1\n",
    "\n",
    "if (num_val_sequences%batch_size) == 0:\n",
    "    validation_steps = int(num_val_sequences/batch_size)\n",
    "else:\n",
    "    validation_steps = (num_val_sequences//batch_size) + 1\n",
    "    \n",
    "inputShape = (len(img_tensor[0]), img_tensor[1], img_tensor[2], img_tensor[3])\n",
    "\n",
    "model5 = Sequential([\n",
    "    Conv3D(16, make3dFilter(2), padding='same', activation='relu', input_shape=inputShape),\n",
    "    BatchNormalization(),\n",
    "    MaxPooling3D(make3dFilter(2)),\n",
    "\n",
    "    Conv3D(32, make3dFilter(2), padding='same', activation='relu'),\n",
    "    BatchNormalization(),\n",
    "    MaxPooling3D(pool_size=(2)),\n",
    "\n",
    "    Conv3D(64, make3dFilter(2), padding='same', activation='relu'),\n",
    "    BatchNormalization(),\n",
    "    MaxPooling3D(pool_size=(2)),\n",
    "\n",
    "    Conv3D(128, make3dFilter(2), padding='same', activation='relu'),\n",
    "    BatchNormalization(),\n",
    "    MaxPooling3D(pool_size=(2)),\n",
    "\n",
    "    Flatten(),\n",
    "    Dense(256, activation='relu'),\n",
    "    # BatchNormalization(),\n",
    "    # Dropout(0.3),\n",
    "\n",
    "    Dense(128, activation='relu'),\n",
    "    # BatchNormalization(),\n",
    "    # Dropout(0.2),\n",
    "\n",
    "    Dense(5, activation='softmax')\n",
    "], name=\"conv_3d5\")\n",
    "model5.compile(optimizer=tf.keras.optimizers.Adam(), loss='categorical_crossentropy', metrics=['categorical_accuracy'])\n",
    "print(model5.summary())\n",
    "\n",
    "model5_history = model5.fit_generator(train_generator, steps_per_epoch=steps_per_epoch, epochs=num_epochs, verbose=1, \n",
    "            callbacks=callbacks_list, validation_data=val_generator, \n",
    "            validation_steps=validation_steps, class_weight=None, workers=1, initial_epoch=0)"
   ]
  },
  {
   "cell_type": "code",
   "execution_count": 38,
   "metadata": {
    "id": "CTjFGiU6pIHW"
   },
   "outputs": [
    {
     "data": {
      "image/png": "[encoded data removed]",
      "text/plain": [
       "<Figure size 1080x288 with 2 Axes>"
      ]
     },
     "metadata": {
      "needs_background": "light"
     },
     "output_type": "display_data"
    },
    {
     "name": "stdout",
     "output_type": "stream",
     "text": [
      "Max. Training Accuracy 0.9946523904800415\n",
      "Max. Validaiton Accuracy 0.375\n"
     ]
    }
   ],
   "source": [
    "plotModelHistory(model5_history)"
   ]
  },
  {
   "cell_type": "markdown",
   "metadata": {
    "id": "6OFOJQZFcjQW"
   },
   "source": [
    "### Model 6: Switching Model architecture to Conv2D+LSTM"
   ]
  },
  {
   "cell_type": "code",
   "execution_count": 39,
   "metadata": {
    "id": "QDuEGEx3TTyp"
   },
   "outputs": [
    {
     "name": "stdout",
     "output_type": "stream",
     "text": [
      "Model: \"conv_2d_lstm\"\n",
      "_________________________________________________________________\n",
      " Layer (type)                Output Shape              Param #   \n",
      "=================================================================\n",
      " time_distributed (TimeDistr  (None, 20, 100, 100, 16)  448      \n",
      " ibuted)                                                         \n",
      "                                                                 \n",
      " time_distributed_1 (TimeDis  (None, 20, 100, 100, 16)  64       \n",
      " tributed)                                                       \n",
      "                                                                 \n",
      " time_distributed_2 (TimeDis  (None, 20, 50, 50, 16)   0         \n",
      " tributed)                                                       \n",
      "                                                                 \n",
      " time_distributed_3 (TimeDis  (None, 20, 50, 50, 32)   4640      \n",
      " tributed)                                                       \n",
      "                                                                 \n",
      " time_distributed_4 (TimeDis  (None, 20, 50, 50, 32)   128       \n",
      " tributed)                                                       \n",
      "                                                                 \n",
      " time_distributed_5 (TimeDis  (None, 20, 25, 25, 32)   0         \n",
      " tributed)                                                       \n",
      "                                                                 \n",
      " time_distributed_6 (TimeDis  (None, 20, 25, 25, 64)   18496     \n",
      " tributed)                                                       \n",
      "                                                                 \n",
      " time_distributed_7 (TimeDis  (None, 20, 25, 25, 64)   256       \n",
      " tributed)                                                       \n",
      "                                                                 \n",
      " time_distributed_8 (TimeDis  (None, 20, 12, 12, 64)   0         \n",
      " tributed)                                                       \n",
      "                                                                 \n",
      " time_distributed_9 (TimeDis  (None, 20, 12, 12, 128)  73856     \n",
      " tributed)                                                       \n",
      "                                                                 \n",
      " time_distributed_10 (TimeDi  (None, 20, 12, 12, 128)  512       \n",
      " stributed)                                                      \n",
      "                                                                 \n",
      " time_distributed_11 (TimeDi  (None, 20, 6, 6, 128)    0         \n",
      " stributed)                                                      \n",
      "                                                                 \n",
      " time_distributed_12 (TimeDi  (None, 20, 6, 6, 256)    295168    \n",
      " stributed)                                                      \n",
      "                                                                 \n",
      " time_distributed_13 (TimeDi  (None, 20, 6, 6, 256)    1024      \n",
      " stributed)                                                      \n",
      "                                                                 \n",
      " time_distributed_14 (TimeDi  (None, 20, 3, 3, 256)    0         \n",
      " stributed)                                                      \n",
      "                                                                 \n",
      " time_distributed_15 (TimeDi  (None, 20, 2304)         0         \n",
      " stributed)                                                      \n",
      "                                                                 \n",
      " lstm (LSTM)                 (None, 256)               2622464   \n",
      "                                                                 \n",
      " dropout_10 (Dropout)        (None, 256)               0         \n",
      "                                                                 \n",
      " dense_18 (Dense)            (None, 256)               65792     \n",
      "                                                                 \n",
      " dropout_11 (Dropout)        (None, 256)               0         \n",
      "                                                                 \n",
      " dense_19 (Dense)            (None, 5)                 1285      \n",
      "                                                                 \n",
      "=================================================================\n",
      "Total params: 3,084,133\n",
      "Trainable params: 3,083,141\n",
      "Non-trainable params: 992\n",
      "_________________________________________________________________\n",
      "None\n",
      "Source path =  /datasets/Project_data/train ; batch size = 32\n",
      "Epoch 1/30\n",
      "21/21 [==============================] - ETA: 0s - loss: 1.3199 - categorical_accuracy: 0.4510Source path =  /datasets/Project_data/val ; batch size = 32\n",
      "\n",
      "Epoch 00001: saving model to model_init_2022-06-1513_43_34.651809/model-00001-1.31986-0.45098-1.64847-0.20000.h5\n",
      "21/21 [==============================] - 142s 7s/step - loss: 1.3199 - categorical_accuracy: 0.4510 - val_loss: 1.6485 - val_categorical_accuracy: 0.2000 - lr: 0.0010\n",
      "Epoch 2/30\n",
      "21/21 [==============================] - ETA: 0s - loss: 0.9792 - categorical_accuracy: 0.6066\n",
      "Epoch 00002: saving model to model_init_2022-06-1513_43_34.651809/model-00002-0.97918-0.60663-1.89185-0.37500.h5\n",
      "21/21 [==============================] - 91s 5s/step - loss: 0.9792 - categorical_accuracy: 0.6066 - val_loss: 1.8919 - val_categorical_accuracy: 0.3750 - lr: 0.0010\n",
      "Epoch 3/30\n",
      "21/21 [==============================] - ETA: 0s - loss: 0.8226 - categorical_accuracy: 0.6604\n",
      "Epoch 00003: saving model to model_init_2022-06-1513_43_34.651809/model-00003-0.82263-0.66042-2.07722-0.18750.h5\n",
      "21/21 [==============================] - 76s 4s/step - loss: 0.8226 - categorical_accuracy: 0.6604 - val_loss: 2.0772 - val_categorical_accuracy: 0.1875 - lr: 0.0010\n",
      "Epoch 4/30\n",
      "21/21 [==============================] - ETA: 0s - loss: 0.7309 - categorical_accuracy: 0.7143\n",
      "Epoch 00004: saving model to model_init_2022-06-1513_43_34.651809/model-00004-0.73089-0.71429-2.62410-0.12500.h5\n",
      "21/21 [==============================] - 77s 4s/step - loss: 0.7309 - categorical_accuracy: 0.7143 - val_loss: 2.6241 - val_categorical_accuracy: 0.1250 - lr: 0.0010\n",
      "Epoch 5/30\n",
      "21/21 [==============================] - ETA: 0s - loss: 0.6675 - categorical_accuracy: 0.7087\n",
      "Epoch 00005: saving model to model_init_2022-06-1513_43_34.651809/model-00005-0.66754-0.70868-3.02344-0.18750.h5\n",
      "\n",
      "Epoch 00005: ReduceLROnPlateau reducing learning rate to 0.00020000000949949026.\n",
      "21/21 [==============================] - 70s 4s/step - loss: 0.6675 - categorical_accuracy: 0.7087 - val_loss: 3.0234 - val_categorical_accuracy: 0.1875 - lr: 0.0010\n",
      "Epoch 6/30\n",
      "21/21 [==============================] - ETA: 0s - loss: 0.6364 - categorical_accuracy: 0.7423\n",
      "Epoch 00006: saving model to model_init_2022-06-1513_43_34.651809/model-00006-0.63641-0.74230-3.03287-0.06250.h5\n",
      "21/21 [==============================] - 65s 3s/step - loss: 0.6364 - categorical_accuracy: 0.7423 - val_loss: 3.0329 - val_categorical_accuracy: 0.0625 - lr: 2.0000e-04\n",
      "Epoch 7/30\n",
      "21/21 [==============================] - ETA: 0s - loss: 0.4437 - categorical_accuracy: 0.8515\n",
      "Epoch 00007: saving model to model_init_2022-06-1513_43_34.651809/model-00007-0.44366-0.85154-2.80246-0.12500.h5\n",
      "21/21 [==============================] - 69s 3s/step - loss: 0.4437 - categorical_accuracy: 0.8515 - val_loss: 2.8025 - val_categorical_accuracy: 0.1250 - lr: 2.0000e-04\n",
      "Epoch 8/30\n",
      "21/21 [==============================] - ETA: 0s - loss: 0.3693 - categorical_accuracy: 0.8683\n",
      "Epoch 00008: saving model to model_init_2022-06-1513_43_34.651809/model-00008-0.36928-0.86835-3.07834-0.12500.h5\n",
      "21/21 [==============================] - 65s 3s/step - loss: 0.3693 - categorical_accuracy: 0.8683 - val_loss: 3.0783 - val_categorical_accuracy: 0.1250 - lr: 2.0000e-04\n",
      "Epoch 9/30\n",
      "21/21 [==============================] - ETA: 0s - loss: 0.3801 - categorical_accuracy: 0.8655\n",
      "Epoch 00009: saving model to model_init_2022-06-1513_43_34.651809/model-00009-0.38007-0.86555-2.43289-0.25000.h5\n",
      "\n",
      "Epoch 00009: ReduceLROnPlateau reducing learning rate to 4.0000001899898055e-05.\n",
      "21/21 [==============================] - 66s 3s/step - loss: 0.3801 - categorical_accuracy: 0.8655 - val_loss: 2.4329 - val_categorical_accuracy: 0.2500 - lr: 2.0000e-04\n",
      "Epoch 10/30\n",
      "21/21 [==============================] - ETA: 0s - loss: 0.3220 - categorical_accuracy: 0.8796\n",
      "Epoch 00010: saving model to model_init_2022-06-1513_43_34.651809/model-00010-0.32204-0.87955-2.39563-0.50000.h5\n",
      "21/21 [==============================] - 68s 3s/step - loss: 0.3220 - categorical_accuracy: 0.8796 - val_loss: 2.3956 - val_categorical_accuracy: 0.5000 - lr: 4.0000e-05\n",
      "Epoch 11/30\n",
      "21/21 [==============================] - ETA: 0s - loss: 0.2239 - categorical_accuracy: 0.9412\n",
      "Epoch 00011: saving model to model_init_2022-06-1513_43_34.651809/model-00011-0.22389-0.94118-1.69552-0.37500.h5\n",
      "21/21 [==============================] - 66s 3s/step - loss: 0.2239 - categorical_accuracy: 0.9412 - val_loss: 1.6955 - val_categorical_accuracy: 0.3750 - lr: 4.0000e-05\n",
      "Epoch 12/30\n",
      "21/21 [==============================] - ETA: 0s - loss: 0.2253 - categorical_accuracy: 0.9412\n",
      "Epoch 00012: saving model to model_init_2022-06-1513_43_34.651809/model-00012-0.22525-0.94118-2.56826-0.31250.h5\n",
      "21/21 [==============================] - 69s 3s/step - loss: 0.2253 - categorical_accuracy: 0.9412 - val_loss: 2.5683 - val_categorical_accuracy: 0.3125 - lr: 4.0000e-05\n",
      "Epoch 13/30\n",
      "21/21 [==============================] - ETA: 0s - loss: 0.2685 - categorical_accuracy: 0.8880\n",
      "Epoch 00013: saving model to model_init_2022-06-1513_43_34.651809/model-00013-0.26853-0.88796-2.50834-0.25000.h5\n",
      "\n",
      "Epoch 00013: ReduceLROnPlateau reducing learning rate to 8.000000525498762e-06.\n",
      "21/21 [==============================] - 66s 3s/step - loss: 0.2685 - categorical_accuracy: 0.8880 - val_loss: 2.5083 - val_categorical_accuracy: 0.2500 - lr: 4.0000e-05\n",
      "Epoch 14/30\n",
      "21/21 [==============================] - ETA: 0s - loss: 0.2283 - categorical_accuracy: 0.9412\n",
      "Epoch 00014: saving model to model_init_2022-06-1513_43_34.651809/model-00014-0.22830-0.94118-1.99659-0.43750.h5\n",
      "21/21 [==============================] - 67s 3s/step - loss: 0.2283 - categorical_accuracy: 0.9412 - val_loss: 1.9966 - val_categorical_accuracy: 0.4375 - lr: 8.0000e-06\n",
      "Epoch 15/30\n",
      "21/21 [==============================] - ETA: 0s - loss: 0.2442 - categorical_accuracy: 0.9216\n",
      "Epoch 00015: saving model to model_init_2022-06-1513_43_34.651809/model-00015-0.24419-0.92157-2.14051-0.43750.h5\n",
      "21/21 [==============================] - 67s 3s/step - loss: 0.2442 - categorical_accuracy: 0.9216 - val_loss: 2.1405 - val_categorical_accuracy: 0.4375 - lr: 8.0000e-06\n",
      "Epoch 16/30\n",
      "21/21 [==============================] - ETA: 0s - loss: 0.2409 - categorical_accuracy: 0.9272\n",
      "Epoch 00016: saving model to model_init_2022-06-1513_43_34.651809/model-00016-0.24086-0.92717-1.91147-0.37500.h5\n",
      "21/21 [==============================] - 69s 3s/step - loss: 0.2409 - categorical_accuracy: 0.9272 - val_loss: 1.9115 - val_categorical_accuracy: 0.3750 - lr: 8.0000e-06\n",
      "Epoch 17/30\n",
      "21/21 [==============================] - ETA: 0s - loss: 0.1983 - categorical_accuracy: 0.9524\n",
      "Epoch 00017: saving model to model_init_2022-06-1513_43_34.651809/model-00017-0.19829-0.95238-2.39692-0.25000.h5\n",
      "\n",
      "Epoch 00017: ReduceLROnPlateau reducing learning rate to 1.6000001778593287e-06.\n",
      "21/21 [==============================] - 67s 3s/step - loss: 0.1983 - categorical_accuracy: 0.9524 - val_loss: 2.3969 - val_categorical_accuracy: 0.2500 - lr: 8.0000e-06\n",
      "Epoch 18/30\n",
      "21/21 [==============================] - ETA: 0s - loss: 0.2235 - categorical_accuracy: 0.9384\n",
      "Epoch 00018: saving model to model_init_2022-06-1513_43_34.651809/model-00018-0.22346-0.93838-1.75880-0.50000.h5\n",
      "21/21 [==============================] - 66s 3s/step - loss: 0.2235 - categorical_accuracy: 0.9384 - val_loss: 1.7588 - val_categorical_accuracy: 0.5000 - lr: 1.6000e-06\n",
      "Epoch 19/30\n",
      "21/21 [==============================] - ETA: 0s - loss: 0.2019 - categorical_accuracy: 0.9412\n",
      "Epoch 00019: saving model to model_init_2022-06-1513_43_34.651809/model-00019-0.20186-0.94118-1.71837-0.50000.h5\n",
      "21/21 [==============================] - 68s 3s/step - loss: 0.2019 - categorical_accuracy: 0.9412 - val_loss: 1.7184 - val_categorical_accuracy: 0.5000 - lr: 1.6000e-06\n",
      "Epoch 20/30\n",
      "21/21 [==============================] - ETA: 0s - loss: 0.2297 - categorical_accuracy: 0.9356\n",
      "Epoch 00020: saving model to model_init_2022-06-1513_43_34.651809/model-00020-0.22971-0.93557-2.19538-0.37500.h5\n",
      "21/21 [==============================] - 69s 3s/step - loss: 0.2297 - categorical_accuracy: 0.9356 - val_loss: 2.1954 - val_categorical_accuracy: 0.3750 - lr: 1.6000e-06\n",
      "Epoch 21/30\n",
      "21/21 [==============================] - ETA: 0s - loss: 0.1821 - categorical_accuracy: 0.9664\n",
      "Epoch 00021: saving model to model_init_2022-06-1513_43_34.651809/model-00021-0.18209-0.96639-1.84930-0.62500.h5\n",
      "\n",
      "Epoch 00021: ReduceLROnPlateau reducing learning rate to 3.200000264769187e-07.\n",
      "21/21 [==============================] - 65s 3s/step - loss: 0.1821 - categorical_accuracy: 0.9664 - val_loss: 1.8493 - val_categorical_accuracy: 0.6250 - lr: 1.6000e-06\n",
      "Epoch 22/30\n",
      "21/21 [==============================] - ETA: 0s - loss: 0.2029 - categorical_accuracy: 0.9496\n",
      "Epoch 00022: saving model to model_init_2022-06-1513_43_34.651809/model-00022-0.20290-0.94958-1.97431-0.62500.h5\n",
      "21/21 [==============================] - 68s 3s/step - loss: 0.2029 - categorical_accuracy: 0.9496 - val_loss: 1.9743 - val_categorical_accuracy: 0.6250 - lr: 3.2000e-07\n",
      "Epoch 23/30\n",
      "21/21 [==============================] - ETA: 0s - loss: 0.2211 - categorical_accuracy: 0.9328\n",
      "Epoch 00023: saving model to model_init_2022-06-1513_43_34.651809/model-00023-0.22109-0.93277-1.92153-0.50000.h5\n",
      "21/21 [==============================] - 66s 3s/step - loss: 0.2211 - categorical_accuracy: 0.9328 - val_loss: 1.9215 - val_categorical_accuracy: 0.5000 - lr: 3.2000e-07\n",
      "Epoch 24/30\n",
      "21/21 [==============================] - ETA: 0s - loss: 0.2523 - categorical_accuracy: 0.9160\n",
      "Epoch 00024: saving model to model_init_2022-06-1513_43_34.651809/model-00024-0.25228-0.91597-1.05600-0.62500.h5\n",
      "21/21 [==============================] - 68s 3s/step - loss: 0.2523 - categorical_accuracy: 0.9160 - val_loss: 1.0560 - val_categorical_accuracy: 0.6250 - lr: 3.2000e-07\n",
      "Epoch 25/30\n",
      "21/21 [==============================] - ETA: 0s - loss: 0.2252 - categorical_accuracy: 0.9244\n",
      "Epoch 00025: saving model to model_init_2022-06-1513_43_34.651809/model-00025-0.22523-0.92437-1.75185-0.43750.h5\n",
      "21/21 [==============================] - 66s 3s/step - loss: 0.2252 - categorical_accuracy: 0.9244 - val_loss: 1.7519 - val_categorical_accuracy: 0.4375 - lr: 3.2000e-07\n",
      "Epoch 26/30\n",
      "21/21 [==============================] - ETA: 0s - loss: 0.1871 - categorical_accuracy: 0.9384\n",
      "Epoch 00026: saving model to model_init_2022-06-1513_43_34.651809/model-00026-0.18705-0.93838-1.17297-0.56250.h5\n",
      "21/21 [==============================] - 65s 3s/step - loss: 0.1871 - categorical_accuracy: 0.9384 - val_loss: 1.1730 - val_categorical_accuracy: 0.5625 - lr: 3.2000e-07\n",
      "Epoch 27/30\n",
      "21/21 [==============================] - ETA: 0s - loss: 0.2136 - categorical_accuracy: 0.9272\n",
      "Epoch 00027: saving model to model_init_2022-06-1513_43_34.651809/model-00027-0.21358-0.92717-0.80552-0.68750.h5\n",
      "21/21 [==============================] - 66s 3s/step - loss: 0.2136 - categorical_accuracy: 0.9272 - val_loss: 0.8055 - val_categorical_accuracy: 0.6875 - lr: 3.2000e-07\n",
      "Epoch 28/30\n",
      "21/21 [==============================] - ETA: 0s - loss: 0.2306 - categorical_accuracy: 0.9300\n",
      "Epoch 00028: saving model to model_init_2022-06-1513_43_34.651809/model-00028-0.23058-0.92997-1.10659-0.62500.h5\n",
      "21/21 [==============================] - 69s 3s/step - loss: 0.2306 - categorical_accuracy: 0.9300 - val_loss: 1.1066 - val_categorical_accuracy: 0.6250 - lr: 3.2000e-07\n",
      "Epoch 29/30\n",
      "21/21 [==============================] - ETA: 0s - loss: 0.2240 - categorical_accuracy: 0.9384\n",
      "Epoch 00029: saving model to model_init_2022-06-1513_43_34.651809/model-00029-0.22403-0.93838-1.22477-0.68750.h5\n",
      "21/21 [==============================] - 63s 3s/step - loss: 0.2240 - categorical_accuracy: 0.9384 - val_loss: 1.2248 - val_categorical_accuracy: 0.6875 - lr: 3.2000e-07\n",
      "Epoch 30/30\n",
      "21/21 [==============================] - ETA: 0s - loss: 0.2049 - categorical_accuracy: 0.9412\n",
      "Epoch 00030: saving model to model_init_2022-06-1513_43_34.651809/model-00030-0.20488-0.94118-0.71261-0.68750.h5\n",
      "21/21 [==============================] - 69s 3s/step - loss: 0.2049 - categorical_accuracy: 0.9412 - val_loss: 0.7126 - val_categorical_accuracy: 0.6875 - lr: 3.2000e-07\n"
     ]
    }
   ],
   "source": [
    "n_frames = 20\n",
    "num_epochs = 30\n",
    "batch_size = 32\n",
    "\n",
    "img_tensor = getImgTensor(n_frames)\n",
    "train_generator = generator(train_path, train_doc, batch_size, img_tensor)\n",
    "val_generator = generator(val_path, val_doc, batch_size, img_tensor)\n",
    "\n",
    "if (num_train_sequences%batch_size) == 0:\n",
    "    steps_per_epoch = int(num_train_sequences/batch_size)\n",
    "else:\n",
    "    steps_per_epoch = (num_train_sequences//batch_size) + 1\n",
    "\n",
    "if (num_val_sequences%batch_size) == 0:\n",
    "    validation_steps = int(num_val_sequences/batch_size)\n",
    "else:\n",
    "    validation_steps = (num_val_sequences//batch_size) + 1\n",
    "    \n",
    "inputShape = (len(img_tensor[0]), img_tensor[1], img_tensor[2], img_tensor[3])\n",
    "\n",
    "model6 = Sequential([\n",
    "    TimeDistributed(Conv2D(16, make2dFilter(3), padding='same', activation='relu'), input_shape=inputShape),\n",
    "    TimeDistributed(BatchNormalization()),\n",
    "    TimeDistributed(MaxPooling2D(make2dFilter(2))),\n",
    "\n",
    "    TimeDistributed(Conv2D(32, make2dFilter(3), padding='same', activation='relu')),\n",
    "    TimeDistributed(BatchNormalization()),\n",
    "    TimeDistributed(MaxPooling2D(make2dFilter(2))),\n",
    "\n",
    "    TimeDistributed(Conv2D(64, make2dFilter(3), padding='same', activation='relu')),\n",
    "    TimeDistributed(BatchNormalization()),\n",
    "    TimeDistributed(MaxPooling2D(make2dFilter(2))),\n",
    "\n",
    "    TimeDistributed(Conv2D(128, make2dFilter(3), padding='same', activation='relu')),\n",
    "    TimeDistributed(BatchNormalization()),\n",
    "    TimeDistributed(MaxPooling2D(make2dFilter(2))),\n",
    "\n",
    "    TimeDistributed(Conv2D(256, make2dFilter(3), padding='same', activation='relu')),\n",
    "    TimeDistributed(BatchNormalization()),\n",
    "    TimeDistributed(MaxPooling2D(make2dFilter(2))),\n",
    "\n",
    "    TimeDistributed(Flatten()),\n",
    "    LSTM(256),\n",
    "    Dropout(0.2),\n",
    "\n",
    "    Dense(256, activation='relu'),\n",
    "    Dropout(0.2),\n",
    "\n",
    "    Dense(5, activation='softmax')\n",
    "], name=\"conv_2d_lstm\")\n",
    "model6.compile(optimizer=tf.keras.optimizers.Adam(), loss='categorical_crossentropy', metrics=['categorical_accuracy'])\n",
    "print(model6.summary())\n",
    "\n",
    "model6_history = model6.fit_generator(train_generator, steps_per_epoch=steps_per_epoch, epochs=num_epochs, verbose=1, \n",
    "            callbacks=callbacks_list, validation_data=val_generator, \n",
    "            validation_steps=validation_steps, class_weight=None, workers=1, initial_epoch=0)"
   ]
  },
  {
   "cell_type": "code",
   "execution_count": 40,
   "metadata": {
    "id": "wz4CJYdUpIHX"
   },
   "outputs": [
    {
     "data": {
      "image/png": "[encoded data removed]",
      "text/plain": [
       "<Figure size 1080x288 with 2 Axes>"
      ]
     },
     "metadata": {
      "needs_background": "light"
     },
     "output_type": "display_data"
    },
    {
     "name": "stdout",
     "output_type": "stream",
     "text": [
      "Max. Training Accuracy 0.9663865566253662\n",
      "Max. Validaiton Accuracy 0.6875\n"
     ]
    }
   ],
   "source": [
    "plotModelHistory(model6_history)"
   ]
  },
  {
   "cell_type": "markdown",
   "metadata": {
    "id": "skhLjh_vyXfR"
   },
   "source": [
    "### Model 7: Transfer Learning (MobileNet) with LSTM"
   ]
  },
  {
   "cell_type": "code",
   "execution_count": 41,
   "metadata": {
    "id": "6o_v7A10vBKd"
   },
   "outputs": [],
   "source": [
    "from tensorflow.keras.applications import mobilenet"
   ]
  },
  {
   "cell_type": "code",
   "execution_count": 42,
   "metadata": {
    "id": "1o8quf9byzns"
   },
   "outputs": [
    {
     "name": "stdout",
     "output_type": "stream",
     "text": [
      "WARNING:tensorflow:`input_shape` is undefined or non-square, or `rows` is not in [128, 160, 192, 224]. Weights for input shape (224, 224) will be loaded as the default.\n",
      "Downloading data from https://storage.googleapis.com/tensorflow/keras-applications/mobilenet/mobilenet_1_0_224_tf_no_top.h5\n",
      "17227776/17225924 [==============================] - 1s 0us/step\n",
      "17235968/17225924 [==============================] - 1s 0us/step\n",
      "Model: \"mobilenet_lstm\"\n",
      "_________________________________________________________________\n",
      " Layer (type)                Output Shape              Param #   \n",
      "=================================================================\n",
      " time_distributed_16 (TimeDi  (None, 20, 3, 3, 1024)   3228864   \n",
      " stributed)                                                      \n",
      "                                                                 \n",
      " time_distributed_17 (TimeDi  (None, 20, 3, 3, 1024)   4096      \n",
      " stributed)                                                      \n",
      "                                                                 \n",
      " time_distributed_18 (TimeDi  (None, 20, 1, 1, 1024)   0         \n",
      " stributed)                                                      \n",
      "                                                                 \n",
      " time_distributed_19 (TimeDi  (None, 20, 1024)         0         \n",
      " stributed)                                                      \n",
      "                                                                 \n",
      " lstm_1 (LSTM)               (None, 256)               1311744   \n",
      "                                                                 \n",
      " dropout_12 (Dropout)        (None, 256)               0         \n",
      "                                                                 \n",
      " dense_20 (Dense)            (None, 256)               65792     \n",
      "                                                                 \n",
      " dropout_13 (Dropout)        (None, 256)               0         \n",
      "                                                                 \n",
      " dense_21 (Dense)            (None, 5)                 1285      \n",
      "                                                                 \n",
      "=================================================================\n",
      "Total params: 4,611,781\n",
      "Trainable params: 1,380,869\n",
      "Non-trainable params: 3,230,912\n",
      "_________________________________________________________________\n",
      "None\n",
      "Source path =  /datasets/Project_data/train ; batch size = 64\n",
      "Epoch 1/30\n",
      "11/11 [==============================] - ETA: 0s - loss: 1.3756 - categorical_accuracy: 0.4103 Source path =  /datasets/Project_data/val ; batch size = 64\n",
      "\n",
      "Epoch 00001: saving model to model_init_2022-06-1513_43_34.651809/model-00001-1.37559-0.41026-1.04834-0.60000.h5\n",
      "11/11 [==============================] - 143s 14s/step - loss: 1.3756 - categorical_accuracy: 0.4103 - val_loss: 1.0483 - val_categorical_accuracy: 0.6000 - lr: 0.0010\n",
      "Epoch 2/30\n",
      "11/11 [==============================] - ETA: 0s - loss: 0.6517 - categorical_accuracy: 0.7866\n",
      "Epoch 00002: saving model to model_init_2022-06-1513_43_34.651809/model-00002-0.65166-0.78656-1.01411-0.60938.h5\n",
      "11/11 [==============================] - 61s 6s/step - loss: 0.6517 - categorical_accuracy: 0.7866 - val_loss: 1.0141 - val_categorical_accuracy: 0.6094 - lr: 0.0010\n",
      "Epoch 3/30\n",
      "11/11 [==============================] - ETA: 0s - loss: 0.5234 - categorical_accuracy: 0.8221\n",
      "Epoch 00003: saving model to model_init_2022-06-1513_43_34.651809/model-00003-0.52336-0.82213-0.86341-0.64286.h5\n",
      "11/11 [==============================] - 58s 6s/step - loss: 0.5234 - categorical_accuracy: 0.8221 - val_loss: 0.8634 - val_categorical_accuracy: 0.6429 - lr: 0.0010\n",
      "Epoch 4/30\n",
      "11/11 [==============================] - ETA: 0s - loss: 0.4510 - categorical_accuracy: 0.8197\n",
      "Epoch 00004: saving model to model_init_2022-06-1513_43_34.651809/model-00004-0.45095-0.81974-0.61186-0.87500.h5\n",
      "11/11 [==============================] - 50s 5s/step - loss: 0.4510 - categorical_accuracy: 0.8197 - val_loss: 0.6119 - val_categorical_accuracy: 0.8750 - lr: 0.0010\n",
      "Epoch 5/30\n",
      "11/11 [==============================] - ETA: 0s - loss: 0.1861 - categorical_accuracy: 0.9522\n",
      "Epoch 00005: saving model to model_init_2022-06-1513_43_34.651809/model-00005-0.18609-0.95215-0.95555-0.68750.h5\n",
      "11/11 [==============================] - 45s 5s/step - loss: 0.1861 - categorical_accuracy: 0.9522 - val_loss: 0.9556 - val_categorical_accuracy: 0.6875 - lr: 0.0010\n",
      "Epoch 6/30\n",
      "11/11 [==============================] - ETA: 0s - loss: 0.2421 - categorical_accuracy: 0.9234\n",
      "Epoch 00006: saving model to model_init_2022-06-1513_43_34.651809/model-00006-0.24215-0.92344-0.50012-0.62500.h5\n",
      "11/11 [==============================] - 38s 4s/step - loss: 0.2421 - categorical_accuracy: 0.9234 - val_loss: 0.5001 - val_categorical_accuracy: 0.6250 - lr: 0.0010\n",
      "Epoch 7/30\n",
      "11/11 [==============================] - ETA: 0s - loss: 0.1653 - categorical_accuracy: 0.9360\n",
      "Epoch 00007: saving model to model_init_2022-06-1513_43_34.651809/model-00007-0.16529-0.93596-2.29563-0.37500.h5\n",
      "11/11 [==============================] - 36s 3s/step - loss: 0.1653 - categorical_accuracy: 0.9360 - val_loss: 2.2956 - val_categorical_accuracy: 0.3750 - lr: 0.0010\n",
      "Epoch 8/30\n",
      "11/11 [==============================] - ETA: 0s - loss: 0.1100 - categorical_accuracy: 0.9626\n",
      "Epoch 00008: saving model to model_init_2022-06-1513_43_34.651809/model-00008-0.10996-0.96257-0.59454-0.87500.h5\n",
      "11/11 [==============================] - 35s 4s/step - loss: 0.1100 - categorical_accuracy: 0.9626 - val_loss: 0.5945 - val_categorical_accuracy: 0.8750 - lr: 0.0010\n",
      "Epoch 9/30\n",
      "11/11 [==============================] - ETA: 0s - loss: 0.1098 - categorical_accuracy: 0.9572\n",
      "Epoch 00009: saving model to model_init_2022-06-1513_43_34.651809/model-00009-0.10978-0.95722-0.40397-0.75000.h5\n",
      "11/11 [==============================] - 35s 3s/step - loss: 0.1098 - categorical_accuracy: 0.9572 - val_loss: 0.4040 - val_categorical_accuracy: 0.7500 - lr: 0.0010\n",
      "Epoch 10/30\n",
      "11/11 [==============================] - ETA: 0s - loss: 0.1090 - categorical_accuracy: 0.9679\n",
      "Epoch 00010: saving model to model_init_2022-06-1513_43_34.651809/model-00010-0.10897-0.96791-1.12588-0.37500.h5\n",
      "11/11 [==============================] - 35s 3s/step - loss: 0.1090 - categorical_accuracy: 0.9679 - val_loss: 1.1259 - val_categorical_accuracy: 0.3750 - lr: 0.0010\n",
      "Epoch 11/30\n",
      "11/11 [==============================] - ETA: 0s - loss: 0.0689 - categorical_accuracy: 0.9893\n",
      "Epoch 00011: saving model to model_init_2022-06-1513_43_34.651809/model-00011-0.06891-0.98930-1.18895-0.50000.h5\n",
      "11/11 [==============================] - 35s 3s/step - loss: 0.0689 - categorical_accuracy: 0.9893 - val_loss: 1.1889 - val_categorical_accuracy: 0.5000 - lr: 0.0010\n",
      "Epoch 12/30\n",
      "11/11 [==============================] - ETA: 0s - loss: 0.0446 - categorical_accuracy: 0.9947\n",
      "Epoch 00012: saving model to model_init_2022-06-1513_43_34.651809/model-00012-0.04458-0.99465-1.06980-0.75000.h5\n",
      "11/11 [==============================] - 36s 3s/step - loss: 0.0446 - categorical_accuracy: 0.9947 - val_loss: 1.0698 - val_categorical_accuracy: 0.7500 - lr: 0.0010\n",
      "Epoch 13/30\n",
      "11/11 [==============================] - ETA: 0s - loss: 0.0909 - categorical_accuracy: 0.9786\n",
      "Epoch 00013: saving model to model_init_2022-06-1513_43_34.651809/model-00013-0.09092-0.97861-0.22182-0.87500.h5\n",
      "11/11 [==============================] - 35s 3s/step - loss: 0.0909 - categorical_accuracy: 0.9786 - val_loss: 0.2218 - val_categorical_accuracy: 0.8750 - lr: 0.0010\n",
      "Epoch 14/30\n",
      "11/11 [==============================] - ETA: 0s - loss: 0.0761 - categorical_accuracy: 0.9733\n",
      "Epoch 00014: saving model to model_init_2022-06-1513_43_34.651809/model-00014-0.07609-0.97326-1.40463-0.62500.h5\n",
      "11/11 [==============================] - 35s 4s/step - loss: 0.0761 - categorical_accuracy: 0.9733 - val_loss: 1.4046 - val_categorical_accuracy: 0.6250 - lr: 0.0010\n",
      "Epoch 15/30\n",
      "11/11 [==============================] - ETA: 0s - loss: 0.0433 - categorical_accuracy: 0.9893\n",
      "Epoch 00015: saving model to model_init_2022-06-1513_43_34.651809/model-00015-0.04329-0.98930-2.20496-0.62500.h5\n",
      "11/11 [==============================] - 37s 4s/step - loss: 0.0433 - categorical_accuracy: 0.9893 - val_loss: 2.2050 - val_categorical_accuracy: 0.6250 - lr: 0.0010\n",
      "Epoch 16/30\n",
      "11/11 [==============================] - ETA: 0s - loss: 0.0699 - categorical_accuracy: 0.9840\n",
      "Epoch 00016: saving model to model_init_2022-06-1513_43_34.651809/model-00016-0.06991-0.98396-0.25359-1.00000.h5\n",
      "11/11 [==============================] - 34s 3s/step - loss: 0.0699 - categorical_accuracy: 0.9840 - val_loss: 0.2536 - val_categorical_accuracy: 1.0000 - lr: 0.0010\n",
      "Epoch 17/30\n",
      "11/11 [==============================] - ETA: 0s - loss: 0.0337 - categorical_accuracy: 0.9893\n",
      "Epoch 00017: saving model to model_init_2022-06-1513_43_34.651809/model-00017-0.03373-0.98930-1.15225-0.62500.h5\n",
      "\n",
      "Epoch 00017: ReduceLROnPlateau reducing learning rate to 0.00020000000949949026.\n",
      "11/11 [==============================] - 37s 4s/step - loss: 0.0337 - categorical_accuracy: 0.9893 - val_loss: 1.1522 - val_categorical_accuracy: 0.6250 - lr: 0.0010\n",
      "Epoch 18/30\n",
      "11/11 [==============================] - ETA: 0s - loss: 0.0199 - categorical_accuracy: 1.0000\n",
      "Epoch 00018: saving model to model_init_2022-06-1513_43_34.651809/model-00018-0.01991-1.00000-0.18881-1.00000.h5\n",
      "11/11 [==============================] - 34s 3s/step - loss: 0.0199 - categorical_accuracy: 1.0000 - val_loss: 0.1888 - val_categorical_accuracy: 1.0000 - lr: 2.0000e-04\n",
      "Epoch 19/30\n",
      "11/11 [==============================] - ETA: 0s - loss: 0.0107 - categorical_accuracy: 1.0000\n",
      "Epoch 00019: saving model to model_init_2022-06-1513_43_34.651809/model-00019-0.01066-1.00000-0.56952-0.87500.h5\n",
      "11/11 [==============================] - 35s 3s/step - loss: 0.0107 - categorical_accuracy: 1.0000 - val_loss: 0.5695 - val_categorical_accuracy: 0.8750 - lr: 2.0000e-04\n",
      "Epoch 20/30\n",
      "11/11 [==============================] - ETA: 0s - loss: 0.0155 - categorical_accuracy: 1.0000\n",
      "Epoch 00020: saving model to model_init_2022-06-1513_43_34.651809/model-00020-0.01548-1.00000-0.44328-0.87500.h5\n",
      "11/11 [==============================] - 35s 3s/step - loss: 0.0155 - categorical_accuracy: 1.0000 - val_loss: 0.4433 - val_categorical_accuracy: 0.8750 - lr: 2.0000e-04\n",
      "Epoch 21/30\n",
      "11/11 [==============================] - ETA: 0s - loss: 0.0059 - categorical_accuracy: 1.0000\n",
      "Epoch 00021: saving model to model_init_2022-06-1513_43_34.651809/model-00021-0.00592-1.00000-1.15750-0.62500.h5\n",
      "11/11 [==============================] - 37s 4s/step - loss: 0.0059 - categorical_accuracy: 1.0000 - val_loss: 1.1575 - val_categorical_accuracy: 0.6250 - lr: 2.0000e-04\n",
      "Epoch 22/30\n",
      "11/11 [==============================] - ETA: 0s - loss: 0.0083 - categorical_accuracy: 1.0000\n",
      "Epoch 00022: saving model to model_init_2022-06-1513_43_34.651809/model-00022-0.00831-1.00000-1.24812-0.62500.h5\n",
      "\n",
      "Epoch 00022: ReduceLROnPlateau reducing learning rate to 4.0000001899898055e-05.\n",
      "11/11 [==============================] - 35s 4s/step - loss: 0.0083 - categorical_accuracy: 1.0000 - val_loss: 1.2481 - val_categorical_accuracy: 0.6250 - lr: 2.0000e-04\n",
      "Epoch 23/30\n",
      "11/11 [==============================] - ETA: 0s - loss: 0.0083 - categorical_accuracy: 1.0000\n",
      "Epoch 00023: saving model to model_init_2022-06-1513_43_34.651809/model-00023-0.00829-1.00000-0.84161-0.87500.h5\n",
      "11/11 [==============================] - 35s 3s/step - loss: 0.0083 - categorical_accuracy: 1.0000 - val_loss: 0.8416 - val_categorical_accuracy: 0.8750 - lr: 4.0000e-05\n",
      "Epoch 24/30\n",
      "11/11 [==============================] - ETA: 0s - loss: 0.0193 - categorical_accuracy: 0.9947\n",
      "Epoch 00024: saving model to model_init_2022-06-1513_43_34.651809/model-00024-0.01928-0.99465-0.20757-0.87500.h5\n",
      "11/11 [==============================] - 35s 3s/step - loss: 0.0193 - categorical_accuracy: 0.9947 - val_loss: 0.2076 - val_categorical_accuracy: 0.8750 - lr: 4.0000e-05\n",
      "Epoch 25/30\n",
      "11/11 [==============================] - ETA: 0s - loss: 0.0084 - categorical_accuracy: 1.0000\n",
      "Epoch 00025: saving model to model_init_2022-06-1513_43_34.651809/model-00025-0.00845-1.00000-0.83686-0.62500.h5\n",
      "11/11 [==============================] - 36s 4s/step - loss: 0.0084 - categorical_accuracy: 1.0000 - val_loss: 0.8369 - val_categorical_accuracy: 0.6250 - lr: 4.0000e-05\n",
      "Epoch 26/30\n",
      "11/11 [==============================] - ETA: 0s - loss: 0.0096 - categorical_accuracy: 1.0000\n",
      "Epoch 00026: saving model to model_init_2022-06-1513_43_34.651809/model-00026-0.00957-1.00000-0.65880-0.75000.h5\n",
      "\n",
      "Epoch 00026: ReduceLROnPlateau reducing learning rate to 8.000000525498762e-06.\n",
      "11/11 [==============================] - 34s 3s/step - loss: 0.0096 - categorical_accuracy: 1.0000 - val_loss: 0.6588 - val_categorical_accuracy: 0.7500 - lr: 4.0000e-05\n",
      "Epoch 27/30\n",
      "11/11 [==============================] - ETA: 0s - loss: 0.0073 - categorical_accuracy: 1.0000\n",
      "Epoch 00027: saving model to model_init_2022-06-1513_43_34.651809/model-00027-0.00734-1.00000-1.13402-0.62500.h5\n",
      "11/11 [==============================] - 36s 4s/step - loss: 0.0073 - categorical_accuracy: 1.0000 - val_loss: 1.1340 - val_categorical_accuracy: 0.6250 - lr: 8.0000e-06\n",
      "Epoch 28/30\n",
      "11/11 [==============================] - ETA: 0s - loss: 0.0066 - categorical_accuracy: 1.0000\n",
      "Epoch 00028: saving model to model_init_2022-06-1513_43_34.651809/model-00028-0.00658-1.00000-0.32161-0.75000.h5\n",
      "11/11 [==============================] - 35s 3s/step - loss: 0.0066 - categorical_accuracy: 1.0000 - val_loss: 0.3216 - val_categorical_accuracy: 0.7500 - lr: 8.0000e-06\n",
      "Epoch 29/30\n",
      "11/11 [==============================] - ETA: 0s - loss: 0.0095 - categorical_accuracy: 1.0000\n",
      "Epoch 00029: saving model to model_init_2022-06-1513_43_34.651809/model-00029-0.00954-1.00000-1.05200-0.62500.h5\n",
      "11/11 [==============================] - 34s 3s/step - loss: 0.0095 - categorical_accuracy: 1.0000 - val_loss: 1.0520 - val_categorical_accuracy: 0.6250 - lr: 8.0000e-06\n",
      "Epoch 30/30\n",
      "11/11 [==============================] - ETA: 0s - loss: 0.0074 - categorical_accuracy: 1.0000\n",
      "Epoch 00030: saving model to model_init_2022-06-1513_43_34.651809/model-00030-0.00742-1.00000-0.74542-0.75000.h5\n",
      "\n",
      "Epoch 00030: ReduceLROnPlateau reducing learning rate to 1.6000001778593287e-06.\n",
      "11/11 [==============================] - 35s 3s/step - loss: 0.0074 - categorical_accuracy: 1.0000 - val_loss: 0.7454 - val_categorical_accuracy: 0.7500 - lr: 8.0000e-06\n"
     ]
    }
   ],
   "source": [
    "mobilenet = mobilenet.MobileNet(weights='imagenet', include_top=False)\n",
    "\n",
    "n_frames = 20\n",
    "num_epochs = 30\n",
    "batch_size = 64\n",
    "\n",
    "img_tensor = getImgTensor(n_frames)\n",
    "train_generator = generator(train_path, train_doc, batch_size, img_tensor)\n",
    "val_generator = generator(val_path, val_doc, batch_size, img_tensor)\n",
    "\n",
    "if (num_train_sequences%batch_size) == 0:\n",
    "    steps_per_epoch = int(num_train_sequences/batch_size)\n",
    "else:\n",
    "    steps_per_epoch = (num_train_sequences//batch_size) + 1\n",
    "\n",
    "if (num_val_sequences%batch_size) == 0:\n",
    "    validation_steps = int(num_val_sequences/batch_size)\n",
    "else:\n",
    "    validation_steps = (num_val_sequences//batch_size) + 1\n",
    "    \n",
    "inputShape = (len(img_tensor[0]), img_tensor[1], img_tensor[2], img_tensor[3])\n",
    "\n",
    "model7 = Sequential([\n",
    "    TimeDistributed(mobilenet, input_shape=inputShape)\n",
    "], name=\"mobilenet_lstm\")\n",
    "\n",
    "for layer in model7.layers:\n",
    "    layer.trainable = False\n",
    "\n",
    "model7.add(TimeDistributed(BatchNormalization()))\n",
    "model7.add(TimeDistributed(MaxPooling2D(make2dFilter(2))))\n",
    "model7.add(TimeDistributed(Flatten()))\n",
    "\n",
    "model7.add(LSTM(256))\n",
    "model7.add(Dropout(0.2))\n",
    "\n",
    "model7.add(Dense(256,activation='relu'))\n",
    "model7.add(Dropout(0.2))\n",
    "\n",
    "model7.add(Dense(5, activation='softmax'))\n",
    "\n",
    "model7.compile(optimizer=tf.keras.optimizers.Adam(), loss='categorical_crossentropy', metrics=['categorical_accuracy'])\n",
    "print(model7.summary())\n",
    "\n",
    "model7_history = model7.fit_generator(train_generator, steps_per_epoch=steps_per_epoch, epochs=num_epochs, verbose=1, \n",
    "            callbacks=callbacks_list, validation_data=val_generator, \n",
    "            validation_steps=validation_steps, class_weight=None, workers=1, initial_epoch=0)"
   ]
  },
  {
   "cell_type": "code",
   "execution_count": 43,
   "metadata": {
    "id": "12A53k_WpIHX"
   },
   "outputs": [
    {
     "data": {
      "image/png": "[encoded data removed]",
      "text/plain": [
       "<Figure size 1080x288 with 2 Axes>"
      ]
     },
     "metadata": {
      "needs_background": "light"
     },
     "output_type": "display_data"
    },
    {
     "name": "stdout",
     "output_type": "stream",
     "text": [
      "Max. Training Accuracy 1.0\n",
      "Max. Validaiton Accuracy 1.0\n"
     ]
    }
   ],
   "source": [
    "plotModelHistory(model7_history)"
   ]
  },
  {
   "cell_type": "code",
   "execution_count": null,
   "metadata": {
    "id": "ZYm7gfz5Z_RT"
   },
   "outputs": [],
   "source": []
  }
 ],
 "metadata": {
  "colab": {
   "collapsed_sections": [],
   "name": "gesture-recognition.ipynb",
   "provenance": []
  },
  "kernelspec": {
   "display_name": "Python 3 (ipykernel)",
   "language": "python",
   "name": "python3"
  },
  "language_info": {
   "codemirror_mode": {
    "name": "ipython",
    "version": 3
   },
   "file_extension": ".py",
   "mimetype": "text/x-python",
   "name": "python",
   "nbconvert_exporter": "python",
   "pygments_lexer": "ipython3",
   "version": "3.8.10"
  }
 },
 "nbformat": 4,
 "nbformat_minor": 4
}
