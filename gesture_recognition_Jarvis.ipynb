{
 "cells": [
  {
   "cell_type": "markdown",
   "metadata": {
    "id": "FsCWJ6klvu_d"
   },
   "source": [
    "# Gesture Recognition\n",
    "\n",
    "\n",
    "**Problem Statement**\n",
    "\n",
    "Imagine you are working as a data scientist at a home electronics company which manufactures state of the art smart televisions. You want to develop a cool feature in the smart-TV that can recognise five different gestures performed by the user which will help users control the TV without using a remote. \n",
    "\n",
    "In this group project, you are going to build a 3D Conv model that will be able to predict the 5 gestures correctly. \n",
    "\n",
    "The gestures are continuously monitored by the webcam mounted on the TV. Each gesture corresponds to a specific command:\n",
    "\n",
    "    Thumbs up:  Increase the volume\n",
    "    Thumbs down: Decrease the volume\n",
    "    Left swipe: 'Jump' backwards 10 seconds\n",
    "    Right swipe: 'Jump' forward 10 seconds  \n",
    "    Stop: Pause the movie\n",
    "\n",
    "\n",
    "### Objectives:\n",
    "1. **Generator**:  The generator should be able to take a batch of videos as input without any error. Steps like cropping, resizing and normalization should be performed successfully.\n",
    "\n",
    "2. **Model**: Develop a model that is able to train without any errors which will be judged on the total number of parameters (as the inference(prediction) time should be less) and the accuracy achieved. As suggested by Snehansu, start training on a small amount of data and then proceed further.\n",
    "\n",
    "3. **Write up**: This should contain the detailed procedure followed in choosing the final model. The write up should start with the reason for choosing the base model, then highlight the reasons and metrics taken into consideration to modify and experiment to arrive at the final model. "
   ]
  },
  {
   "cell_type": "code",
   "execution_count": 1,
   "metadata": {
    "id": "mJtPaYUIpIHJ"
   },
   "outputs": [],
   "source": [
    "import numpy as np\n",
    "import os\n",
    "# https://docs.scipy.org/doc/scipy-1.1.0/reference/generated/scipy.misc.imread.html\n",
    "#from scipy.misc import imread, imresize\n",
    "from skimage.transform import resize\n",
    "from imageio import imread\n",
    "import datetime\n",
    "import os"
   ]
  },
  {
   "cell_type": "code",
   "execution_count": 2,
   "metadata": {
    "id": "hfY7P8LRpIHK"
   },
   "outputs": [],
   "source": [
    "import matplotlib.pyplot as plt\n",
    "import warnings\n",
    "warnings.filterwarnings('ignore')"
   ]
  },
  {
   "cell_type": "code",
   "execution_count": null,
   "metadata": {
    "id": "rsFPvEWNpIHK"
   },
   "outputs": [],
   "source": []
  },
  {
   "cell_type": "markdown",
   "metadata": {
    "id": "449DFLskpIHK"
   },
   "source": [
    "We set the random seed so that the results don't vary drastically."
   ]
  },
  {
   "cell_type": "code",
   "execution_count": 3,
   "metadata": {
    "id": "kZKSPOrIpIHL"
   },
   "outputs": [],
   "source": [
    "np.random.seed(30)\n",
    "import random as rn\n",
    "rn.seed(30)\n",
    "from keras import backend as K\n",
    "import tensorflow as tf\n",
    "tf.random.set_seed(30)"
   ]
  },
  {
   "cell_type": "code",
   "execution_count": 4,
   "metadata": {
    "colab": {
     "base_uri": "https://localhost:8080/"
    },
    "id": "VaIX6uXOpkSF",
    "outputId": "3e35a21d-11e4-42ed-db65-435119358e5f"
   },
   "outputs": [],
   "source": [
    "#from google.colab import drive\n",
    "#drive.mount('/content/drive')"
   ]
  },
  {
   "cell_type": "code",
   "execution_count": 5,
   "metadata": {
    "_kg_hide-input": true,
    "_kg_hide-output": true,
    "colab": {
     "base_uri": "https://localhost:8080/"
    },
    "id": "5H-8IGVHpIHL",
    "outputId": "512b354d-a8f6-4e5c-e7d3-3c6f5637ce67"
   },
   "outputs": [
    {
     "name": "stdout",
     "output_type": "stream",
     "text": [
      "Found GPU at: /device:GPU:0\n"
     ]
    },
    {
     "name": "stderr",
     "output_type": "stream",
     "text": [
      "2022-06-13 04:15:44.472828: W tensorflow/core/common_runtime/gpu/gpu_bfc_allocator.cc:39] Overriding allow_growth setting because the TF_FORCE_GPU_ALLOW_GROWTH environment variable is set. Original config value was 0.\n",
      "2022-06-13 04:15:44.472888: I tensorflow/core/common_runtime/gpu/gpu_device.cc:1525] Created device /device:GPU:0 with 14803 MB memory:  -> device: 0, name: Quadro RTX 5000, pci bus id: 0000:1e:00.0, compute capability: 7.5\n"
     ]
    }
   ],
   "source": [
    "device_name = tf.test.gpu_device_name()\n",
    "if \"GPU\" not in device_name:\n",
    "    print(\"GPU device not found\")\n",
    "else:\n",
    "    print('Found GPU at: {}'.format(device_name))"
   ]
  },
  {
   "cell_type": "markdown",
   "metadata": {
    "id": "25e-YiZOpIHL"
   },
   "source": [
    "In this block, you read the folder names for training and validation. You also set the `batch_size` here. Note that you set the batch size in such a way that you are able to use the GPU in full capacity. You keep increasing the batch size until the machine throws an error."
   ]
  },
  {
   "cell_type": "code",
   "execution_count": 6,
   "metadata": {
    "colab": {
     "base_uri": "https://localhost:8080/"
    },
    "id": "NRsHwxXApsX0",
    "outputId": "bb5fd477-a095-4b6a-8293-4f0255a6d039"
   },
   "outputs": [
    {
     "name": "stdout",
     "output_type": "stream",
     "text": [
      "[1, 3, 5, 7, 9, 11, 13, 15, 17, 19, 21, 23, 25, 27, 29]\n",
      "(15, 100, 100, 3)\n"
     ]
    }
   ],
   "source": [
    "# setting up basic parameters for the model\n",
    "img_indices = list(range(1,30,2))\n",
    "print(img_indices)\n",
    "input_shape=(len(img_indices),100,100,3) #15 images per video, each image is of 100x100x3\n",
    "print(input_shape)\n",
    "batch_size = 10\n",
    "no_of_classes = 5\n",
    "num_epochs = 50 # choose the number of epochs"
   ]
  },
  {
   "cell_type": "code",
   "execution_count": 7,
   "metadata": {
    "colab": {
     "base_uri": "https://localhost:8080/"
    },
    "id": "wvifoqxj4H8P",
    "outputId": "87d4ea6d-194d-43e8-e22d-14595c87db16"
   },
   "outputs": [
    {
     "name": "stdout",
     "output_type": "stream",
     "text": [
      "3\n"
     ]
    }
   ],
   "source": [
    "print(input_shape[3])"
   ]
  },
  {
   "cell_type": "code",
   "execution_count": 8,
   "metadata": {
    "id": "LhbVPWKZpIHM"
   },
   "outputs": [],
   "source": [
    "train_doc = np.random.permutation(open('/datasets/Project_data/train.csv').readlines())\n",
    "val_doc = np.random.permutation(open('/datasets/Project_data/val.csv').readlines())\n",
    "batch_size = 32"
   ]
  },
  {
   "cell_type": "code",
   "execution_count": null,
   "metadata": {
    "id": "EtIxpxudpgrw"
   },
   "outputs": [],
   "source": []
  },
  {
   "cell_type": "code",
   "execution_count": 9,
   "metadata": {
    "colab": {
     "base_uri": "https://localhost:8080/"
    },
    "id": "uZW4rStGpIHN",
    "outputId": "757d4581-3c75-4c18-ceba-b3d45601b376"
   },
   "outputs": [
    {
     "name": "stdout",
     "output_type": "stream",
     "text": [
      "Mon Jun 13 04:15:44 2022       \n",
      "+-----------------------------------------------------------------------------+\n",
      "| NVIDIA-SMI 470.42.01    Driver Version: 470.42.01    CUDA Version: 11.4     |\n",
      "|-------------------------------+----------------------+----------------------+\n",
      "| GPU  Name        Persistence-M| Bus-Id        Disp.A | Volatile Uncorr. ECC |\n",
      "| Fan  Temp  Perf  Pwr:Usage/Cap|         Memory-Usage | GPU-Util  Compute M. |\n",
      "|                               |                      |               MIG M. |\n",
      "|===============================+======================+======================|\n",
      "|   0  Quadro RTX 5000     Off  | 00000000:1E:00.0 Off |                  Off |\n",
      "| 33%   30C    P2    46W / 230W |    258MiB / 16125MiB |      0%      Default |\n",
      "|                               |                      |                  N/A |\n",
      "+-------------------------------+----------------------+----------------------+\n",
      "                                                                               \n",
      "+-----------------------------------------------------------------------------+\n",
      "| Processes:                                                                  |\n",
      "|  GPU   GI   CI        PID   Type   Process name                  GPU Memory |\n",
      "|        ID   ID                                                   Usage      |\n",
      "|=============================================================================|\n",
      "+-----------------------------------------------------------------------------+\n"
     ]
    }
   ],
   "source": [
    "## Checking the GPU configuration\n",
    "!nvidia-smi"
   ]
  },
  {
   "cell_type": "markdown",
   "metadata": {
    "id": "DGY4lrhhvu_w"
   },
   "source": [
    "## Generator\n",
    "This is one of the most important part of the code. The overall structure of the generator has been given. In the generator, you are going to preprocess the images as you have images of 2 different dimensions as well as create a batch of video frames. You have to experiment with `img_idx`, `y`,`z` and normalization such that you get high accuracy."
   ]
  },
  {
   "cell_type": "code",
   "execution_count": 10,
   "metadata": {
    "id": "1xrANziuvu_x"
   },
   "outputs": [],
   "source": [
    "def cropResize(image, y, z):\n",
    "    h, w = image.shape\n",
    "    \n",
    "    # if smaller image crop at center for 120x120\n",
    "    if w == 160:\n",
    "        image = image[:120, 20:140]\n",
    "\n",
    "    # resize every image\n",
    "    return resize(image, (y,z))"
   ]
  },
  {
   "cell_type": "code",
   "execution_count": 11,
   "metadata": {
    "id": "KhGrETufvu_y"
   },
   "outputs": [],
   "source": [
    "def normalizeImage(image):\n",
    "    # applying normalization\n",
    "    return image/255.0"
   ]
  },
  {
   "cell_type": "code",
   "execution_count": 12,
   "metadata": {
    "id": "-qd1bxIZvu_y"
   },
   "outputs": [],
   "source": [
    "def preprocessImage(image, y, z):\n",
    "    return normalizeImage(cropResize(image, y, z))"
   ]
  },
  {
   "cell_type": "code",
   "execution_count": 13,
   "metadata": {
    "id": "LNgZq2e-vu_z"
   },
   "outputs": [],
   "source": [
    "def make3dFilter(x):\n",
    "    return tuple([x]*3)\n",
    "\n",
    "def make2dFilter(x):\n",
    "    return tuple([x]*2)"
   ]
  },
  {
   "cell_type": "code",
   "execution_count": null,
   "metadata": {
    "id": "-yPBgXECvu_z"
   },
   "outputs": [],
   "source": []
  },
  {
   "cell_type": "markdown",
   "metadata": {
    "id": "Wzj7VTjE6S2L"
   },
   "source": [
    "def getBatchData(source_path, t, batch, batch_size, img_tensor):\n",
    "    [x,y,z] = [len(img_tensor[0]),img_tensor[1], img_tensor[2]]\n",
    "    img_idx = img_tensor[0]\n",
    "    batch_data = np.zeros((batch_size,x,y,z,3)) # x is the number of images you use for each video, (y,z) is the final size of the input images and 3 is the number of channels RGB\n",
    "    batch_labels = np.zeros((batch_size,5)) # batch_labels is the one hot representation of the output\n",
    "    for folder in range(batch_size): # iterate over the batch_size\n",
    "        imgs = os.listdir(source_path+'/'+ t[folder + (batch*batch_size)].split(';')[0]) # read all the images in the folder\n",
    "        for idx,item in enumerate(img_idx): #  Iterate iver the frames/images of a folder to read them in\n",
    "            image = imread(source_path+'/'+ t[folder + (batch*batch_size)].strip().split(';')[0]+'/'+imgs[item]).astype(np.float32)\n",
    "\n",
    "            #crop the images and resize them. Note that the images are of 2 different shape \n",
    "            #and the conv3D will throw error if the inputs in a batch have different shapes\n",
    "\n",
    "            # separate preprocessImage function is defined for cropping, resizing and normalizing images\n",
    "            batch_data[folder,idx,:,:,0] = preprocessImage(image[:, :, 0], y, z)\n",
    "            batch_data[folder,idx,:,:,1] = preprocessImage(image[:, :, 1], y, z)\n",
    "            batch_data[folder,idx,:,:,2] = preprocessImage(image[:, :, 2], y, z)\n",
    "\n",
    "        batch_labels[folder, int(t[folder + (batch*batch_size)].strip().split(';')[2])] = 1\n",
    "    return batch_data, batch_labels"
   ]
  },
  {
   "cell_type": "markdown",
   "metadata": {
    "id": "ZD9g_Vu66RUN"
   },
   "source": []
  },
  {
   "cell_type": "code",
   "execution_count": 14,
   "metadata": {
    "colab": {
     "base_uri": "https://localhost:8080/"
    },
    "id": "eA6r1IMmvu_0",
    "outputId": "0d0eaf91-516b-42dc-f3f3-cd2223879526"
   },
   "outputs": [
    {
     "name": "stdout",
     "output_type": "stream",
     "text": [
      "5\n"
     ]
    }
   ],
   "source": [
    "print(no_of_classes)"
   ]
  },
  {
   "cell_type": "code",
   "execution_count": 15,
   "metadata": {
    "id": "0CYR3WYM54s4"
   },
   "outputs": [],
   "source": [
    "def getBatchData(source_path, t, batch, batch_size, img_tensor):\n",
    "    [x,y,z] = [len(img_tensor[0]),img_tensor[1], img_tensor[2]]\n",
    "    img_idx = img_tensor[0]\n",
    "    batch_data = np.zeros((batch_size,x,y,z,3)) # x is the number of images you use for each video, (y,z) is the final size of the input images and 3 is the number of channels RGB\n",
    "    batch_labels = np.zeros((batch_size,5)) # batch_labels is the one hot representation of the output\n",
    "    for folder in range(batch_size): # iterate over the batch_size\n",
    "        imgs = os.listdir(source_path+'/'+ t[folder + (batch*batch_size)].split(';')[0]) # read all the images in the folder\n",
    "        for idx,item in enumerate(img_idx): #  Iterate iver the frames/images of a folder to read them in\n",
    "            image = imread(source_path+'/'+ t[folder + (batch*batch_size)].strip().split(';')[0]+'/'+imgs[item]).astype(np.float32)\n",
    "\n",
    "            #crop the images and resize them. Note that the images are of 2 different shape \n",
    "            #and the conv3D will throw error if the inputs in a batch have different shapes\n",
    "\n",
    "            # separate preprocessImage function is defined for cropping, resizing and normalizing images\n",
    "            batch_data[folder,idx,:,:,0] = preprocessImage(image[:, :, 0], y, z)\n",
    "            batch_data[folder,idx,:,:,1] = preprocessImage(image[:, :, 1], y, z)\n",
    "            batch_data[folder,idx,:,:,2] = preprocessImage(image[:, :, 2], y, z)\n",
    "\n",
    "        batch_labels[folder, int(t[folder + (batch*batch_size)].strip().split(';')[2])] = 1\n",
    "    return batch_data, batch_labels\n",
    "    \n",
    "def generator(source_path, folder_list, batch_size, img_tensor):\n",
    "    print( 'Source path = ', source_path, '; batch size =', batch_size)\n",
    "    while True:\n",
    "        t = np.random.permutation(folder_list)\n",
    "        num_batches = int(len(folder_list)/batch_size)\n",
    "        for batch in range(num_batches): # we iterate over the number of batches\n",
    "            yield getBatchData(source_path, t, batch, batch_size, img_tensor)\n",
    "        \n",
    "        # write the code for the remaining data points which are left after full batches\n",
    "        # checking if any remaining batches are there or not\n",
    "        if len(folder_list)%batch_size != 0:\n",
    "            # updated the batch size and yield\n",
    "            batch_size = len(folder_list)%batch_size\n",
    "            yield getBatchData(source_path, t, batch, batch_size, img_tensor)"
   ]
  },
  {
   "cell_type": "markdown",
   "metadata": {
    "id": "tzNpErbFvu_1"
   },
   "source": [
    "Note here that a video is represented above in the generator as (number of images, height, width, number of channels). Take this into consideration while creating the model architecture."
   ]
  },
  {
   "cell_type": "code",
   "execution_count": 16,
   "metadata": {
    "colab": {
     "base_uri": "https://localhost:8080/"
    },
    "id": "CiGThqNVvu_2",
    "outputId": "2c5a6448-6b13-4206-b424-0d4af3086e1e"
   },
   "outputs": [
    {
     "name": "stdout",
     "output_type": "stream",
     "text": [
      "# training sequences = 663\n",
      "# validation sequences = 100\n",
      "# epochs = 10\n"
     ]
    }
   ],
   "source": [
    "curr_dt_time = datetime.datetime.now()\n",
    "train_path = '/datasets/Project_data/train'\n",
    "val_path = '/datasets/Project_data/val'\n",
    "num_train_sequences = len(train_doc)\n",
    "print('# training sequences =', num_train_sequences)\n",
    "num_val_sequences = len(val_doc)\n",
    "print('# validation sequences =', num_val_sequences)\n",
    "num_epochs = 10\n",
    "print ('# epochs =', num_epochs)"
   ]
  },
  {
   "cell_type": "code",
   "execution_count": 17,
   "metadata": {
    "colab": {
     "base_uri": "https://localhost:8080/"
    },
    "id": "w2bDaqWXvu_4",
    "outputId": "fcb4531e-fb78-46b7-d3f9-aac4a92ea762"
   },
   "outputs": [
    {
     "name": "stdout",
     "output_type": "stream",
     "text": [
      "# img_tensor = [array([ 0,  2,  3,  5,  6,  8,  9, 11, 12, 14, 15, 17, 18, 20, 21, 23, 24,\n",
      "       26, 27, 29]), 100, 100, 3]\n"
     ]
    }
   ],
   "source": [
    "def getImgTensor(n_frames):\n",
    "    img_idx = np.round(np.linspace(0, 29, n_frames)).astype(int)\n",
    "    return [img_idx, 100, 100, 3]\n",
    "\n",
    "# define image tensor size\n",
    "img_tensor = getImgTensor(20)\n",
    "print ('# img_tensor =', img_tensor)"
   ]
  },
  {
   "cell_type": "code",
   "execution_count": 18,
   "metadata": {
    "id": "k3HvPgOPvu_-"
   },
   "outputs": [],
   "source": [
    "def plotModelHistory(h):\n",
    "    fig, ax = plt.subplots(1, 2, figsize=(15,4))\n",
    "    ax[0].plot(h.history['loss'])   \n",
    "    ax[0].plot(h.history['val_loss'])\n",
    "    ax[0].legend(['loss','val_loss'])\n",
    "    ax[0].title.set_text(\"Train loss vs Validation loss\")\n",
    "\n",
    "    ax[1].plot(h.history['categorical_accuracy'])   \n",
    "    ax[1].plot(h.history['val_categorical_accuracy'])\n",
    "    ax[1].legend(['categorical_accuracy','val_categorical_accuracy'])\n",
    "    ax[1].title.set_text(\"Train accuracy vs Validation accuracy\")\n",
    "    plt.show()\n",
    "\n",
    "    print(\"Max. Training Accuracy\", max(h.history['categorical_accuracy']))\n",
    "    print(\"Max. Validaiton Accuracy\", max(h.history['val_categorical_accuracy']))"
   ]
  },
  {
   "cell_type": "markdown",
   "metadata": {
    "id": "dcGAuU41vu__"
   },
   "source": [
    "## Model Building\n",
    "Here you make the model using different functionalities that Keras provides. Remember to use `Conv3D` and `MaxPooling3D` and not `Conv2D` and `Maxpooling2D` for a 3D convolution model. You would want to use `TimeDistributed` while building a Conv2D + RNN model. Also remember that the last layer is the softmax. Design the network in such a way that the model is able to give good accuracy on the least number of parameters so that it can fit in the memory of the webcam."
   ]
  },
  {
   "cell_type": "code",
   "execution_count": 19,
   "metadata": {
    "id": "BlVvi0S9vvAA"
   },
   "outputs": [],
   "source": [
    "from tensorflow import keras\n",
    "from keras.models import Sequential, Model\n",
    "from keras.layers import Dense, GRU, Flatten, TimeDistributed, Flatten, BatchNormalization, Activation, Dropout, LSTM\n",
    "from keras.layers.convolutional import Conv3D, MaxPooling3D, Conv2D, MaxPooling2D\n",
    "from keras.callbacks import ModelCheckpoint, ReduceLROnPlateau\n",
    "from keras import optimizers\n"
   ]
  },
  {
   "cell_type": "markdown",
   "metadata": {
    "id": "9A0Y13yhvvAA"
   },
   "source": [
    "### Base Model"
   ]
  },
  {
   "cell_type": "code",
   "execution_count": 20,
   "metadata": {
    "colab": {
     "base_uri": "https://localhost:8080/"
    },
    "id": "jD0uh84WvvAB",
    "outputId": "8c3b2db7-9b96-4013-f8d0-1f63fd6ba4fb"
   },
   "outputs": [
    {
     "name": "stdout",
     "output_type": "stream",
     "text": [
      "Model: \"sequential\"\n",
      "_________________________________________________________________\n",
      " Layer (type)                Output Shape              Param #   \n",
      "=================================================================\n",
      " conv3d (Conv3D)             (None, 16, 96, 96, 16)    6016      \n",
      "                                                                 \n",
      " max_pooling3d (MaxPooling3D  (None, 8, 48, 48, 16)    0         \n",
      " )                                                               \n",
      "                                                                 \n",
      " batch_normalization (BatchN  (None, 8, 48, 48, 16)    64        \n",
      " ormalization)                                                   \n",
      "                                                                 \n",
      " conv3d_1 (Conv3D)           (None, 6, 46, 46, 32)     13856     \n",
      "                                                                 \n",
      " max_pooling3d_1 (MaxPooling  (None, 6, 23, 23, 32)    0         \n",
      " 3D)                                                             \n",
      "                                                                 \n",
      " batch_normalization_1 (Batc  (None, 6, 23, 23, 32)    128       \n",
      " hNormalization)                                                 \n",
      "                                                                 \n",
      " conv3d_2 (Conv3D)           (None, 4, 21, 21, 64)     55360     \n",
      "                                                                 \n",
      " max_pooling3d_2 (MaxPooling  (None, 4, 11, 11, 64)    0         \n",
      " 3D)                                                             \n",
      "                                                                 \n",
      " batch_normalization_2 (Batc  (None, 4, 11, 11, 64)    256       \n",
      " hNormalization)                                                 \n",
      "                                                                 \n",
      " flatten (Flatten)           (None, 30976)             0         \n",
      "                                                                 \n",
      " dense (Dense)               (None, 128)               3965056   \n",
      "                                                                 \n",
      " batch_normalization_3 (Batc  (None, 128)              512       \n",
      " hNormalization)                                                 \n",
      "                                                                 \n",
      " dropout (Dropout)           (None, 128)               0         \n",
      "                                                                 \n",
      " dense_1 (Dense)             (None, 64)                8256      \n",
      "                                                                 \n",
      " batch_normalization_4 (Batc  (None, 64)               256       \n",
      " hNormalization)                                                 \n",
      "                                                                 \n",
      " dropout_1 (Dropout)         (None, 64)                0         \n",
      "                                                                 \n",
      " dense_2 (Dense)             (None, 5)                 325       \n",
      "                                                                 \n",
      "=================================================================\n",
      "Total params: 4,050,085\n",
      "Trainable params: 4,049,477\n",
      "Non-trainable params: 608\n",
      "_________________________________________________________________\n"
     ]
    },
    {
     "name": "stderr",
     "output_type": "stream",
     "text": [
      "2022-06-13 04:15:45.038642: I tensorflow/core/common_runtime/gpu/gpu_device.cc:1525] Created device /job:localhost/replica:0/task:0/device:GPU:0 with 14803 MB memory:  -> device: 0, name: Quadro RTX 5000, pci bus id: 0000:1e:00.0, compute capability: 7.5\n"
     ]
    }
   ],
   "source": [
    "#write your model here\n",
    "def defineModel(img_tensor):\n",
    "    inputShape = (len(img_tensor[0]), img_tensor[1], img_tensor[2], img_tensor[3])\n",
    "\n",
    "    model = Sequential([\n",
    "        Conv3D(16, make3dFilter(5), activation='relu', input_shape=inputShape),\n",
    "        MaxPooling3D(make3dFilter(2), padding='same'),\n",
    "        BatchNormalization(),\n",
    "\n",
    "        Conv3D(32, make3dFilter(3), activation='relu'),\n",
    "        MaxPooling3D(pool_size=(1,2,2), padding='same'),\n",
    "        BatchNormalization(),\n",
    "\n",
    "        Conv3D(64, make3dFilter(3), activation='relu'),\n",
    "        MaxPooling3D(pool_size=(1,2,2), padding='same'),\n",
    "        BatchNormalization(),\n",
    "\n",
    "        Flatten(),\n",
    "        Dense(128, activation='relu'),\n",
    "        BatchNormalization(),\n",
    "        Dropout(0.25),\n",
    "\n",
    "        Dense(64, activation='relu'),\n",
    "        BatchNormalization(),\n",
    "        Dropout(0.25),\n",
    "\n",
    "        Dense(5, activation='softmax')\n",
    "    ])\n",
    "\n",
    "    optimiser = tf.keras.optimizers.Adam()\n",
    "\n",
    "    model.compile(optimizer=optimiser, loss='categorical_crossentropy', metrics=['categorical_accuracy'])\n",
    "    #model.compile(optimizer=Adam(), loss='categorical_crossentropy', metrics=['categorical_accuracy'])\n",
    "    return model\n",
    "\n",
    "model = defineModel(img_tensor)\n",
    "model.summary()"
   ]
  },
  {
   "cell_type": "code",
   "execution_count": 21,
   "metadata": {
    "id": "1SFrztx4vvAE"
   },
   "outputs": [],
   "source": [
    "train_generator = generator(train_path, train_doc, batch_size, img_tensor)\n",
    "val_generator = generator(val_path, val_doc, batch_size, img_tensor)"
   ]
  },
  {
   "cell_type": "markdown",
   "metadata": {
    "id": "TshGKBpyvvAF"
   },
   "source": [
    "The `steps_per_epoch` and `validation_steps` are used by `fit_generator` to decide the number of next() calls it need to make."
   ]
  },
  {
   "cell_type": "code",
   "execution_count": 22,
   "metadata": {
    "colab": {
     "base_uri": "https://localhost:8080/"
    },
    "id": "hWzVNhUhRqpL",
    "outputId": "ab9c1a89-7536-4878-9567-8d14d5350b97"
   },
   "outputs": [
    {
     "name": "stdout",
     "output_type": "stream",
     "text": [
      "WARNING:tensorflow:`period` argument is deprecated. Please use `save_freq` to specify the frequency in number of batches seen.\n"
     ]
    }
   ],
   "source": [
    "model_name = 'model_init' + '_' + str(curr_dt_time).replace(' ','').replace(':','_') + '/'\n",
    "    \n",
    "if not os.path.exists(model_name):\n",
    "    os.mkdir(model_name)\n",
    "        \n",
    "filepath = model_name + 'model-{epoch:05d}-{loss:.5f}-{categorical_accuracy:.5f}-{val_loss:.5f}-{val_categorical_accuracy:.5f}.h5'\n",
    "\n",
    "checkpoint = ModelCheckpoint(filepath, monitor='val_loss', verbose=1, save_best_only=False, save_weights_only=False, mode='auto', period=1)\n",
    "\n",
    "LR = ReduceLROnPlateau(monitor='val_loss', factor=0.2, verbose=1, patience=4)\n",
    "callbacks_list = [checkpoint, LR]"
   ]
  },
  {
   "cell_type": "markdown",
   "metadata": {
    "id": "i6nd1bm1oaS2"
   },
   "source": [
    "model_name = 'model_init' + '_' + str(curr_dt_time).replace(' ','').replace(':','_') + '/'\n",
    "    \n",
    "if not os.path.exists(model_name):\n",
    "    os.mkdir(model_name)\n",
    "\n",
    "filepath = model_name + 'model-{epoch:05d}-{loss:.5f}-{categorical_accuracy:.5f}-{val_loss:.5f}-{val_categorical_accuracy:.5f}.h5'\n",
    "\n",
    "checkpoint = ModelCheckpoint(filepath, monitor='val_loss', verbose=1, save_best_only=False, save_weights_only=False, mode='auto', period=1)\n",
    "\n",
    "LR = ReduceLROnPlateau(monitor='val_loss', factor=0.2, verbose=1, patience=4)\n",
    "\n",
    "#### callbacks_list = [checkpoint, LR]\n",
    "callbacks_list = [LR]"
   ]
  },
  {
   "cell_type": "code",
   "execution_count": 23,
   "metadata": {
    "id": "hNW5OuAsvvAF"
   },
   "outputs": [],
   "source": [
    "if (num_train_sequences%batch_size) == 0:\n",
    "    steps_per_epoch = int(num_train_sequences/batch_size)\n",
    "else:\n",
    "    steps_per_epoch = (num_train_sequences//batch_size) + 1\n",
    "\n",
    "if (num_val_sequences%batch_size) == 0:\n",
    "    validation_steps = int(num_val_sequences/batch_size)\n",
    "else:\n",
    "    validation_steps = (num_val_sequences//batch_size) + 1"
   ]
  },
  {
   "cell_type": "markdown",
   "metadata": {
    "id": "zXk7xAMuqYQO"
   },
   "source": [
    "Let us now fit the model. This will start training the model and with the help of the checkpoints, you'll be able to save the model at the end of each epoch.\n"
   ]
  },
  {
   "cell_type": "markdown",
   "metadata": {
    "id": "-hem7-SrSZme"
   },
   "source": [
    "### Test Batch Size & Frames"
   ]
  },
  {
   "cell_type": "code",
   "execution_count": 24,
   "metadata": {
    "id": "ez2ESV-vHPKA"
   },
   "outputs": [],
   "source": [
    "def testBatchSize(batch_size, n_frames):\n",
    "    img_tensor = getImgTensor(n_frames)\n",
    "    print(\"Using frames as\", img_tensor[0])\n",
    "    global callbacks_list\n",
    "    num_epochs = 3\n",
    "    train_generator = generator(train_path, train_doc, batch_size, img_tensor)\n",
    "    val_generator = generator(val_path, val_doc, batch_size, img_tensor)\n",
    "    if (num_train_sequences%batch_size) == 0:\n",
    "        steps_per_epoch = int(num_train_sequences/batch_size)\n",
    "    else:\n",
    "        steps_per_epoch = (num_train_sequences//batch_size) + 1\n",
    "\n",
    "    if (num_val_sequences%batch_size) == 0:\n",
    "        validation_steps = int(num_val_sequences/batch_size)\n",
    "    else:\n",
    "        validation_steps = (num_val_sequences//batch_size) + 1\n",
    "\n",
    "    model = defineModel(img_tensor)\n",
    "#    model.fit_generator(train_generator, steps_per_epoch=steps_per_epoch, epochs=num_epochs, verbose=1, \n",
    "#                callbacks=callbacks_list, validation_data=val_generator, \n",
    "#                validation_steps=validation_steps, class_weight=None, workers=1, initial_epoch=0)\n",
    "    model.fit_generator(train_generator, steps_per_epoch=steps_per_epoch, epochs=num_epochs, verbose=1, \n",
    "                    callbacks=callbacks_list, validation_data=val_generator, \n",
    "                    validation_steps=validation_steps, class_weight=None, workers=1, initial_epoch=0)"
   ]
  },
  {
   "cell_type": "code",
   "execution_count": 25,
   "metadata": {
    "id": "3nJjr8tXpIHT"
   },
   "outputs": [],
   "source": [
    "#testBatchSize(batch_size=64, n_frames=30)"
   ]
  },
  {
   "cell_type": "code",
   "execution_count": 26,
   "metadata": {
    "id": "FLsVZy27pIHT"
   },
   "outputs": [],
   "source": [
    "# testBatchSize(batch_size=64, n_frames=16)"
   ]
  },
  {
   "cell_type": "code",
   "execution_count": 27,
   "metadata": {
    "id": "oYgYYpnepIHT"
   },
   "outputs": [],
   "source": [
    "# testBatchSize(batch_size=32, n_frames=30)"
   ]
  },
  {
   "cell_type": "code",
   "execution_count": null,
   "metadata": {
    "id": "m_GGltWspO3Y"
   },
   "outputs": [],
   "source": []
  },
  {
   "cell_type": "code",
   "execution_count": 28,
   "metadata": {
    "id": "Iod1jHQapIHT"
   },
   "outputs": [],
   "source": [
    "# testBatchSize(batch_size=32, n_frames=16)"
   ]
  },
  {
   "cell_type": "markdown",
   "metadata": {
    "id": "Vh1IZvwiajxA"
   },
   "source": [
    "With above observations, we can see that batch size is not impacting training time but number of frames. We will use batch size of 64 as it seems optimal. It is commented as it takes a lot of time to run that is restricting for the notebook to completely run."
   ]
  },
  {
   "cell_type": "markdown",
   "metadata": {
    "id": "TRxSBVQgbPHo"
   },
   "source": [
    "### Model 1 - Frames-16, Epoc-20"
   ]
  },
  {
   "cell_type": "code",
   "execution_count": 29,
   "metadata": {
    "colab": {
     "base_uri": "https://localhost:8080/"
    },
    "id": "e9Z5A_HNZgyP",
    "outputId": "5a801bbd-f2de-4d19-bbd4-0b265b493c42"
   },
   "outputs": [
    {
     "name": "stdout",
     "output_type": "stream",
     "text": [
      "Model: \"conv_3d1\"\n",
      "_________________________________________________________________\n",
      " Layer (type)                Output Shape              Param #   \n",
      "=================================================================\n",
      " conv3d_3 (Conv3D)           (None, 12, 96, 96, 16)    6016      \n",
      "                                                                 \n",
      " max_pooling3d_3 (MaxPooling  (None, 6, 48, 48, 16)    0         \n",
      " 3D)                                                             \n",
      "                                                                 \n",
      " batch_normalization_5 (Batc  (None, 6, 48, 48, 16)    64        \n",
      " hNormalization)                                                 \n",
      "                                                                 \n",
      " conv3d_4 (Conv3D)           (None, 4, 46, 46, 32)     13856     \n",
      "                                                                 \n",
      " max_pooling3d_4 (MaxPooling  (None, 4, 23, 23, 32)    0         \n",
      " 3D)                                                             \n",
      "                                                                 \n",
      " batch_normalization_6 (Batc  (None, 4, 23, 23, 32)    128       \n",
      " hNormalization)                                                 \n",
      "                                                                 \n",
      " conv3d_5 (Conv3D)           (None, 2, 21, 21, 64)     55360     \n",
      "                                                                 \n",
      " max_pooling3d_5 (MaxPooling  (None, 2, 11, 11, 64)    0         \n",
      " 3D)                                                             \n",
      "                                                                 \n",
      " batch_normalization_7 (Batc  (None, 2, 11, 11, 64)    256       \n",
      " hNormalization)                                                 \n",
      "                                                                 \n",
      " flatten_1 (Flatten)         (None, 15488)             0         \n",
      "                                                                 \n",
      " dense_3 (Dense)             (None, 128)               1982592   \n",
      "                                                                 \n",
      " batch_normalization_8 (Batc  (None, 128)              512       \n",
      " hNormalization)                                                 \n",
      "                                                                 \n",
      " dropout_2 (Dropout)         (None, 128)               0         \n",
      "                                                                 \n",
      " dense_4 (Dense)             (None, 64)                8256      \n",
      "                                                                 \n",
      " batch_normalization_9 (Batc  (None, 64)               256       \n",
      " hNormalization)                                                 \n",
      "                                                                 \n",
      " dropout_3 (Dropout)         (None, 64)                0         \n",
      "                                                                 \n",
      " dense_5 (Dense)             (None, 5)                 325       \n",
      "                                                                 \n",
      "=================================================================\n",
      "Total params: 2,067,621\n",
      "Trainable params: 2,067,013\n",
      "Non-trainable params: 608\n",
      "_________________________________________________________________\n",
      "None\n",
      "Source path =  /datasets/Project_data/train ; batch size = 64\n",
      "Epoch 1/20\n"
     ]
    },
    {
     "name": "stderr",
     "output_type": "stream",
     "text": [
      "2022-06-13 04:15:55.903272: I tensorflow/stream_executor/cuda/cuda_dnn.cc:377] Loaded cuDNN version 8302\n"
     ]
    },
    {
     "name": "stdout",
     "output_type": "stream",
     "text": [
      "11/11 [==============================] - ETA: 0s - loss: 1.4909 - categorical_accuracy: 0.4676Source path =  /datasets/Project_data/val ; batch size = 64\n",
      "\n",
      "Epoch 00001: saving model to model_init_2022-06-1304_15_44.957822/model-00001-1.49085-0.46757-6.22973-0.20000.h5\n",
      "11/11 [==============================] - 105s 10s/step - loss: 1.4909 - categorical_accuracy: 0.4676 - val_loss: 6.2297 - val_categorical_accuracy: 0.2000 - lr: 0.0010\n",
      "Epoch 2/20\n",
      "11/11 [==============================] - ETA: 0s - loss: 0.9243 - categorical_accuracy: 0.6640\n",
      "Epoch 00002: saving model to model_init_2022-06-1304_15_44.957822/model-00002-0.92426-0.66403-7.53275-0.28125.h5\n",
      "11/11 [==============================] - 47s 5s/step - loss: 0.9243 - categorical_accuracy: 0.6640 - val_loss: 7.5328 - val_categorical_accuracy: 0.2812 - lr: 0.0010\n",
      "Epoch 3/20\n",
      "11/11 [==============================] - ETA: 0s - loss: 0.9731 - categorical_accuracy: 0.6561\n",
      "Epoch 00003: saving model to model_init_2022-06-1304_15_44.957822/model-00003-0.97305-0.65613-3.30229-0.26786.h5\n",
      "11/11 [==============================] - 42s 4s/step - loss: 0.9731 - categorical_accuracy: 0.6561 - val_loss: 3.3023 - val_categorical_accuracy: 0.2679 - lr: 0.0010\n",
      "Epoch 4/20\n",
      "11/11 [==============================] - ETA: 0s - loss: 0.7464 - categorical_accuracy: 0.7167\n",
      "Epoch 00004: saving model to model_init_2022-06-1304_15_44.957822/model-00004-0.74640-0.71674-2.83313-0.34375.h5\n",
      "11/11 [==============================] - 36s 4s/step - loss: 0.7464 - categorical_accuracy: 0.7167 - val_loss: 2.8331 - val_categorical_accuracy: 0.3438 - lr: 0.0010\n",
      "Epoch 5/20\n",
      "11/11 [==============================] - ETA: 0s - loss: 0.6725 - categorical_accuracy: 0.7751\n",
      "Epoch 00005: saving model to model_init_2022-06-1304_15_44.957822/model-00005-0.67246-0.77512-3.53836-0.15625.h5\n",
      "11/11 [==============================] - 34s 3s/step - loss: 0.6725 - categorical_accuracy: 0.7751 - val_loss: 3.5384 - val_categorical_accuracy: 0.1562 - lr: 0.0010\n",
      "Epoch 6/20\n",
      "11/11 [==============================] - ETA: 0s - loss: 0.6772 - categorical_accuracy: 0.7464\n",
      "Epoch 00006: saving model to model_init_2022-06-1304_15_44.957822/model-00006-0.67720-0.74641-2.23744-0.37500.h5\n",
      "11/11 [==============================] - 29s 3s/step - loss: 0.6772 - categorical_accuracy: 0.7464 - val_loss: 2.2374 - val_categorical_accuracy: 0.3750 - lr: 0.0010\n",
      "Epoch 7/20\n",
      "11/11 [==============================] - ETA: 0s - loss: 0.6089 - categorical_accuracy: 0.7931\n",
      "Epoch 00007: saving model to model_init_2022-06-1304_15_44.957822/model-00007-0.60891-0.79310-2.00205-0.37500.h5\n",
      "11/11 [==============================] - 29s 3s/step - loss: 0.6089 - categorical_accuracy: 0.7931 - val_loss: 2.0021 - val_categorical_accuracy: 0.3750 - lr: 0.0010\n",
      "Epoch 8/20\n",
      "11/11 [==============================] - ETA: 0s - loss: 0.6465 - categorical_accuracy: 0.7487\n",
      "Epoch 00008: saving model to model_init_2022-06-1304_15_44.957822/model-00008-0.64649-0.74866-3.53552-0.25000.h5\n",
      "11/11 [==============================] - 27s 3s/step - loss: 0.6465 - categorical_accuracy: 0.7487 - val_loss: 3.5355 - val_categorical_accuracy: 0.2500 - lr: 0.0010\n",
      "Epoch 9/20\n",
      "11/11 [==============================] - ETA: 0s - loss: 0.6247 - categorical_accuracy: 0.8021\n",
      "Epoch 00009: saving model to model_init_2022-06-1304_15_44.957822/model-00009-0.62469-0.80214-1.98563-0.25000.h5\n",
      "11/11 [==============================] - 26s 3s/step - loss: 0.6247 - categorical_accuracy: 0.8021 - val_loss: 1.9856 - val_categorical_accuracy: 0.2500 - lr: 0.0010\n",
      "Epoch 10/20\n",
      "11/11 [==============================] - ETA: 0s - loss: 0.5634 - categorical_accuracy: 0.7968\n",
      "Epoch 00010: saving model to model_init_2022-06-1304_15_44.957822/model-00010-0.56335-0.79679-3.35434-0.00000.h5\n",
      "11/11 [==============================] - 26s 2s/step - loss: 0.5634 - categorical_accuracy: 0.7968 - val_loss: 3.3543 - val_categorical_accuracy: 0.0000e+00 - lr: 0.0010\n",
      "Epoch 11/20\n",
      "11/11 [==============================] - ETA: 0s - loss: 0.4787 - categorical_accuracy: 0.8449\n",
      "Epoch 00011: saving model to model_init_2022-06-1304_15_44.957822/model-00011-0.47874-0.84492-1.56785-0.62500.h5\n",
      "11/11 [==============================] - 27s 3s/step - loss: 0.4787 - categorical_accuracy: 0.8449 - val_loss: 1.5679 - val_categorical_accuracy: 0.6250 - lr: 0.0010\n",
      "Epoch 12/20\n",
      "11/11 [==============================] - ETA: 0s - loss: 0.4196 - categorical_accuracy: 0.8235\n",
      "Epoch 00012: saving model to model_init_2022-06-1304_15_44.957822/model-00012-0.41965-0.82353-1.93213-0.37500.h5\n",
      "11/11 [==============================] - 25s 2s/step - loss: 0.4196 - categorical_accuracy: 0.8235 - val_loss: 1.9321 - val_categorical_accuracy: 0.3750 - lr: 0.0010\n",
      "Epoch 13/20\n",
      "11/11 [==============================] - ETA: 0s - loss: 0.5477 - categorical_accuracy: 0.7914\n",
      "Epoch 00013: saving model to model_init_2022-06-1304_15_44.957822/model-00013-0.54768-0.79144-1.66413-0.25000.h5\n",
      "11/11 [==============================] - 26s 3s/step - loss: 0.5477 - categorical_accuracy: 0.7914 - val_loss: 1.6641 - val_categorical_accuracy: 0.2500 - lr: 0.0010\n",
      "Epoch 14/20\n",
      "11/11 [==============================] - ETA: 0s - loss: 0.5784 - categorical_accuracy: 0.7807\n",
      "Epoch 00014: saving model to model_init_2022-06-1304_15_44.957822/model-00014-0.57836-0.78075-1.73092-0.25000.h5\n",
      "11/11 [==============================] - 26s 3s/step - loss: 0.5784 - categorical_accuracy: 0.7807 - val_loss: 1.7309 - val_categorical_accuracy: 0.2500 - lr: 0.0010\n",
      "Epoch 15/20\n",
      "11/11 [==============================] - ETA: 0s - loss: 0.4413 - categorical_accuracy: 0.8342\n",
      "Epoch 00015: saving model to model_init_2022-06-1304_15_44.957822/model-00015-0.44133-0.83422-1.97422-0.12500.h5\n",
      "\n",
      "Epoch 00015: ReduceLROnPlateau reducing learning rate to 0.00020000000949949026.\n",
      "11/11 [==============================] - 25s 2s/step - loss: 0.4413 - categorical_accuracy: 0.8342 - val_loss: 1.9742 - val_categorical_accuracy: 0.1250 - lr: 0.0010\n",
      "Epoch 16/20\n",
      "11/11 [==============================] - ETA: 0s - loss: 0.4809 - categorical_accuracy: 0.8396\n",
      "Epoch 00016: saving model to model_init_2022-06-1304_15_44.957822/model-00016-0.48085-0.83957-1.04212-0.50000.h5\n",
      "11/11 [==============================] - 26s 3s/step - loss: 0.4809 - categorical_accuracy: 0.8396 - val_loss: 1.0421 - val_categorical_accuracy: 0.5000 - lr: 2.0000e-04\n",
      "Epoch 17/20\n",
      "11/11 [==============================] - ETA: 0s - loss: 0.3550 - categorical_accuracy: 0.8556\n",
      "Epoch 00017: saving model to model_init_2022-06-1304_15_44.957822/model-00017-0.35496-0.85561-0.45877-0.87500.h5\n",
      "11/11 [==============================] - 25s 2s/step - loss: 0.3550 - categorical_accuracy: 0.8556 - val_loss: 0.4588 - val_categorical_accuracy: 0.8750 - lr: 2.0000e-04\n",
      "Epoch 18/20\n",
      "11/11 [==============================] - ETA: 0s - loss: 0.2553 - categorical_accuracy: 0.9144\n",
      "Epoch 00018: saving model to model_init_2022-06-1304_15_44.957822/model-00018-0.25527-0.91444-1.00773-0.62500.h5\n",
      "11/11 [==============================] - 28s 3s/step - loss: 0.2553 - categorical_accuracy: 0.9144 - val_loss: 1.0077 - val_categorical_accuracy: 0.6250 - lr: 2.0000e-04\n",
      "Epoch 19/20\n",
      "11/11 [==============================] - ETA: 0s - loss: 0.2668 - categorical_accuracy: 0.9358\n",
      "Epoch 00019: saving model to model_init_2022-06-1304_15_44.957822/model-00019-0.26682-0.93583-1.35417-0.50000.h5\n",
      "11/11 [==============================] - 25s 2s/step - loss: 0.2668 - categorical_accuracy: 0.9358 - val_loss: 1.3542 - val_categorical_accuracy: 0.5000 - lr: 2.0000e-04\n",
      "Epoch 20/20\n",
      "11/11 [==============================] - ETA: 0s - loss: 0.2374 - categorical_accuracy: 0.9251\n",
      "Epoch 00020: saving model to model_init_2022-06-1304_15_44.957822/model-00020-0.23739-0.92513-0.74658-0.75000.h5\n",
      "11/11 [==============================] - 26s 3s/step - loss: 0.2374 - categorical_accuracy: 0.9251 - val_loss: 0.7466 - val_categorical_accuracy: 0.7500 - lr: 2.0000e-04\n"
     ]
    }
   ],
   "source": [
    "n_frames = 16\n",
    "num_epochs = 20\n",
    "batch_size = 64\n",
    "\n",
    "img_tensor = getImgTensor(n_frames)\n",
    "train_generator = generator(train_path, train_doc, batch_size, img_tensor)\n",
    "val_generator = generator(val_path, val_doc, batch_size, img_tensor)\n",
    "\n",
    "if (num_train_sequences%batch_size) == 0:\n",
    "    steps_per_epoch = int(num_train_sequences/batch_size)\n",
    "else:\n",
    "    steps_per_epoch = (num_train_sequences//batch_size) + 1\n",
    "\n",
    "if (num_val_sequences%batch_size) == 0:\n",
    "    validation_steps = int(num_val_sequences/batch_size)\n",
    "else:\n",
    "    validation_steps = (num_val_sequences//batch_size) + 1\n",
    "    \n",
    "inputShape = (len(img_tensor[0]), img_tensor[1], img_tensor[2], img_tensor[3])\n",
    "\n",
    "model1 = Sequential([\n",
    "    Conv3D(16, make3dFilter(5), activation='relu', input_shape=inputShape),\n",
    "    MaxPooling3D(make3dFilter(2), padding='same'),\n",
    "    BatchNormalization(),\n",
    "\n",
    "    Conv3D(32, make3dFilter(3), activation='relu'),\n",
    "    MaxPooling3D(pool_size=(1,2,2), padding='same'),\n",
    "    BatchNormalization(),\n",
    "\n",
    "    Conv3D(64, make3dFilter(3), activation='relu'),\n",
    "    MaxPooling3D(pool_size=(1,2,2), padding='same'),\n",
    "    BatchNormalization(),\n",
    "\n",
    "    Flatten(),\n",
    "    Dense(128, activation='relu'),\n",
    "    BatchNormalization(),\n",
    "    Dropout(0.25),\n",
    "\n",
    "    Dense(64, activation='relu'),\n",
    "    BatchNormalization(),\n",
    "    Dropout(0.25),\n",
    "\n",
    "    Dense(5, activation='softmax')\n",
    "], name=\"conv_3d1\")\n",
    "model1.compile(optimizer=tf.keras.optimizers.Adam(), loss='categorical_crossentropy', metrics=['categorical_accuracy'])\n",
    "print(model1.summary())\n",
    "\n",
    "model1_history = model1.fit_generator(train_generator, steps_per_epoch=steps_per_epoch, epochs=num_epochs, verbose=1, \n",
    "            callbacks=callbacks_list, validation_data=val_generator, \n",
    "            validation_steps=validation_steps, class_weight=None, workers=1, initial_epoch=0)"
   ]
  },
  {
   "cell_type": "code",
   "execution_count": 30,
   "metadata": {
    "colab": {
     "base_uri": "https://localhost:8080/",
     "height": 255
    },
    "id": "YfeBXCls1r7R",
    "outputId": "eee31844-ed1d-49b4-846c-d04cb5071ca4"
   },
   "outputs": [
    {
     "data": {
      "image/png": "[encoded data removed]",
      "text/plain": [
       "<Figure size 1080x288 with 2 Axes>"
      ]
     },
     "metadata": {
      "needs_background": "light"
     },
     "output_type": "display_data"
    },
    {
     "name": "stdout",
     "output_type": "stream",
     "text": [
      "Max. Training Accuracy 0.9358288645744324\n",
      "Max. Validaiton Accuracy 0.875\n"
     ]
    }
   ],
   "source": [
    "plotModelHistory(model1_history)"
   ]
  },
  {
   "cell_type": "markdown",
   "metadata": {
    "id": "dsjCzIj40suJ"
   },
   "source": [
    "### Model 2: Frames-30, Epocs-30"
   ]
  },
  {
   "cell_type": "code",
   "execution_count": 31,
   "metadata": {
    "colab": {
     "base_uri": "https://localhost:8080/"
    },
    "id": "I82f2MK3bNyZ",
    "outputId": "9f750896-da30-42b8-989b-d2539dd072a7"
   },
   "outputs": [
    {
     "name": "stdout",
     "output_type": "stream",
     "text": [
      "Model: \"conv_3d2\"\n",
      "_________________________________________________________________\n",
      " Layer (type)                Output Shape              Param #   \n",
      "=================================================================\n",
      " conv3d_6 (Conv3D)           (None, 26, 96, 96, 16)    6016      \n",
      "                                                                 \n",
      " max_pooling3d_6 (MaxPooling  (None, 13, 48, 48, 16)   0         \n",
      " 3D)                                                             \n",
      "                                                                 \n",
      " batch_normalization_10 (Bat  (None, 13, 48, 48, 16)   64        \n",
      " chNormalization)                                                \n",
      "                                                                 \n",
      " conv3d_7 (Conv3D)           (None, 11, 46, 46, 32)    13856     \n",
      "                                                                 \n",
      " max_pooling3d_7 (MaxPooling  (None, 11, 23, 23, 32)   0         \n",
      " 3D)                                                             \n",
      "                                                                 \n",
      " batch_normalization_11 (Bat  (None, 11, 23, 23, 32)   128       \n",
      " chNormalization)                                                \n",
      "                                                                 \n",
      " conv3d_8 (Conv3D)           (None, 9, 21, 21, 64)     55360     \n",
      "                                                                 \n",
      " max_pooling3d_8 (MaxPooling  (None, 9, 11, 11, 64)    0         \n",
      " 3D)                                                             \n",
      "                                                                 \n",
      " batch_normalization_12 (Bat  (None, 9, 11, 11, 64)    256       \n",
      " chNormalization)                                                \n",
      "                                                                 \n",
      " flatten_2 (Flatten)         (None, 69696)             0         \n",
      "                                                                 \n",
      " dense_6 (Dense)             (None, 128)               8921216   \n",
      "                                                                 \n",
      " batch_normalization_13 (Bat  (None, 128)              512       \n",
      " chNormalization)                                                \n",
      "                                                                 \n",
      " dropout_4 (Dropout)         (None, 128)               0         \n",
      "                                                                 \n",
      " dense_7 (Dense)             (None, 64)                8256      \n",
      "                                                                 \n",
      " batch_normalization_14 (Bat  (None, 64)               256       \n",
      " chNormalization)                                                \n",
      "                                                                 \n",
      " dropout_5 (Dropout)         (None, 64)                0         \n",
      "                                                                 \n",
      " dense_8 (Dense)             (None, 5)                 325       \n",
      "                                                                 \n",
      "=================================================================\n",
      "Total params: 9,006,245\n",
      "Trainable params: 9,005,637\n",
      "Non-trainable params: 608\n",
      "_________________________________________________________________\n",
      "None\n",
      "Source path =  /datasets/Project_data/train ; batch size = 64\n",
      "Epoch 1/30\n",
      "11/11 [==============================] - ETA: 0s - loss: 1.4512 - categorical_accuracy: 0.4585 Source path =  /datasets/Project_data/val ; batch size = 64\n",
      "\n",
      "Epoch 00001: saving model to model_init_2022-06-1304_15_44.957822/model-00001-1.45119-0.45852-3.78746-0.21000.h5\n",
      "11/11 [==============================] - 191s 19s/step - loss: 1.4512 - categorical_accuracy: 0.4585 - val_loss: 3.7875 - val_categorical_accuracy: 0.2100 - lr: 0.0010\n",
      "Epoch 2/30\n",
      "11/11 [==============================] - ETA: 0s - loss: 1.0119 - categorical_accuracy: 0.6324\n",
      "Epoch 00002: saving model to model_init_2022-06-1304_15_44.957822/model-00002-1.01191-0.63241-2.71758-0.17188.h5\n",
      "11/11 [==============================] - 82s 8s/step - loss: 1.0119 - categorical_accuracy: 0.6324 - val_loss: 2.7176 - val_categorical_accuracy: 0.1719 - lr: 0.0010\n",
      "Epoch 3/30\n",
      "11/11 [==============================] - ETA: 0s - loss: 0.9508 - categorical_accuracy: 0.6285\n",
      "Epoch 00003: saving model to model_init_2022-06-1304_15_44.957822/model-00003-0.95079-0.62846-2.81420-0.25000.h5\n",
      "11/11 [==============================] - 86s 9s/step - loss: 0.9508 - categorical_accuracy: 0.6285 - val_loss: 2.8142 - val_categorical_accuracy: 0.2500 - lr: 0.0010\n",
      "Epoch 4/30\n",
      "11/11 [==============================] - ETA: 0s - loss: 0.7702 - categorical_accuracy: 0.6781\n",
      "Epoch 00004: saving model to model_init_2022-06-1304_15_44.957822/model-00004-0.77019-0.67811-3.06536-0.09375.h5\n",
      "11/11 [==============================] - 67s 7s/step - loss: 0.7702 - categorical_accuracy: 0.6781 - val_loss: 3.0654 - val_categorical_accuracy: 0.0938 - lr: 0.0010\n",
      "Epoch 5/30\n",
      "11/11 [==============================] - ETA: 0s - loss: 0.7448 - categorical_accuracy: 0.6938\n",
      "Epoch 00005: saving model to model_init_2022-06-1304_15_44.957822/model-00005-0.74476-0.69378-2.13677-0.40625.h5\n",
      "11/11 [==============================] - 63s 6s/step - loss: 0.7448 - categorical_accuracy: 0.6938 - val_loss: 2.1368 - val_categorical_accuracy: 0.4062 - lr: 0.0010\n",
      "Epoch 6/30\n",
      "11/11 [==============================] - ETA: 0s - loss: 0.6692 - categorical_accuracy: 0.7703\n",
      "Epoch 00006: saving model to model_init_2022-06-1304_15_44.957822/model-00006-0.66916-0.77033-4.98698-0.00000.h5\n",
      "11/11 [==============================] - 51s 5s/step - loss: 0.6692 - categorical_accuracy: 0.7703 - val_loss: 4.9870 - val_categorical_accuracy: 0.0000e+00 - lr: 0.0010\n",
      "Epoch 7/30\n",
      "11/11 [==============================] - ETA: 0s - loss: 0.7266 - categorical_accuracy: 0.7537\n",
      "Epoch 00007: saving model to model_init_2022-06-1304_15_44.957822/model-00007-0.72660-0.75369-1.49110-0.50000.h5\n",
      "11/11 [==============================] - 52s 5s/step - loss: 0.7266 - categorical_accuracy: 0.7537 - val_loss: 1.4911 - val_categorical_accuracy: 0.5000 - lr: 0.0010\n",
      "Epoch 8/30\n",
      "11/11 [==============================] - ETA: 0s - loss: 0.5650 - categorical_accuracy: 0.7647\n",
      "Epoch 00008: saving model to model_init_2022-06-1304_15_44.957822/model-00008-0.56498-0.76471-1.24239-0.50000.h5\n",
      "11/11 [==============================] - 50s 5s/step - loss: 0.5650 - categorical_accuracy: 0.7647 - val_loss: 1.2424 - val_categorical_accuracy: 0.5000 - lr: 0.0010\n",
      "Epoch 9/30\n",
      "11/11 [==============================] - ETA: 0s - loss: 0.6664 - categorical_accuracy: 0.7647\n",
      "Epoch 00009: saving model to model_init_2022-06-1304_15_44.957822/model-00009-0.66643-0.76471-2.70943-0.25000.h5\n",
      "11/11 [==============================] - 47s 5s/step - loss: 0.6664 - categorical_accuracy: 0.7647 - val_loss: 2.7094 - val_categorical_accuracy: 0.2500 - lr: 0.0010\n",
      "Epoch 10/30\n",
      "11/11 [==============================] - ETA: 0s - loss: 0.8063 - categorical_accuracy: 0.7273\n",
      "Epoch 00010: saving model to model_init_2022-06-1304_15_44.957822/model-00010-0.80631-0.72727-1.28359-0.50000.h5\n",
      "11/11 [==============================] - 50s 5s/step - loss: 0.8063 - categorical_accuracy: 0.7273 - val_loss: 1.2836 - val_categorical_accuracy: 0.5000 - lr: 0.0010\n",
      "Epoch 11/30\n",
      "11/11 [==============================] - ETA: 0s - loss: 0.5056 - categorical_accuracy: 0.8235\n",
      "Epoch 00011: saving model to model_init_2022-06-1304_15_44.957822/model-00011-0.50559-0.82353-1.35501-0.37500.h5\n",
      "11/11 [==============================] - 47s 5s/step - loss: 0.5056 - categorical_accuracy: 0.8235 - val_loss: 1.3550 - val_categorical_accuracy: 0.3750 - lr: 0.0010\n",
      "Epoch 12/30\n",
      "11/11 [==============================] - ETA: 0s - loss: 0.5064 - categorical_accuracy: 0.8075\n",
      "Epoch 00012: saving model to model_init_2022-06-1304_15_44.957822/model-00012-0.50635-0.80749-1.94450-0.37500.h5\n",
      "\n",
      "Epoch 00012: ReduceLROnPlateau reducing learning rate to 0.00020000000949949026.\n",
      "11/11 [==============================] - 48s 5s/step - loss: 0.5064 - categorical_accuracy: 0.8075 - val_loss: 1.9445 - val_categorical_accuracy: 0.3750 - lr: 0.0010\n",
      "Epoch 13/30\n",
      "11/11 [==============================] - ETA: 0s - loss: 0.5134 - categorical_accuracy: 0.7968\n",
      "Epoch 00013: saving model to model_init_2022-06-1304_15_44.957822/model-00013-0.51345-0.79679-2.03402-0.12500.h5\n",
      "11/11 [==============================] - 48s 5s/step - loss: 0.5134 - categorical_accuracy: 0.7968 - val_loss: 2.0340 - val_categorical_accuracy: 0.1250 - lr: 2.0000e-04\n",
      "Epoch 14/30\n",
      "11/11 [==============================] - ETA: 0s - loss: 0.3834 - categorical_accuracy: 0.8717\n",
      "Epoch 00014: saving model to model_init_2022-06-1304_15_44.957822/model-00014-0.38340-0.87166-2.25251-0.25000.h5\n",
      "11/11 [==============================] - 52s 5s/step - loss: 0.3834 - categorical_accuracy: 0.8717 - val_loss: 2.2525 - val_categorical_accuracy: 0.2500 - lr: 2.0000e-04\n",
      "Epoch 15/30\n",
      "11/11 [==============================] - ETA: 0s - loss: 0.5060 - categorical_accuracy: 0.8182\n",
      "Epoch 00015: saving model to model_init_2022-06-1304_15_44.957822/model-00015-0.50600-0.81818-1.41155-0.62500.h5\n",
      "11/11 [==============================] - 49s 5s/step - loss: 0.5060 - categorical_accuracy: 0.8182 - val_loss: 1.4116 - val_categorical_accuracy: 0.6250 - lr: 2.0000e-04\n",
      "Epoch 16/30\n",
      "11/11 [==============================] - ETA: 0s - loss: 0.2272 - categorical_accuracy: 0.9412\n",
      "Epoch 00016: saving model to model_init_2022-06-1304_15_44.957822/model-00016-0.22719-0.94118-2.47029-0.37500.h5\n",
      "\n",
      "Epoch 00016: ReduceLROnPlateau reducing learning rate to 4.0000001899898055e-05.\n",
      "11/11 [==============================] - 49s 5s/step - loss: 0.2272 - categorical_accuracy: 0.9412 - val_loss: 2.4703 - val_categorical_accuracy: 0.3750 - lr: 2.0000e-04\n",
      "Epoch 17/30\n",
      "11/11 [==============================] - ETA: 0s - loss: 0.3385 - categorical_accuracy: 0.8717\n",
      "Epoch 00017: saving model to model_init_2022-06-1304_15_44.957822/model-00017-0.33847-0.87166-1.91919-0.12500.h5\n",
      "11/11 [==============================] - 49s 5s/step - loss: 0.3385 - categorical_accuracy: 0.8717 - val_loss: 1.9192 - val_categorical_accuracy: 0.1250 - lr: 4.0000e-05\n",
      "Epoch 18/30\n",
      "11/11 [==============================] - ETA: 0s - loss: 0.2796 - categorical_accuracy: 0.9091\n",
      "Epoch 00018: saving model to model_init_2022-06-1304_15_44.957822/model-00018-0.27958-0.90909-1.00612-0.50000.h5\n",
      "11/11 [==============================] - 52s 5s/step - loss: 0.2796 - categorical_accuracy: 0.9091 - val_loss: 1.0061 - val_categorical_accuracy: 0.5000 - lr: 4.0000e-05\n",
      "Epoch 19/30\n",
      "11/11 [==============================] - ETA: 0s - loss: 0.3297 - categorical_accuracy: 0.8930\n",
      "Epoch 00019: saving model to model_init_2022-06-1304_15_44.957822/model-00019-0.32968-0.89305-1.82325-0.37500.h5\n",
      "11/11 [==============================] - 48s 5s/step - loss: 0.3297 - categorical_accuracy: 0.8930 - val_loss: 1.8233 - val_categorical_accuracy: 0.3750 - lr: 4.0000e-05\n",
      "Epoch 20/30\n",
      "11/11 [==============================] - ETA: 0s - loss: 0.2583 - categorical_accuracy: 0.9198\n",
      "Epoch 00020: saving model to model_init_2022-06-1304_15_44.957822/model-00020-0.25829-0.91979-2.18196-0.25000.h5\n",
      "11/11 [==============================] - 47s 5s/step - loss: 0.2583 - categorical_accuracy: 0.9198 - val_loss: 2.1820 - val_categorical_accuracy: 0.2500 - lr: 4.0000e-05\n",
      "Epoch 21/30\n",
      "11/11 [==============================] - ETA: 0s - loss: 0.2713 - categorical_accuracy: 0.9144\n",
      "Epoch 00021: saving model to model_init_2022-06-1304_15_44.957822/model-00021-0.27129-0.91444-1.56095-0.50000.h5\n",
      "11/11 [==============================] - 48s 5s/step - loss: 0.2713 - categorical_accuracy: 0.9144 - val_loss: 1.5609 - val_categorical_accuracy: 0.5000 - lr: 4.0000e-05\n",
      "Epoch 22/30\n",
      "11/11 [==============================] - ETA: 0s - loss: 0.2801 - categorical_accuracy: 0.8877\n",
      "Epoch 00022: saving model to model_init_2022-06-1304_15_44.957822/model-00022-0.28011-0.88770-1.84100-0.25000.h5\n",
      "\n",
      "Epoch 00022: ReduceLROnPlateau reducing learning rate to 8.000000525498762e-06.\n",
      "11/11 [==============================] - 51s 5s/step - loss: 0.2801 - categorical_accuracy: 0.8877 - val_loss: 1.8410 - val_categorical_accuracy: 0.2500 - lr: 4.0000e-05\n",
      "Epoch 23/30\n",
      "11/11 [==============================] - ETA: 0s - loss: 0.3028 - categorical_accuracy: 0.8984\n",
      "Epoch 00023: saving model to model_init_2022-06-1304_15_44.957822/model-00023-0.30284-0.89840-1.31175-0.62500.h5\n",
      "11/11 [==============================] - 46s 5s/step - loss: 0.3028 - categorical_accuracy: 0.8984 - val_loss: 1.3117 - val_categorical_accuracy: 0.6250 - lr: 8.0000e-06\n",
      "Epoch 24/30\n",
      "11/11 [==============================] - ETA: 0s - loss: 0.2099 - categorical_accuracy: 0.9465\n",
      "Epoch 00024: saving model to model_init_2022-06-1304_15_44.957822/model-00024-0.20990-0.94652-1.67462-0.12500.h5\n",
      "11/11 [==============================] - 49s 5s/step - loss: 0.2099 - categorical_accuracy: 0.9465 - val_loss: 1.6746 - val_categorical_accuracy: 0.1250 - lr: 8.0000e-06\n",
      "Epoch 25/30\n",
      "11/11 [==============================] - ETA: 0s - loss: 0.2798 - categorical_accuracy: 0.9305\n",
      "Epoch 00025: saving model to model_init_2022-06-1304_15_44.957822/model-00025-0.27984-0.93048-1.31781-0.37500.h5\n",
      "11/11 [==============================] - 49s 5s/step - loss: 0.2798 - categorical_accuracy: 0.9305 - val_loss: 1.3178 - val_categorical_accuracy: 0.3750 - lr: 8.0000e-06\n",
      "Epoch 26/30\n",
      "11/11 [==============================] - ETA: 0s - loss: 0.2261 - categorical_accuracy: 0.9412\n",
      "Epoch 00026: saving model to model_init_2022-06-1304_15_44.957822/model-00026-0.22611-0.94118-1.37711-0.62500.h5\n",
      "\n",
      "Epoch 00026: ReduceLROnPlateau reducing learning rate to 1.6000001778593287e-06.\n",
      "11/11 [==============================] - 47s 5s/step - loss: 0.2261 - categorical_accuracy: 0.9412 - val_loss: 1.3771 - val_categorical_accuracy: 0.6250 - lr: 8.0000e-06\n",
      "Epoch 27/30\n",
      "11/11 [==============================] - ETA: 0s - loss: 0.3530 - categorical_accuracy: 0.8663\n",
      "Epoch 00027: saving model to model_init_2022-06-1304_15_44.957822/model-00027-0.35300-0.86631-0.73955-0.75000.h5\n",
      "11/11 [==============================] - 51s 5s/step - loss: 0.3530 - categorical_accuracy: 0.8663 - val_loss: 0.7395 - val_categorical_accuracy: 0.7500 - lr: 1.6000e-06\n",
      "Epoch 28/30\n",
      "11/11 [==============================] - ETA: 0s - loss: 0.2699 - categorical_accuracy: 0.9091\n",
      "Epoch 00028: saving model to model_init_2022-06-1304_15_44.957822/model-00028-0.26989-0.90909-1.28406-0.75000.h5\n",
      "11/11 [==============================] - 47s 5s/step - loss: 0.2699 - categorical_accuracy: 0.9091 - val_loss: 1.2841 - val_categorical_accuracy: 0.7500 - lr: 1.6000e-06\n",
      "Epoch 29/30\n",
      "11/11 [==============================] - ETA: 0s - loss: 0.3382 - categorical_accuracy: 0.8556\n",
      "Epoch 00029: saving model to model_init_2022-06-1304_15_44.957822/model-00029-0.33819-0.85561-0.97133-0.62500.h5\n",
      "11/11 [==============================] - 50s 5s/step - loss: 0.3382 - categorical_accuracy: 0.8556 - val_loss: 0.9713 - val_categorical_accuracy: 0.6250 - lr: 1.6000e-06\n",
      "Epoch 30/30\n",
      "11/11 [==============================] - ETA: 0s - loss: 0.2934 - categorical_accuracy: 0.9037\n",
      "Epoch 00030: saving model to model_init_2022-06-1304_15_44.957822/model-00030-0.29337-0.90374-0.91257-0.75000.h5\n",
      "11/11 [==============================] - 48s 5s/step - loss: 0.2934 - categorical_accuracy: 0.9037 - val_loss: 0.9126 - val_categorical_accuracy: 0.7500 - lr: 1.6000e-06\n"
     ]
    }
   ],
   "source": [
    "n_frames = 30\n",
    "num_epochs = 30\n",
    "batch_size = 64\n",
    "\n",
    "img_tensor = getImgTensor(n_frames)\n",
    "train_generator = generator(train_path, train_doc, batch_size, img_tensor)\n",
    "val_generator = generator(val_path, val_doc, batch_size, img_tensor)\n",
    "\n",
    "if (num_train_sequences%batch_size) == 0:\n",
    "    steps_per_epoch = int(num_train_sequences/batch_size)\n",
    "else:\n",
    "    steps_per_epoch = (num_train_sequences//batch_size) + 1\n",
    "\n",
    "if (num_val_sequences%batch_size) == 0:\n",
    "    validation_steps = int(num_val_sequences/batch_size)\n",
    "else:\n",
    "    validation_steps = (num_val_sequences//batch_size) + 1\n",
    "    \n",
    "inputShape = (len(img_tensor[0]), img_tensor[1], img_tensor[2], img_tensor[3])\n",
    "\n",
    "model2 = Sequential([\n",
    "    Conv3D(16, make3dFilter(5), activation='relu', input_shape=inputShape),\n",
    "    MaxPooling3D(make3dFilter(2), padding='same'),\n",
    "    BatchNormalization(),\n",
    "\n",
    "    Conv3D(32, make3dFilter(3), activation='relu'),\n",
    "    MaxPooling3D(pool_size=(1,2,2), padding='same'),\n",
    "    BatchNormalization(),\n",
    "\n",
    "    Conv3D(64, make3dFilter(3), activation='relu'),\n",
    "    MaxPooling3D(pool_size=(1,2,2), padding='same'),\n",
    "    BatchNormalization(),\n",
    "\n",
    "    Flatten(),\n",
    "    Dense(128, activation='relu'),\n",
    "    BatchNormalization(),\n",
    "    Dropout(0.25),\n",
    "\n",
    "    Dense(64, activation='relu'),\n",
    "    BatchNormalization(),\n",
    "    Dropout(0.25),\n",
    "\n",
    "    Dense(5, activation='softmax')\n",
    "], name=\"conv_3d2\")\n",
    "model2.compile(optimizer=tf.keras.optimizers.Adam(), loss='categorical_crossentropy', metrics=['categorical_accuracy'])\n",
    "print(model2.summary())\n",
    "\n",
    "model2_history = model2.fit_generator(train_generator, steps_per_epoch=steps_per_epoch, epochs=num_epochs, verbose=1, \n",
    "            callbacks=callbacks_list, validation_data=val_generator, \n",
    "            validation_steps=validation_steps, class_weight=None, workers=1, initial_epoch=0)"
   ]
  },
  {
   "cell_type": "code",
   "execution_count": 32,
   "metadata": {
    "id": "dGXMP96h1zDT"
   },
   "outputs": [
    {
     "data": {
      "image/png": "[encoded data removed]",
      "text/plain": [
       "<Figure size 1080x288 with 2 Axes>"
      ]
     },
     "metadata": {
      "needs_background": "light"
     },
     "output_type": "display_data"
    },
    {
     "name": "stdout",
     "output_type": "stream",
     "text": [
      "Max. Training Accuracy 0.9465240836143494\n",
      "Max. Validaiton Accuracy 0.75\n"
     ]
    }
   ],
   "source": [
    "plotModelHistory(model2_history)"
   ]
  },
  {
   "cell_type": "markdown",
   "metadata": {
    "id": "m_-TyE8YDCnP"
   },
   "source": [
    "Reduce parameters, with padding in Conv3D layers and filter of (3,3,3)."
   ]
  },
  {
   "cell_type": "markdown",
   "metadata": {
    "id": "n_Fqznw7DwLr"
   },
   "source": [
    "### Model 3: Frames-30, Epocs-20, Reduced parameters"
   ]
  },
  {
   "cell_type": "code",
   "execution_count": 33,
   "metadata": {
    "id": "UlmHHFrL8HYu"
   },
   "outputs": [
    {
     "name": "stdout",
     "output_type": "stream",
     "text": [
      "Model: \"conv_3d3\"\n",
      "_________________________________________________________________\n",
      " Layer (type)                Output Shape              Param #   \n",
      "=================================================================\n",
      " conv3d_9 (Conv3D)           (None, 30, 100, 100, 16)  1312      \n",
      "                                                                 \n",
      " max_pooling3d_9 (MaxPooling  (None, 15, 50, 50, 16)   0         \n",
      " 3D)                                                             \n",
      "                                                                 \n",
      " batch_normalization_15 (Bat  (None, 15, 50, 50, 16)   64        \n",
      " chNormalization)                                                \n",
      "                                                                 \n",
      " conv3d_10 (Conv3D)          (None, 15, 50, 50, 32)    13856     \n",
      "                                                                 \n",
      " max_pooling3d_10 (MaxPoolin  (None, 8, 25, 25, 32)    0         \n",
      " g3D)                                                            \n",
      "                                                                 \n",
      " batch_normalization_16 (Bat  (None, 8, 25, 25, 32)    128       \n",
      " chNormalization)                                                \n",
      "                                                                 \n",
      " conv3d_11 (Conv3D)          (None, 8, 25, 25, 64)     55360     \n",
      "                                                                 \n",
      " max_pooling3d_11 (MaxPoolin  (None, 4, 13, 13, 64)    0         \n",
      " g3D)                                                            \n",
      "                                                                 \n",
      " batch_normalization_17 (Bat  (None, 4, 13, 13, 64)    256       \n",
      " chNormalization)                                                \n",
      "                                                                 \n",
      " flatten_3 (Flatten)         (None, 43264)             0         \n",
      "                                                                 \n",
      " dense_9 (Dense)             (None, 128)               5537920   \n",
      "                                                                 \n",
      " batch_normalization_18 (Bat  (None, 128)              512       \n",
      " chNormalization)                                                \n",
      "                                                                 \n",
      " dropout_6 (Dropout)         (None, 128)               0         \n",
      "                                                                 \n",
      " dense_10 (Dense)            (None, 64)                8256      \n",
      "                                                                 \n",
      " batch_normalization_19 (Bat  (None, 64)               256       \n",
      " chNormalization)                                                \n",
      "                                                                 \n",
      " dropout_7 (Dropout)         (None, 64)                0         \n",
      "                                                                 \n",
      " dense_11 (Dense)            (None, 5)                 325       \n",
      "                                                                 \n",
      "=================================================================\n",
      "Total params: 5,618,245\n",
      "Trainable params: 5,617,637\n",
      "Non-trainable params: 608\n",
      "_________________________________________________________________\n",
      "None\n",
      "Source path =  /datasets/Project_data/train ; batch size = 64\n",
      "Epoch 1/20\n",
      "11/11 [==============================] - ETA: 0s - loss: 1.3151 - categorical_accuracy: 0.5098 Source path =  /datasets/Project_data/val ; batch size = 64\n",
      "\n",
      "Epoch 00001: saving model to model_init_2022-06-1304_15_44.957822/model-00001-1.31512-0.50980-2.47161-0.21000.h5\n",
      "11/11 [==============================] - 195s 19s/step - loss: 1.3151 - categorical_accuracy: 0.5098 - val_loss: 2.4716 - val_categorical_accuracy: 0.2100 - lr: 0.0010\n",
      "Epoch 2/20\n",
      "11/11 [==============================] - ETA: 0s - loss: 0.6748 - categorical_accuracy: 0.7589\n",
      "Epoch 00002: saving model to model_init_2022-06-1304_15_44.957822/model-00002-0.67483-0.75889-2.02833-0.20312.h5\n",
      "11/11 [==============================] - 88s 9s/step - loss: 0.6748 - categorical_accuracy: 0.7589 - val_loss: 2.0283 - val_categorical_accuracy: 0.2031 - lr: 0.0010\n",
      "Epoch 3/20\n",
      "11/11 [==============================] - ETA: 0s - loss: 0.7822 - categorical_accuracy: 0.7273\n",
      "Epoch 00003: saving model to model_init_2022-06-1304_15_44.957822/model-00003-0.78221-0.72727-2.59497-0.19643.h5\n",
      "11/11 [==============================] - 82s 8s/step - loss: 0.7822 - categorical_accuracy: 0.7273 - val_loss: 2.5950 - val_categorical_accuracy: 0.1964 - lr: 0.0010\n",
      "Epoch 4/20\n",
      "11/11 [==============================] - ETA: 0s - loss: 0.6268 - categorical_accuracy: 0.7983\n",
      "Epoch 00004: saving model to model_init_2022-06-1304_15_44.957822/model-00004-0.62681-0.79828-3.00109-0.25000.h5\n",
      "11/11 [==============================] - 69s 7s/step - loss: 0.6268 - categorical_accuracy: 0.7983 - val_loss: 3.0011 - val_categorical_accuracy: 0.2500 - lr: 0.0010\n",
      "Epoch 5/20\n",
      "11/11 [==============================] - ETA: 0s - loss: 0.5240 - categorical_accuracy: 0.8086\n",
      "Epoch 00005: saving model to model_init_2022-06-1304_15_44.957822/model-00005-0.52399-0.80861-5.00206-0.09375.h5\n",
      "11/11 [==============================] - 61s 6s/step - loss: 0.5240 - categorical_accuracy: 0.8086 - val_loss: 5.0021 - val_categorical_accuracy: 0.0938 - lr: 0.0010\n",
      "Epoch 6/20\n",
      "11/11 [==============================] - ETA: 0s - loss: 0.4986 - categorical_accuracy: 0.7990\n",
      "Epoch 00006: saving model to model_init_2022-06-1304_15_44.957822/model-00006-0.49857-0.79904-1.72657-0.25000.h5\n",
      "11/11 [==============================] - 55s 5s/step - loss: 0.4986 - categorical_accuracy: 0.7990 - val_loss: 1.7266 - val_categorical_accuracy: 0.2500 - lr: 0.0010\n",
      "Epoch 7/20\n",
      "11/11 [==============================] - ETA: 0s - loss: 0.4863 - categorical_accuracy: 0.7833\n",
      "Epoch 00007: saving model to model_init_2022-06-1304_15_44.957822/model-00007-0.48628-0.78325-2.23097-0.37500.h5\n",
      "11/11 [==============================] - 53s 5s/step - loss: 0.4863 - categorical_accuracy: 0.7833 - val_loss: 2.2310 - val_categorical_accuracy: 0.3750 - lr: 0.0010\n",
      "Epoch 8/20\n",
      "11/11 [==============================] - ETA: 0s - loss: 0.4243 - categorical_accuracy: 0.8610\n",
      "Epoch 00008: saving model to model_init_2022-06-1304_15_44.957822/model-00008-0.42425-0.86096-5.88483-0.00000.h5\n",
      "11/11 [==============================] - 49s 5s/step - loss: 0.4243 - categorical_accuracy: 0.8610 - val_loss: 5.8848 - val_categorical_accuracy: 0.0000e+00 - lr: 0.0010\n",
      "Epoch 9/20\n",
      "11/11 [==============================] - ETA: 0s - loss: 0.3456 - categorical_accuracy: 0.8663\n",
      "Epoch 00009: saving model to model_init_2022-06-1304_15_44.957822/model-00009-0.34564-0.86631-5.16071-0.25000.h5\n",
      "11/11 [==============================] - 47s 5s/step - loss: 0.3456 - categorical_accuracy: 0.8663 - val_loss: 5.1607 - val_categorical_accuracy: 0.2500 - lr: 0.0010\n",
      "Epoch 10/20\n",
      "11/11 [==============================] - ETA: 0s - loss: 0.3539 - categorical_accuracy: 0.8663\n",
      "Epoch 00010: saving model to model_init_2022-06-1304_15_44.957822/model-00010-0.35395-0.86631-3.35699-0.00000.h5\n",
      "\n",
      "Epoch 00010: ReduceLROnPlateau reducing learning rate to 0.00020000000949949026.\n",
      "11/11 [==============================] - 50s 5s/step - loss: 0.3539 - categorical_accuracy: 0.8663 - val_loss: 3.3570 - val_categorical_accuracy: 0.0000e+00 - lr: 0.0010\n",
      "Epoch 11/20\n",
      "11/11 [==============================] - ETA: 0s - loss: 0.3281 - categorical_accuracy: 0.8770\n",
      "Epoch 00011: saving model to model_init_2022-06-1304_15_44.957822/model-00011-0.32809-0.87701-1.58923-0.37500.h5\n",
      "11/11 [==============================] - 48s 5s/step - loss: 0.3281 - categorical_accuracy: 0.8770 - val_loss: 1.5892 - val_categorical_accuracy: 0.3750 - lr: 2.0000e-04\n",
      "Epoch 12/20\n",
      "11/11 [==============================] - ETA: 0s - loss: 0.2670 - categorical_accuracy: 0.9198\n",
      "Epoch 00012: saving model to model_init_2022-06-1304_15_44.957822/model-00012-0.26705-0.91979-3.15622-0.12500.h5\n",
      "11/11 [==============================] - 48s 5s/step - loss: 0.2670 - categorical_accuracy: 0.9198 - val_loss: 3.1562 - val_categorical_accuracy: 0.1250 - lr: 2.0000e-04\n",
      "Epoch 13/20\n",
      "11/11 [==============================] - ETA: 0s - loss: 0.2508 - categorical_accuracy: 0.9144\n",
      "Epoch 00013: saving model to model_init_2022-06-1304_15_44.957822/model-00013-0.25082-0.91444-2.99773-0.00000.h5\n",
      "11/11 [==============================] - 51s 5s/step - loss: 0.2508 - categorical_accuracy: 0.9144 - val_loss: 2.9977 - val_categorical_accuracy: 0.0000e+00 - lr: 2.0000e-04\n",
      "Epoch 14/20\n",
      "11/11 [==============================] - ETA: 0s - loss: 0.2317 - categorical_accuracy: 0.9358\n",
      "Epoch 00014: saving model to model_init_2022-06-1304_15_44.957822/model-00014-0.23172-0.93583-2.99550-0.25000.h5\n",
      "11/11 [==============================] - 46s 5s/step - loss: 0.2317 - categorical_accuracy: 0.9358 - val_loss: 2.9955 - val_categorical_accuracy: 0.2500 - lr: 2.0000e-04\n",
      "Epoch 15/20\n",
      "11/11 [==============================] - ETA: 0s - loss: 0.1786 - categorical_accuracy: 0.9305\n",
      "Epoch 00015: saving model to model_init_2022-06-1304_15_44.957822/model-00015-0.17861-0.93048-3.46246-0.25000.h5\n",
      "\n",
      "Epoch 00015: ReduceLROnPlateau reducing learning rate to 4.0000001899898055e-05.\n",
      "11/11 [==============================] - 51s 5s/step - loss: 0.1786 - categorical_accuracy: 0.9305 - val_loss: 3.4625 - val_categorical_accuracy: 0.2500 - lr: 2.0000e-04\n",
      "Epoch 16/20\n",
      "11/11 [==============================] - ETA: 0s - loss: 0.1496 - categorical_accuracy: 0.9733\n",
      "Epoch 00016: saving model to model_init_2022-06-1304_15_44.957822/model-00016-0.14957-0.97326-2.34624-0.50000.h5\n",
      "11/11 [==============================] - 50s 5s/step - loss: 0.1496 - categorical_accuracy: 0.9733 - val_loss: 2.3462 - val_categorical_accuracy: 0.5000 - lr: 4.0000e-05\n",
      "Epoch 17/20\n",
      "11/11 [==============================] - ETA: 0s - loss: 0.1697 - categorical_accuracy: 0.9412\n",
      "Epoch 00017: saving model to model_init_2022-06-1304_15_44.957822/model-00017-0.16965-0.94118-2.34307-0.25000.h5\n",
      "11/11 [==============================] - 45s 5s/step - loss: 0.1697 - categorical_accuracy: 0.9412 - val_loss: 2.3431 - val_categorical_accuracy: 0.2500 - lr: 4.0000e-05\n",
      "Epoch 18/20\n",
      "11/11 [==============================] - ETA: 0s - loss: 0.2064 - categorical_accuracy: 0.9358\n",
      "Epoch 00018: saving model to model_init_2022-06-1304_15_44.957822/model-00018-0.20643-0.93583-2.99437-0.12500.h5\n",
      "11/11 [==============================] - 49s 5s/step - loss: 0.2064 - categorical_accuracy: 0.9358 - val_loss: 2.9944 - val_categorical_accuracy: 0.1250 - lr: 4.0000e-05\n",
      "Epoch 19/20\n",
      "11/11 [==============================] - ETA: 0s - loss: 0.1589 - categorical_accuracy: 0.9572\n",
      "Epoch 00019: saving model to model_init_2022-06-1304_15_44.957822/model-00019-0.15892-0.95722-1.68315-0.50000.h5\n",
      "\n",
      "Epoch 00019: ReduceLROnPlateau reducing learning rate to 8.000000525498762e-06.\n",
      "11/11 [==============================] - 50s 5s/step - loss: 0.1589 - categorical_accuracy: 0.9572 - val_loss: 1.6832 - val_categorical_accuracy: 0.5000 - lr: 4.0000e-05\n",
      "Epoch 20/20\n",
      "11/11 [==============================] - ETA: 0s - loss: 0.1653 - categorical_accuracy: 0.9465\n",
      "Epoch 00020: saving model to model_init_2022-06-1304_15_44.957822/model-00020-0.16533-0.94652-2.48248-0.12500.h5\n",
      "11/11 [==============================] - 51s 5s/step - loss: 0.1653 - categorical_accuracy: 0.9465 - val_loss: 2.4825 - val_categorical_accuracy: 0.1250 - lr: 8.0000e-06\n"
     ]
    }
   ],
   "source": [
    "n_frames = 30\n",
    "num_epochs = 20\n",
    "batch_size = 64\n",
    "\n",
    "img_tensor = getImgTensor(n_frames)\n",
    "train_generator = generator(train_path, train_doc, batch_size, img_tensor)\n",
    "val_generator = generator(val_path, val_doc, batch_size, img_tensor)\n",
    "\n",
    "if (num_train_sequences%batch_size) == 0:\n",
    "    steps_per_epoch = int(num_train_sequences/batch_size)\n",
    "else:\n",
    "    steps_per_epoch = (num_train_sequences//batch_size) + 1\n",
    "\n",
    "if (num_val_sequences%batch_size) == 0:\n",
    "    validation_steps = int(num_val_sequences/batch_size)\n",
    "else:\n",
    "    validation_steps = (num_val_sequences//batch_size) + 1\n",
    "    \n",
    "inputShape = (len(img_tensor[0]), img_tensor[1], img_tensor[2], img_tensor[3])\n",
    "\n",
    "model3 = Sequential([\n",
    "    Conv3D(16, make3dFilter(3), padding='same', activation='relu', input_shape=inputShape),\n",
    "    MaxPooling3D(make3dFilter(2), padding='same'),\n",
    "    BatchNormalization(),\n",
    "\n",
    "    Conv3D(32, make3dFilter(3), padding='same', activation='relu'),\n",
    "    MaxPooling3D(pool_size=(2), padding='same'),\n",
    "    BatchNormalization(),\n",
    "\n",
    "    Conv3D(64, make3dFilter(3), padding='same', activation='relu'),\n",
    "    MaxPooling3D(pool_size=(2), padding='same'),\n",
    "    BatchNormalization(),\n",
    "\n",
    "    Flatten(),\n",
    "    Dense(128, activation='relu'),\n",
    "    BatchNormalization(),\n",
    "    Dropout(0.25),\n",
    "\n",
    "    Dense(64, activation='relu'),\n",
    "    BatchNormalization(),\n",
    "    Dropout(0.25),\n",
    "\n",
    "    Dense(5, activation='softmax')\n",
    "], name=\"conv_3d3\")\n",
    "model3.compile(optimizer=tf.keras.optimizers.Adam(), loss='categorical_crossentropy', metrics=['categorical_accuracy'])\n",
    "print(model3.summary())\n",
    "\n",
    "model3_history = model3.fit_generator(train_generator, steps_per_epoch=steps_per_epoch, epochs=num_epochs, verbose=1, \n",
    "            callbacks=callbacks_list, validation_data=val_generator, \n",
    "            validation_steps=validation_steps, class_weight=None, workers=1, initial_epoch=0)"
   ]
  },
  {
   "cell_type": "code",
   "execution_count": 34,
   "metadata": {
    "id": "axo5ACbypIHV"
   },
   "outputs": [
    {
     "data": {
      "image/png": "[encoded data removed]",
      "text/plain": [
       "<Figure size 1080x288 with 2 Axes>"
      ]
     },
     "metadata": {
      "needs_background": "light"
     },
     "output_type": "display_data"
    },
    {
     "name": "stdout",
     "output_type": "stream",
     "text": [
      "Max. Training Accuracy 0.9732620120048523\n",
      "Max. Validaiton Accuracy 0.5\n"
     ]
    }
   ],
   "source": [
    "plotModelHistory(model3_history)"
   ]
  },
  {
   "cell_type": "markdown",
   "metadata": {
    "id": "50alkFqTbYVq"
   },
   "source": [
    "### Model 4: Frames-20, Same pooling in Conv3D layer"
   ]
  },
  {
   "cell_type": "code",
   "execution_count": 35,
   "metadata": {
    "id": "kR92LCmTBQCD"
   },
   "outputs": [
    {
     "name": "stdout",
     "output_type": "stream",
     "text": [
      "Model: \"conv_3d4\"\n",
      "_________________________________________________________________\n",
      " Layer (type)                Output Shape              Param #   \n",
      "=================================================================\n",
      " conv3d_12 (Conv3D)          (None, 20, 100, 100, 16)  1312      \n",
      "                                                                 \n",
      " max_pooling3d_12 (MaxPoolin  (None, 10, 50, 50, 16)   0         \n",
      " g3D)                                                            \n",
      "                                                                 \n",
      " batch_normalization_20 (Bat  (None, 10, 50, 50, 16)   64        \n",
      " chNormalization)                                                \n",
      "                                                                 \n",
      " conv3d_13 (Conv3D)          (None, 10, 50, 50, 32)    13856     \n",
      "                                                                 \n",
      " max_pooling3d_13 (MaxPoolin  (None, 5, 25, 25, 32)    0         \n",
      " g3D)                                                            \n",
      "                                                                 \n",
      " batch_normalization_21 (Bat  (None, 5, 25, 25, 32)    128       \n",
      " chNormalization)                                                \n",
      "                                                                 \n",
      " conv3d_14 (Conv3D)          (None, 5, 25, 25, 64)     55360     \n",
      "                                                                 \n",
      " max_pooling3d_14 (MaxPoolin  (None, 3, 13, 13, 64)    0         \n",
      " g3D)                                                            \n",
      "                                                                 \n",
      " batch_normalization_22 (Bat  (None, 3, 13, 13, 64)    256       \n",
      " chNormalization)                                                \n",
      "                                                                 \n",
      " conv3d_15 (Conv3D)          (None, 3, 13, 13, 128)    221312    \n",
      "                                                                 \n",
      " max_pooling3d_15 (MaxPoolin  (None, 2, 7, 7, 128)     0         \n",
      " g3D)                                                            \n",
      "                                                                 \n",
      " batch_normalization_23 (Bat  (None, 2, 7, 7, 128)     512       \n",
      " chNormalization)                                                \n",
      "                                                                 \n",
      " flatten_4 (Flatten)         (None, 12544)             0         \n",
      "                                                                 \n",
      " dense_12 (Dense)            (None, 128)               1605760   \n",
      "                                                                 \n",
      " batch_normalization_24 (Bat  (None, 128)              512       \n",
      " chNormalization)                                                \n",
      "                                                                 \n",
      " dropout_8 (Dropout)         (None, 128)               0         \n",
      "                                                                 \n",
      " dense_13 (Dense)            (None, 64)                8256      \n",
      "                                                                 \n",
      " batch_normalization_25 (Bat  (None, 64)               256       \n",
      " chNormalization)                                                \n",
      "                                                                 \n",
      " dropout_9 (Dropout)         (None, 64)                0         \n",
      "                                                                 \n",
      " dense_14 (Dense)            (None, 5)                 325       \n",
      "                                                                 \n",
      "=================================================================\n",
      "Total params: 1,907,909\n",
      "Trainable params: 1,907,045\n",
      "Non-trainable params: 864\n",
      "_________________________________________________________________\n",
      "None\n",
      "Source path =  /datasets/Project_data/train ; batch size = 64\n",
      "Epoch 1/20\n",
      "11/11 [==============================] - ETA: 0s - loss: 1.4421 - categorical_accuracy: 0.4872 Source path =  /datasets/Project_data/val ; batch size = 64\n",
      "\n",
      "Epoch 00001: saving model to model_init_2022-06-1304_15_44.957822/model-00001-1.44213-0.48718-1.96240-0.26000.h5\n",
      "11/11 [==============================] - 131s 13s/step - loss: 1.4421 - categorical_accuracy: 0.4872 - val_loss: 1.9624 - val_categorical_accuracy: 0.2600 - lr: 0.0010\n",
      "Epoch 2/20\n",
      "11/11 [==============================] - ETA: 0s - loss: 0.9303 - categorical_accuracy: 0.6640\n",
      "Epoch 00002: saving model to model_init_2022-06-1304_15_44.957822/model-00002-0.93030-0.66403-1.56630-0.29688.h5\n",
      "11/11 [==============================] - 57s 6s/step - loss: 0.9303 - categorical_accuracy: 0.6640 - val_loss: 1.5663 - val_categorical_accuracy: 0.2969 - lr: 0.0010\n",
      "Epoch 3/20\n",
      "11/11 [==============================] - ETA: 0s - loss: 0.7869 - categorical_accuracy: 0.7194\n",
      "Epoch 00003: saving model to model_init_2022-06-1304_15_44.957822/model-00003-0.78695-0.71937-2.91918-0.25000.h5\n",
      "11/11 [==============================] - 55s 5s/step - loss: 0.7869 - categorical_accuracy: 0.7194 - val_loss: 2.9192 - val_categorical_accuracy: 0.2500 - lr: 0.0010\n",
      "Epoch 4/20\n",
      "11/11 [==============================] - ETA: 0s - loss: 0.7081 - categorical_accuracy: 0.7554\n",
      "Epoch 00004: saving model to model_init_2022-06-1304_15_44.957822/model-00004-0.70813-0.75536-3.38652-0.12500.h5\n",
      "11/11 [==============================] - 43s 4s/step - loss: 0.7081 - categorical_accuracy: 0.7554 - val_loss: 3.3865 - val_categorical_accuracy: 0.1250 - lr: 0.0010\n",
      "Epoch 5/20\n",
      "11/11 [==============================] - ETA: 0s - loss: 0.6235 - categorical_accuracy: 0.7608\n",
      "Epoch 00005: saving model to model_init_2022-06-1304_15_44.957822/model-00005-0.62347-0.76077-2.67990-0.18750.h5\n",
      "11/11 [==============================] - 44s 4s/step - loss: 0.6235 - categorical_accuracy: 0.7608 - val_loss: 2.6799 - val_categorical_accuracy: 0.1875 - lr: 0.0010\n",
      "Epoch 6/20\n",
      "11/11 [==============================] - ETA: 0s - loss: 0.6618 - categorical_accuracy: 0.7368\n",
      "Epoch 00006: saving model to model_init_2022-06-1304_15_44.957822/model-00006-0.66182-0.73684-3.72567-0.12500.h5\n",
      "\n",
      "Epoch 00006: ReduceLROnPlateau reducing learning rate to 0.00020000000949949026.\n",
      "11/11 [==============================] - 34s 3s/step - loss: 0.6618 - categorical_accuracy: 0.7368 - val_loss: 3.7257 - val_categorical_accuracy: 0.1250 - lr: 0.0010\n",
      "Epoch 7/20\n",
      "11/11 [==============================] - ETA: 0s - loss: 0.5833 - categorical_accuracy: 0.7783\n",
      "Epoch 00007: saving model to model_init_2022-06-1304_15_44.957822/model-00007-0.58332-0.77833-2.44435-0.12500.h5\n",
      "11/11 [==============================] - 36s 4s/step - loss: 0.5833 - categorical_accuracy: 0.7783 - val_loss: 2.4443 - val_categorical_accuracy: 0.1250 - lr: 2.0000e-04\n",
      "Epoch 8/20\n",
      "11/11 [==============================] - ETA: 0s - loss: 0.3990 - categorical_accuracy: 0.8449\n",
      "Epoch 00008: saving model to model_init_2022-06-1304_15_44.957822/model-00008-0.39899-0.84492-2.95483-0.12500.h5\n",
      "11/11 [==============================] - 31s 3s/step - loss: 0.3990 - categorical_accuracy: 0.8449 - val_loss: 2.9548 - val_categorical_accuracy: 0.1250 - lr: 2.0000e-04\n",
      "Epoch 9/20\n",
      "11/11 [==============================] - ETA: 0s - loss: 0.4558 - categorical_accuracy: 0.8289\n",
      "Epoch 00009: saving model to model_init_2022-06-1304_15_44.957822/model-00009-0.45575-0.82888-3.34577-0.12500.h5\n",
      "11/11 [==============================] - 35s 3s/step - loss: 0.4558 - categorical_accuracy: 0.8289 - val_loss: 3.3458 - val_categorical_accuracy: 0.1250 - lr: 2.0000e-04\n",
      "Epoch 10/20\n",
      "11/11 [==============================] - ETA: 0s - loss: 0.3071 - categorical_accuracy: 0.9091\n",
      "Epoch 00010: saving model to model_init_2022-06-1304_15_44.957822/model-00010-0.30712-0.90909-3.18731-0.37500.h5\n",
      "\n",
      "Epoch 00010: ReduceLROnPlateau reducing learning rate to 4.0000001899898055e-05.\n",
      "11/11 [==============================] - 31s 3s/step - loss: 0.3071 - categorical_accuracy: 0.9091 - val_loss: 3.1873 - val_categorical_accuracy: 0.3750 - lr: 2.0000e-04\n",
      "Epoch 11/20\n",
      "11/11 [==============================] - ETA: 0s - loss: 0.2711 - categorical_accuracy: 0.9091\n",
      "Epoch 00011: saving model to model_init_2022-06-1304_15_44.957822/model-00011-0.27110-0.90909-2.47421-0.12500.h5\n",
      "11/11 [==============================] - 33s 3s/step - loss: 0.2711 - categorical_accuracy: 0.9091 - val_loss: 2.4742 - val_categorical_accuracy: 0.1250 - lr: 4.0000e-05\n",
      "Epoch 12/20\n",
      "11/11 [==============================] - ETA: 0s - loss: 0.2976 - categorical_accuracy: 0.9144\n",
      "Epoch 00012: saving model to model_init_2022-06-1304_15_44.957822/model-00012-0.29764-0.91444-3.41438-0.25000.h5\n",
      "11/11 [==============================] - 34s 3s/step - loss: 0.2976 - categorical_accuracy: 0.9144 - val_loss: 3.4144 - val_categorical_accuracy: 0.2500 - lr: 4.0000e-05\n",
      "Epoch 13/20\n",
      "11/11 [==============================] - ETA: 0s - loss: 0.3540 - categorical_accuracy: 0.8770\n",
      "Epoch 00013: saving model to model_init_2022-06-1304_15_44.957822/model-00013-0.35398-0.87701-3.72365-0.00000.h5\n",
      "11/11 [==============================] - 33s 3s/step - loss: 0.3540 - categorical_accuracy: 0.8770 - val_loss: 3.7237 - val_categorical_accuracy: 0.0000e+00 - lr: 4.0000e-05\n",
      "Epoch 14/20\n",
      "11/11 [==============================] - ETA: 0s - loss: 0.2827 - categorical_accuracy: 0.9091\n",
      "Epoch 00014: saving model to model_init_2022-06-1304_15_44.957822/model-00014-0.28275-0.90909-3.08443-0.12500.h5\n",
      "\n",
      "Epoch 00014: ReduceLROnPlateau reducing learning rate to 8.000000525498762e-06.\n",
      "11/11 [==============================] - 32s 3s/step - loss: 0.2827 - categorical_accuracy: 0.9091 - val_loss: 3.0844 - val_categorical_accuracy: 0.1250 - lr: 4.0000e-05\n",
      "Epoch 15/20\n",
      "11/11 [==============================] - ETA: 0s - loss: 0.2306 - categorical_accuracy: 0.9358\n",
      "Epoch 00015: saving model to model_init_2022-06-1304_15_44.957822/model-00015-0.23063-0.93583-2.78783-0.25000.h5\n",
      "11/11 [==============================] - 32s 3s/step - loss: 0.2306 - categorical_accuracy: 0.9358 - val_loss: 2.7878 - val_categorical_accuracy: 0.2500 - lr: 8.0000e-06\n",
      "Epoch 16/20\n",
      "11/11 [==============================] - ETA: 0s - loss: 0.3338 - categorical_accuracy: 0.8663\n",
      "Epoch 00016: saving model to model_init_2022-06-1304_15_44.957822/model-00016-0.33378-0.86631-3.60752-0.12500.h5\n",
      "11/11 [==============================] - 34s 3s/step - loss: 0.3338 - categorical_accuracy: 0.8663 - val_loss: 3.6075 - val_categorical_accuracy: 0.1250 - lr: 8.0000e-06\n",
      "Epoch 17/20\n",
      "11/11 [==============================] - ETA: 0s - loss: 0.3495 - categorical_accuracy: 0.8930\n",
      "Epoch 00017: saving model to model_init_2022-06-1304_15_44.957822/model-00017-0.34945-0.89305-3.60046-0.00000.h5\n",
      "11/11 [==============================] - 31s 3s/step - loss: 0.3495 - categorical_accuracy: 0.8930 - val_loss: 3.6005 - val_categorical_accuracy: 0.0000e+00 - lr: 8.0000e-06\n",
      "Epoch 18/20\n",
      "11/11 [==============================] - ETA: 0s - loss: 0.3128 - categorical_accuracy: 0.8824\n",
      "Epoch 00018: saving model to model_init_2022-06-1304_15_44.957822/model-00018-0.31279-0.88235-2.60763-0.25000.h5\n",
      "\n",
      "Epoch 00018: ReduceLROnPlateau reducing learning rate to 1.6000001778593287e-06.\n",
      "11/11 [==============================] - 31s 3s/step - loss: 0.3128 - categorical_accuracy: 0.8824 - val_loss: 2.6076 - val_categorical_accuracy: 0.2500 - lr: 8.0000e-06\n",
      "Epoch 19/20\n",
      "11/11 [==============================] - ETA: 0s - loss: 0.2689 - categorical_accuracy: 0.8984\n",
      "Epoch 00019: saving model to model_init_2022-06-1304_15_44.957822/model-00019-0.26887-0.89840-3.01304-0.12500.h5\n",
      "11/11 [==============================] - 34s 3s/step - loss: 0.2689 - categorical_accuracy: 0.8984 - val_loss: 3.0130 - val_categorical_accuracy: 0.1250 - lr: 1.6000e-06\n",
      "Epoch 20/20\n",
      "11/11 [==============================] - ETA: 0s - loss: 0.2807 - categorical_accuracy: 0.8930\n",
      "Epoch 00020: saving model to model_init_2022-06-1304_15_44.957822/model-00020-0.28069-0.89305-3.59884-0.00000.h5\n",
      "11/11 [==============================] - 32s 3s/step - loss: 0.2807 - categorical_accuracy: 0.8930 - val_loss: 3.5988 - val_categorical_accuracy: 0.0000e+00 - lr: 1.6000e-06\n"
     ]
    }
   ],
   "source": [
    "n_frames = 20\n",
    "num_epochs = 20\n",
    "batch_size = 64\n",
    "\n",
    "img_tensor = getImgTensor(n_frames)\n",
    "train_generator = generator(train_path, train_doc, batch_size, img_tensor)\n",
    "val_generator = generator(val_path, val_doc, batch_size, img_tensor)\n",
    "\n",
    "if (num_train_sequences%batch_size) == 0:\n",
    "    steps_per_epoch = int(num_train_sequences/batch_size)\n",
    "else:\n",
    "    steps_per_epoch = (num_train_sequences//batch_size) + 1\n",
    "\n",
    "if (num_val_sequences%batch_size) == 0:\n",
    "    validation_steps = int(num_val_sequences/batch_size)\n",
    "else:\n",
    "    validation_steps = (num_val_sequences//batch_size) + 1\n",
    "    \n",
    "inputShape = (len(img_tensor[0]), img_tensor[1], img_tensor[2], img_tensor[3])\n",
    "\n",
    "model4 = Sequential([\n",
    "    Conv3D(16, make3dFilter(3), padding='same', activation='relu', input_shape=inputShape),\n",
    "    MaxPooling3D(make3dFilter(2), padding='same'),\n",
    "    BatchNormalization(),\n",
    "\n",
    "    Conv3D(32, make3dFilter(3), padding='same', activation='relu'),\n",
    "    MaxPooling3D(pool_size=(2), padding='same'),\n",
    "    BatchNormalization(),\n",
    "\n",
    "    Conv3D(64, make3dFilter(3), padding='same', activation='relu'),\n",
    "    MaxPooling3D(pool_size=(2), padding='same'),\n",
    "    BatchNormalization(),\n",
    "\n",
    "    Conv3D(128, make3dFilter(3), padding='same', activation='relu'),\n",
    "    MaxPooling3D(pool_size=(2), padding='same'),\n",
    "    BatchNormalization(),\n",
    "\n",
    "    Flatten(),\n",
    "    Dense(128, activation='relu'),\n",
    "    BatchNormalization(),\n",
    "    Dropout(0.25),\n",
    "\n",
    "    Dense(64, activation='relu'),\n",
    "    BatchNormalization(),\n",
    "    Dropout(0.25),\n",
    "\n",
    "    Dense(5, activation='softmax')\n",
    "], name=\"conv_3d4\")\n",
    "model4.compile(optimizer=tf.keras.optimizers.Adam(), loss='categorical_crossentropy', metrics=['categorical_accuracy'])\n",
    "print(model4.summary())\n",
    "\n",
    "model4_history = model4.fit_generator(train_generator, steps_per_epoch=steps_per_epoch, epochs=num_epochs, verbose=1, \n",
    "            callbacks=callbacks_list, validation_data=val_generator, \n",
    "            validation_steps=validation_steps, class_weight=None, workers=1, initial_epoch=0)"
   ]
  },
  {
   "cell_type": "code",
   "execution_count": 36,
   "metadata": {
    "id": "1gmxGiR8pIHW"
   },
   "outputs": [
    {
     "data": {
      "image/png": "[encoded data removed]",
      "text/plain": [
       "<Figure size 1080x288 with 2 Axes>"
      ]
     },
     "metadata": {
      "needs_background": "light"
     },
     "output_type": "display_data"
    },
    {
     "name": "stdout",
     "output_type": "stream",
     "text": [
      "Max. Training Accuracy 0.9358288645744324\n",
      "Max. Validaiton Accuracy 0.375\n"
     ]
    }
   ],
   "source": [
    "plotModelHistory(model4_history)"
   ]
  },
  {
   "cell_type": "markdown",
   "metadata": {
    "id": "jd5Nr0nUaR8X"
   },
   "source": [
    "### Model 5: Frames:20, Epocs-20, BS-64, reduced kernel to (2,2,2), switching BatchNormalization before MaxPooling."
   ]
  },
  {
   "cell_type": "code",
   "execution_count": 37,
   "metadata": {
    "id": "wuKTh7-yHs13"
   },
   "outputs": [
    {
     "name": "stdout",
     "output_type": "stream",
     "text": [
      "Model: \"conv_3d5\"\n",
      "_________________________________________________________________\n",
      " Layer (type)                Output Shape              Param #   \n",
      "=================================================================\n",
      " conv3d_16 (Conv3D)          (None, 20, 100, 100, 16)  400       \n",
      "                                                                 \n",
      " batch_normalization_26 (Bat  (None, 20, 100, 100, 16)  64       \n",
      " chNormalization)                                                \n",
      "                                                                 \n",
      " max_pooling3d_16 (MaxPoolin  (None, 10, 50, 50, 16)   0         \n",
      " g3D)                                                            \n",
      "                                                                 \n",
      " conv3d_17 (Conv3D)          (None, 10, 50, 50, 32)    4128      \n",
      "                                                                 \n",
      " batch_normalization_27 (Bat  (None, 10, 50, 50, 32)   128       \n",
      " chNormalization)                                                \n",
      "                                                                 \n",
      " max_pooling3d_17 (MaxPoolin  (None, 5, 25, 25, 32)    0         \n",
      " g3D)                                                            \n",
      "                                                                 \n",
      " conv3d_18 (Conv3D)          (None, 5, 25, 25, 64)     16448     \n",
      "                                                                 \n",
      " batch_normalization_28 (Bat  (None, 5, 25, 25, 64)    256       \n",
      " chNormalization)                                                \n",
      "                                                                 \n",
      " max_pooling3d_18 (MaxPoolin  (None, 2, 12, 12, 64)    0         \n",
      " g3D)                                                            \n",
      "                                                                 \n",
      " conv3d_19 (Conv3D)          (None, 2, 12, 12, 128)    65664     \n",
      "                                                                 \n",
      " batch_normalization_29 (Bat  (None, 2, 12, 12, 128)   512       \n",
      " chNormalization)                                                \n",
      "                                                                 \n",
      " max_pooling3d_19 (MaxPoolin  (None, 1, 6, 6, 128)     0         \n",
      " g3D)                                                            \n",
      "                                                                 \n",
      " flatten_5 (Flatten)         (None, 4608)              0         \n",
      "                                                                 \n",
      " dense_15 (Dense)            (None, 256)               1179904   \n",
      "                                                                 \n",
      " dense_16 (Dense)            (None, 128)               32896     \n",
      "                                                                 \n",
      " dense_17 (Dense)            (None, 5)                 645       \n",
      "                                                                 \n",
      "=================================================================\n",
      "Total params: 1,301,045\n",
      "Trainable params: 1,300,565\n",
      "Non-trainable params: 480\n",
      "_________________________________________________________________\n",
      "None\n",
      "Source path =  /datasets/Project_data/train ; batch size = 64\n",
      "Epoch 1/20\n",
      "11/11 [==============================] - ETA: 0s - loss: 3.5040 - categorical_accuracy: 0.3258 Source path =  /datasets/Project_data/val ; batch size = 64\n",
      "\n",
      "Epoch 00001: saving model to model_init_2022-06-1304_15_44.957822/model-00001-3.50395-0.32579-1.55838-0.17000.h5\n",
      "11/11 [==============================] - 129s 13s/step - loss: 3.5040 - categorical_accuracy: 0.3258 - val_loss: 1.5584 - val_categorical_accuracy: 0.1700 - lr: 0.0010\n",
      "Epoch 2/20\n",
      "11/11 [==============================] - ETA: 0s - loss: 1.0576 - categorical_accuracy: 0.5731\n",
      "Epoch 00002: saving model to model_init_2022-06-1304_15_44.957822/model-00002-1.05759-0.57312-1.92468-0.17188.h5\n",
      "11/11 [==============================] - 58s 6s/step - loss: 1.0576 - categorical_accuracy: 0.5731 - val_loss: 1.9247 - val_categorical_accuracy: 0.1719 - lr: 0.0010\n",
      "Epoch 3/20\n",
      "11/11 [==============================] - ETA: 0s - loss: 0.8176 - categorical_accuracy: 0.7154\n",
      "Epoch 00003: saving model to model_init_2022-06-1304_15_44.957822/model-00003-0.81764-0.71542-3.44664-0.17857.h5\n",
      "11/11 [==============================] - 54s 5s/step - loss: 0.8176 - categorical_accuracy: 0.7154 - val_loss: 3.4466 - val_categorical_accuracy: 0.1786 - lr: 0.0010\n",
      "Epoch 4/20\n",
      "11/11 [==============================] - ETA: 0s - loss: 0.7589 - categorical_accuracy: 0.7124\n",
      "Epoch 00004: saving model to model_init_2022-06-1304_15_44.957822/model-00004-0.75886-0.71245-4.64388-0.18750.h5\n",
      "11/11 [==============================] - 46s 5s/step - loss: 0.7589 - categorical_accuracy: 0.7124 - val_loss: 4.6439 - val_categorical_accuracy: 0.1875 - lr: 0.0010\n",
      "Epoch 5/20\n",
      "11/11 [==============================] - ETA: 0s - loss: 0.4845 - categorical_accuracy: 0.8134\n",
      "Epoch 00005: saving model to model_init_2022-06-1304_15_44.957822/model-00005-0.48447-0.81340-4.73509-0.18750.h5\n",
      "\n",
      "Epoch 00005: ReduceLROnPlateau reducing learning rate to 0.00020000000949949026.\n",
      "11/11 [==============================] - 43s 4s/step - loss: 0.4845 - categorical_accuracy: 0.8134 - val_loss: 4.7351 - val_categorical_accuracy: 0.1875 - lr: 0.0010\n",
      "Epoch 6/20\n",
      "11/11 [==============================] - ETA: 0s - loss: 0.5297 - categorical_accuracy: 0.8278\n",
      "Epoch 00006: saving model to model_init_2022-06-1304_15_44.957822/model-00006-0.52972-0.82775-7.39686-0.12500.h5\n",
      "11/11 [==============================] - 33s 3s/step - loss: 0.5297 - categorical_accuracy: 0.8278 - val_loss: 7.3969 - val_categorical_accuracy: 0.1250 - lr: 2.0000e-04\n",
      "Epoch 7/20\n",
      "11/11 [==============================] - ETA: 0s - loss: 0.3302 - categorical_accuracy: 0.8621\n",
      "Epoch 00007: saving model to model_init_2022-06-1304_15_44.957822/model-00007-0.33018-0.86207-4.48602-0.37500.h5\n",
      "11/11 [==============================] - 34s 3s/step - loss: 0.3302 - categorical_accuracy: 0.8621 - val_loss: 4.4860 - val_categorical_accuracy: 0.3750 - lr: 2.0000e-04\n",
      "Epoch 8/20\n",
      "11/11 [==============================] - ETA: 0s - loss: 0.2716 - categorical_accuracy: 0.8984\n",
      "Epoch 00008: saving model to model_init_2022-06-1304_15_44.957822/model-00008-0.27157-0.89840-9.46522-0.12500.h5\n",
      "11/11 [==============================] - 31s 3s/step - loss: 0.2716 - categorical_accuracy: 0.8984 - val_loss: 9.4652 - val_categorical_accuracy: 0.1250 - lr: 2.0000e-04\n",
      "Epoch 9/20\n",
      "11/11 [==============================] - ETA: 0s - loss: 0.1842 - categorical_accuracy: 0.9412\n",
      "Epoch 00009: saving model to model_init_2022-06-1304_15_44.957822/model-00009-0.18420-0.94118-8.15484-0.00000.h5\n",
      "\n",
      "Epoch 00009: ReduceLROnPlateau reducing learning rate to 4.0000001899898055e-05.\n",
      "11/11 [==============================] - 33s 3s/step - loss: 0.1842 - categorical_accuracy: 0.9412 - val_loss: 8.1548 - val_categorical_accuracy: 0.0000e+00 - lr: 2.0000e-04\n",
      "Epoch 10/20\n",
      "11/11 [==============================] - ETA: 0s - loss: 0.1839 - categorical_accuracy: 0.9412\n",
      "Epoch 00010: saving model to model_init_2022-06-1304_15_44.957822/model-00010-0.18394-0.94118-8.09363-0.25000.h5\n",
      "11/11 [==============================] - 33s 3s/step - loss: 0.1839 - categorical_accuracy: 0.9412 - val_loss: 8.0936 - val_categorical_accuracy: 0.2500 - lr: 4.0000e-05\n",
      "Epoch 11/20\n",
      "11/11 [==============================] - ETA: 0s - loss: 0.1792 - categorical_accuracy: 0.9358\n",
      "Epoch 00011: saving model to model_init_2022-06-1304_15_44.957822/model-00011-0.17919-0.93583-6.58346-0.12500.h5\n",
      "11/11 [==============================] - 33s 3s/step - loss: 0.1792 - categorical_accuracy: 0.9358 - val_loss: 6.5835 - val_categorical_accuracy: 0.1250 - lr: 4.0000e-05\n",
      "Epoch 12/20\n",
      "11/11 [==============================] - ETA: 0s - loss: 0.1364 - categorical_accuracy: 0.9679\n",
      "Epoch 00012: saving model to model_init_2022-06-1304_15_44.957822/model-00012-0.13643-0.96791-9.55824-0.00000.h5\n",
      "11/11 [==============================] - 33s 3s/step - loss: 0.1364 - categorical_accuracy: 0.9679 - val_loss: 9.5582 - val_categorical_accuracy: 0.0000e+00 - lr: 4.0000e-05\n",
      "Epoch 13/20\n",
      "11/11 [==============================] - ETA: 0s - loss: 0.1516 - categorical_accuracy: 0.9679\n",
      "Epoch 00013: saving model to model_init_2022-06-1304_15_44.957822/model-00013-0.15161-0.96791-8.63699-0.12500.h5\n",
      "\n",
      "Epoch 00013: ReduceLROnPlateau reducing learning rate to 8.000000525498762e-06.\n",
      "11/11 [==============================] - 33s 3s/step - loss: 0.1516 - categorical_accuracy: 0.9679 - val_loss: 8.6370 - val_categorical_accuracy: 0.1250 - lr: 4.0000e-05\n",
      "Epoch 14/20\n",
      "11/11 [==============================] - ETA: 0s - loss: 0.1379 - categorical_accuracy: 0.9626\n",
      "Epoch 00014: saving model to model_init_2022-06-1304_15_44.957822/model-00014-0.13793-0.96257-7.95195-0.00000.h5\n",
      "11/11 [==============================] - 32s 3s/step - loss: 0.1379 - categorical_accuracy: 0.9626 - val_loss: 7.9520 - val_categorical_accuracy: 0.0000e+00 - lr: 8.0000e-06\n",
      "Epoch 15/20\n",
      "11/11 [==============================] - ETA: 0s - loss: 0.1765 - categorical_accuracy: 0.9358\n",
      "Epoch 00015: saving model to model_init_2022-06-1304_15_44.957822/model-00015-0.17653-0.93583-7.73746-0.12500.h5\n",
      "11/11 [==============================] - 34s 3s/step - loss: 0.1765 - categorical_accuracy: 0.9358 - val_loss: 7.7375 - val_categorical_accuracy: 0.1250 - lr: 8.0000e-06\n",
      "Epoch 16/20\n",
      "11/11 [==============================] - ETA: 0s - loss: 0.1322 - categorical_accuracy: 0.9679\n",
      "Epoch 00016: saving model to model_init_2022-06-1304_15_44.957822/model-00016-0.13225-0.96791-5.45942-0.25000.h5\n",
      "11/11 [==============================] - 31s 3s/step - loss: 0.1322 - categorical_accuracy: 0.9679 - val_loss: 5.4594 - val_categorical_accuracy: 0.2500 - lr: 8.0000e-06\n",
      "Epoch 17/20\n",
      "11/11 [==============================] - ETA: 0s - loss: 0.1520 - categorical_accuracy: 0.9626\n",
      "Epoch 00017: saving model to model_init_2022-06-1304_15_44.957822/model-00017-0.15195-0.96257-5.93890-0.12500.h5\n",
      "\n",
      "Epoch 00017: ReduceLROnPlateau reducing learning rate to 1.6000001778593287e-06.\n",
      "11/11 [==============================] - 34s 3s/step - loss: 0.1520 - categorical_accuracy: 0.9626 - val_loss: 5.9389 - val_categorical_accuracy: 0.1250 - lr: 8.0000e-06\n",
      "Epoch 18/20\n",
      "11/11 [==============================] - ETA: 0s - loss: 0.1242 - categorical_accuracy: 0.9893\n",
      "Epoch 00018: saving model to model_init_2022-06-1304_15_44.957822/model-00018-0.12421-0.98930-5.86528-0.00000.h5\n",
      "11/11 [==============================] - 32s 3s/step - loss: 0.1242 - categorical_accuracy: 0.9893 - val_loss: 5.8653 - val_categorical_accuracy: 0.0000e+00 - lr: 1.6000e-06\n",
      "Epoch 19/20\n",
      "11/11 [==============================] - ETA: 0s - loss: 0.1088 - categorical_accuracy: 0.9840\n",
      "Epoch 00019: saving model to model_init_2022-06-1304_15_44.957822/model-00019-0.10883-0.98396-4.37075-0.25000.h5\n",
      "11/11 [==============================] - 32s 3s/step - loss: 0.1088 - categorical_accuracy: 0.9840 - val_loss: 4.3707 - val_categorical_accuracy: 0.2500 - lr: 1.6000e-06\n",
      "Epoch 20/20\n",
      "11/11 [==============================] - ETA: 0s - loss: 0.1263 - categorical_accuracy: 0.9786\n",
      "Epoch 00020: saving model to model_init_2022-06-1304_15_44.957822/model-00020-0.12626-0.97861-5.82580-0.25000.h5\n",
      "11/11 [==============================] - 32s 3s/step - loss: 0.1263 - categorical_accuracy: 0.9786 - val_loss: 5.8258 - val_categorical_accuracy: 0.2500 - lr: 1.6000e-06\n"
     ]
    }
   ],
   "source": [
    "n_frames = 20\n",
    "num_epochs = 20\n",
    "batch_size = 64\n",
    "\n",
    "img_tensor = getImgTensor(n_frames)\n",
    "train_generator = generator(train_path, train_doc, batch_size, img_tensor)\n",
    "val_generator = generator(val_path, val_doc, batch_size, img_tensor)\n",
    "\n",
    "if (num_train_sequences%batch_size) == 0:\n",
    "    steps_per_epoch = int(num_train_sequences/batch_size)\n",
    "else:\n",
    "    steps_per_epoch = (num_train_sequences//batch_size) + 1\n",
    "\n",
    "if (num_val_sequences%batch_size) == 0:\n",
    "    validation_steps = int(num_val_sequences/batch_size)\n",
    "else:\n",
    "    validation_steps = (num_val_sequences//batch_size) + 1\n",
    "    \n",
    "inputShape = (len(img_tensor[0]), img_tensor[1], img_tensor[2], img_tensor[3])\n",
    "\n",
    "model5 = Sequential([\n",
    "    Conv3D(16, make3dFilter(2), padding='same', activation='relu', input_shape=inputShape),\n",
    "    BatchNormalization(),\n",
    "    MaxPooling3D(make3dFilter(2)),\n",
    "\n",
    "    Conv3D(32, make3dFilter(2), padding='same', activation='relu'),\n",
    "    BatchNormalization(),\n",
    "    MaxPooling3D(pool_size=(2)),\n",
    "\n",
    "    Conv3D(64, make3dFilter(2), padding='same', activation='relu'),\n",
    "    BatchNormalization(),\n",
    "    MaxPooling3D(pool_size=(2)),\n",
    "\n",
    "    Conv3D(128, make3dFilter(2), padding='same', activation='relu'),\n",
    "    BatchNormalization(),\n",
    "    MaxPooling3D(pool_size=(2)),\n",
    "\n",
    "    Flatten(),\n",
    "    Dense(256, activation='relu'),\n",
    "    # BatchNormalization(),\n",
    "    # Dropout(0.3),\n",
    "\n",
    "    Dense(128, activation='relu'),\n",
    "    # BatchNormalization(),\n",
    "    # Dropout(0.2),\n",
    "\n",
    "    Dense(5, activation='softmax')\n",
    "], name=\"conv_3d5\")\n",
    "model5.compile(optimizer=tf.keras.optimizers.Adam(), loss='categorical_crossentropy', metrics=['categorical_accuracy'])\n",
    "print(model5.summary())\n",
    "\n",
    "model5_history = model5.fit_generator(train_generator, steps_per_epoch=steps_per_epoch, epochs=num_epochs, verbose=1, \n",
    "            callbacks=callbacks_list, validation_data=val_generator, \n",
    "            validation_steps=validation_steps, class_weight=None, workers=1, initial_epoch=0)"
   ]
  },
  {
   "cell_type": "code",
   "execution_count": 38,
   "metadata": {
    "id": "CTjFGiU6pIHW"
   },
   "outputs": [
    {
     "data": {
      "image/png": "[encoded data removed]",
      "text/plain": [
       "<Figure size 1080x288 with 2 Axes>"
      ]
     },
     "metadata": {
      "needs_background": "light"
     },
     "output_type": "display_data"
    },
    {
     "name": "stdout",
     "output_type": "stream",
     "text": [
      "Max. Training Accuracy 0.9893048405647278\n",
      "Max. Validaiton Accuracy 0.375\n"
     ]
    }
   ],
   "source": [
    "plotModelHistory(model5_history)"
   ]
  },
  {
   "cell_type": "markdown",
   "metadata": {
    "id": "6OFOJQZFcjQW"
   },
   "source": [
    "### Model 6: Switching Model architecture to Conv2D+LSTM"
   ]
  },
  {
   "cell_type": "code",
   "execution_count": 39,
   "metadata": {
    "id": "QDuEGEx3TTyp"
   },
   "outputs": [
    {
     "name": "stdout",
     "output_type": "stream",
     "text": [
      "Model: \"conv_2d_lstm\"\n",
      "_________________________________________________________________\n",
      " Layer (type)                Output Shape              Param #   \n",
      "=================================================================\n",
      " time_distributed (TimeDistr  (None, 20, 100, 100, 16)  448      \n",
      " ibuted)                                                         \n",
      "                                                                 \n",
      " time_distributed_1 (TimeDis  (None, 20, 100, 100, 16)  64       \n",
      " tributed)                                                       \n",
      "                                                                 \n",
      " time_distributed_2 (TimeDis  (None, 20, 50, 50, 16)   0         \n",
      " tributed)                                                       \n",
      "                                                                 \n",
      " time_distributed_3 (TimeDis  (None, 20, 50, 50, 32)   4640      \n",
      " tributed)                                                       \n",
      "                                                                 \n",
      " time_distributed_4 (TimeDis  (None, 20, 50, 50, 32)   128       \n",
      " tributed)                                                       \n",
      "                                                                 \n",
      " time_distributed_5 (TimeDis  (None, 20, 25, 25, 32)   0         \n",
      " tributed)                                                       \n",
      "                                                                 \n",
      " time_distributed_6 (TimeDis  (None, 20, 25, 25, 64)   18496     \n",
      " tributed)                                                       \n",
      "                                                                 \n",
      " time_distributed_7 (TimeDis  (None, 20, 25, 25, 64)   256       \n",
      " tributed)                                                       \n",
      "                                                                 \n",
      " time_distributed_8 (TimeDis  (None, 20, 12, 12, 64)   0         \n",
      " tributed)                                                       \n",
      "                                                                 \n",
      " time_distributed_9 (TimeDis  (None, 20, 12, 12, 128)  73856     \n",
      " tributed)                                                       \n",
      "                                                                 \n",
      " time_distributed_10 (TimeDi  (None, 20, 12, 12, 128)  512       \n",
      " stributed)                                                      \n",
      "                                                                 \n",
      " time_distributed_11 (TimeDi  (None, 20, 6, 6, 128)    0         \n",
      " stributed)                                                      \n",
      "                                                                 \n",
      " time_distributed_12 (TimeDi  (None, 20, 6, 6, 256)    295168    \n",
      " stributed)                                                      \n",
      "                                                                 \n",
      " time_distributed_13 (TimeDi  (None, 20, 6, 6, 256)    1024      \n",
      " stributed)                                                      \n",
      "                                                                 \n",
      " time_distributed_14 (TimeDi  (None, 20, 3, 3, 256)    0         \n",
      " stributed)                                                      \n",
      "                                                                 \n",
      " time_distributed_15 (TimeDi  (None, 20, 2304)         0         \n",
      " stributed)                                                      \n",
      "                                                                 \n",
      " lstm (LSTM)                 (None, 256)               2622464   \n",
      "                                                                 \n",
      " dropout_10 (Dropout)        (None, 256)               0         \n",
      "                                                                 \n",
      " dense_18 (Dense)            (None, 256)               65792     \n",
      "                                                                 \n",
      " dropout_11 (Dropout)        (None, 256)               0         \n",
      "                                                                 \n",
      " dense_19 (Dense)            (None, 5)                 1285      \n",
      "                                                                 \n",
      "=================================================================\n",
      "Total params: 3,084,133\n",
      "Trainable params: 3,083,141\n",
      "Non-trainable params: 992\n",
      "_________________________________________________________________\n",
      "None\n",
      "Source path =  /datasets/Project_data/train ; batch size = 32\n",
      "Epoch 1/30\n",
      "21/21 [==============================] - ETA: 0s - loss: 1.3223 - categorical_accuracy: 0.4600Source path =  /datasets/Project_data/val ; batch size = 32\n",
      "\n",
      "Epoch 00001: saving model to model_init_2022-06-1304_15_44.957822/model-00001-1.32226-0.46003-1.79723-0.18000.h5\n",
      "21/21 [==============================] - 131s 6s/step - loss: 1.3223 - categorical_accuracy: 0.4600 - val_loss: 1.7972 - val_categorical_accuracy: 0.1800 - lr: 0.0010\n",
      "Epoch 2/30\n",
      "21/21 [==============================] - ETA: 0s - loss: 0.9299 - categorical_accuracy: 0.6273\n",
      "Epoch 00002: saving model to model_init_2022-06-1304_15_44.957822/model-00002-0.92989-0.62733-2.12042-0.18750.h5\n",
      "21/21 [==============================] - 84s 4s/step - loss: 0.9299 - categorical_accuracy: 0.6273 - val_loss: 2.1204 - val_categorical_accuracy: 0.1875 - lr: 0.0010\n",
      "Epoch 3/30\n",
      "21/21 [==============================] - ETA: 0s - loss: 0.7630 - categorical_accuracy: 0.6956\n",
      "Epoch 00003: saving model to model_init_2022-06-1304_15_44.957822/model-00003-0.76299-0.69555-2.47362-0.18750.h5\n",
      "21/21 [==============================] - 70s 3s/step - loss: 0.7630 - categorical_accuracy: 0.6956 - val_loss: 2.4736 - val_categorical_accuracy: 0.1875 - lr: 0.0010\n",
      "Epoch 4/30\n",
      "21/21 [==============================] - ETA: 0s - loss: 0.7383 - categorical_accuracy: 0.7168\n",
      "Epoch 00004: saving model to model_init_2022-06-1304_15_44.957822/model-00004-0.73831-0.71679-3.25151-0.18750.h5\n",
      "21/21 [==============================] - 71s 4s/step - loss: 0.7383 - categorical_accuracy: 0.7168 - val_loss: 3.2515 - val_categorical_accuracy: 0.1875 - lr: 0.0010\n",
      "Epoch 5/30\n",
      "21/21 [==============================] - ETA: 0s - loss: 0.6657 - categorical_accuracy: 0.7255\n",
      "Epoch 00005: saving model to model_init_2022-06-1304_15_44.957822/model-00005-0.66571-0.72549-3.93392-0.18750.h5\n",
      "\n",
      "Epoch 00005: ReduceLROnPlateau reducing learning rate to 0.00020000000949949026.\n",
      "21/21 [==============================] - 66s 3s/step - loss: 0.6657 - categorical_accuracy: 0.7255 - val_loss: 3.9339 - val_categorical_accuracy: 0.1875 - lr: 0.0010\n",
      "Epoch 6/30\n",
      "21/21 [==============================] - ETA: 0s - loss: 0.7342 - categorical_accuracy: 0.7143\n",
      "Epoch 00006: saving model to model_init_2022-06-1304_15_44.957822/model-00006-0.73415-0.71429-3.11445-0.25000.h5\n",
      "21/21 [==============================] - 60s 3s/step - loss: 0.7342 - categorical_accuracy: 0.7143 - val_loss: 3.1144 - val_categorical_accuracy: 0.2500 - lr: 2.0000e-04\n",
      "Epoch 7/30\n",
      "21/21 [==============================] - ETA: 0s - loss: 0.4755 - categorical_accuracy: 0.8179\n",
      "Epoch 00007: saving model to model_init_2022-06-1304_15_44.957822/model-00007-0.47550-0.81793-2.80190-0.12500.h5\n",
      "21/21 [==============================] - 63s 3s/step - loss: 0.4755 - categorical_accuracy: 0.8179 - val_loss: 2.8019 - val_categorical_accuracy: 0.1250 - lr: 2.0000e-04\n",
      "Epoch 8/30\n",
      "21/21 [==============================] - ETA: 0s - loss: 0.3789 - categorical_accuracy: 0.8515\n",
      "Epoch 00008: saving model to model_init_2022-06-1304_15_44.957822/model-00008-0.37893-0.85154-2.76633-0.18750.h5\n",
      "21/21 [==============================] - 61s 3s/step - loss: 0.3789 - categorical_accuracy: 0.8515 - val_loss: 2.7663 - val_categorical_accuracy: 0.1875 - lr: 2.0000e-04\n",
      "Epoch 9/30\n",
      "21/21 [==============================] - ETA: 0s - loss: 0.4343 - categorical_accuracy: 0.8375\n",
      "Epoch 00009: saving model to model_init_2022-06-1304_15_44.957822/model-00009-0.43427-0.83754-2.40075-0.25000.h5\n",
      "\n",
      "Epoch 00009: ReduceLROnPlateau reducing learning rate to 4.0000001899898055e-05.\n",
      "21/21 [==============================] - 61s 3s/step - loss: 0.4343 - categorical_accuracy: 0.8375 - val_loss: 2.4008 - val_categorical_accuracy: 0.2500 - lr: 2.0000e-04\n",
      "Epoch 10/30\n",
      "21/21 [==============================] - ETA: 0s - loss: 0.3210 - categorical_accuracy: 0.8711\n",
      "Epoch 00010: saving model to model_init_2022-06-1304_15_44.957822/model-00010-0.32103-0.87115-2.51870-0.25000.h5\n",
      "21/21 [==============================] - 63s 3s/step - loss: 0.3210 - categorical_accuracy: 0.8711 - val_loss: 2.5187 - val_categorical_accuracy: 0.2500 - lr: 4.0000e-05\n",
      "Epoch 11/30\n",
      "21/21 [==============================] - ETA: 0s - loss: 0.2472 - categorical_accuracy: 0.9300\n",
      "Epoch 00011: saving model to model_init_2022-06-1304_15_44.957822/model-00011-0.24722-0.92997-1.60903-0.43750.h5\n",
      "21/21 [==============================] - 62s 3s/step - loss: 0.2472 - categorical_accuracy: 0.9300 - val_loss: 1.6090 - val_categorical_accuracy: 0.4375 - lr: 4.0000e-05\n",
      "Epoch 12/30\n",
      "21/21 [==============================] - ETA: 0s - loss: 0.2497 - categorical_accuracy: 0.9356\n",
      "Epoch 00012: saving model to model_init_2022-06-1304_15_44.957822/model-00012-0.24968-0.93557-2.86773-0.12500.h5\n",
      "21/21 [==============================] - 65s 3s/step - loss: 0.2497 - categorical_accuracy: 0.9356 - val_loss: 2.8677 - val_categorical_accuracy: 0.1250 - lr: 4.0000e-05\n",
      "Epoch 13/30\n",
      "21/21 [==============================] - ETA: 0s - loss: 0.2888 - categorical_accuracy: 0.9132\n",
      "Epoch 00013: saving model to model_init_2022-06-1304_15_44.957822/model-00013-0.28879-0.91317-2.71382-0.31250.h5\n",
      "21/21 [==============================] - 61s 3s/step - loss: 0.2888 - categorical_accuracy: 0.9132 - val_loss: 2.7138 - val_categorical_accuracy: 0.3125 - lr: 4.0000e-05\n",
      "Epoch 14/30\n",
      "21/21 [==============================] - ETA: 0s - loss: 0.2191 - categorical_accuracy: 0.9272\n",
      "Epoch 00014: saving model to model_init_2022-06-1304_15_44.957822/model-00014-0.21906-0.92717-2.25603-0.18750.h5\n",
      "21/21 [==============================] - 62s 3s/step - loss: 0.2191 - categorical_accuracy: 0.9272 - val_loss: 2.2560 - val_categorical_accuracy: 0.1875 - lr: 4.0000e-05\n",
      "Epoch 15/30\n",
      "21/21 [==============================] - ETA: 0s - loss: 0.2504 - categorical_accuracy: 0.9328\n",
      "Epoch 00015: saving model to model_init_2022-06-1304_15_44.957822/model-00015-0.25041-0.93277-2.23019-0.37500.h5\n",
      "\n",
      "Epoch 00015: ReduceLROnPlateau reducing learning rate to 8.000000525498762e-06.\n",
      "21/21 [==============================] - 62s 3s/step - loss: 0.2504 - categorical_accuracy: 0.9328 - val_loss: 2.2302 - val_categorical_accuracy: 0.3750 - lr: 4.0000e-05\n",
      "Epoch 16/30\n",
      "21/21 [==============================] - ETA: 0s - loss: 0.2217 - categorical_accuracy: 0.9272\n",
      "Epoch 00016: saving model to model_init_2022-06-1304_15_44.957822/model-00016-0.22173-0.92717-1.99216-0.25000.h5\n",
      "21/21 [==============================] - 64s 3s/step - loss: 0.2217 - categorical_accuracy: 0.9272 - val_loss: 1.9922 - val_categorical_accuracy: 0.2500 - lr: 8.0000e-06\n",
      "Epoch 17/30\n",
      "21/21 [==============================] - ETA: 0s - loss: 0.2063 - categorical_accuracy: 0.9300\n",
      "Epoch 00017: saving model to model_init_2022-06-1304_15_44.957822/model-00017-0.20631-0.92997-2.59113-0.18750.h5\n",
      "21/21 [==============================] - 62s 3s/step - loss: 0.2063 - categorical_accuracy: 0.9300 - val_loss: 2.5911 - val_categorical_accuracy: 0.1875 - lr: 8.0000e-06\n",
      "Epoch 18/30\n",
      "21/21 [==============================] - ETA: 0s - loss: 0.2235 - categorical_accuracy: 0.9300\n",
      "Epoch 00018: saving model to model_init_2022-06-1304_15_44.957822/model-00018-0.22352-0.92997-2.22686-0.31250.h5\n",
      "21/21 [==============================] - 61s 3s/step - loss: 0.2235 - categorical_accuracy: 0.9300 - val_loss: 2.2269 - val_categorical_accuracy: 0.3125 - lr: 8.0000e-06\n",
      "Epoch 19/30\n",
      "21/21 [==============================] - ETA: 0s - loss: 0.2070 - categorical_accuracy: 0.9356\n",
      "Epoch 00019: saving model to model_init_2022-06-1304_15_44.957822/model-00019-0.20699-0.93557-1.75110-0.50000.h5\n",
      "\n",
      "Epoch 00019: ReduceLROnPlateau reducing learning rate to 1.6000001778593287e-06.\n",
      "21/21 [==============================] - 63s 3s/step - loss: 0.2070 - categorical_accuracy: 0.9356 - val_loss: 1.7511 - val_categorical_accuracy: 0.5000 - lr: 8.0000e-06\n",
      "Epoch 20/30\n",
      "21/21 [==============================] - ETA: 0s - loss: 0.2177 - categorical_accuracy: 0.9468\n",
      "Epoch 00020: saving model to model_init_2022-06-1304_15_44.957822/model-00020-0.21774-0.94678-2.27292-0.37500.h5\n",
      "21/21 [==============================] - 64s 3s/step - loss: 0.2177 - categorical_accuracy: 0.9468 - val_loss: 2.2729 - val_categorical_accuracy: 0.3750 - lr: 1.6000e-06\n",
      "Epoch 21/30\n",
      "21/21 [==============================] - ETA: 0s - loss: 0.1802 - categorical_accuracy: 0.9496\n",
      "Epoch 00021: saving model to model_init_2022-06-1304_15_44.957822/model-00021-0.18017-0.94958-2.55914-0.50000.h5\n",
      "21/21 [==============================] - 61s 3s/step - loss: 0.1802 - categorical_accuracy: 0.9496 - val_loss: 2.5591 - val_categorical_accuracy: 0.5000 - lr: 1.6000e-06\n",
      "Epoch 22/30\n",
      "21/21 [==============================] - ETA: 0s - loss: 0.1602 - categorical_accuracy: 0.9720\n",
      "Epoch 00022: saving model to model_init_2022-06-1304_15_44.957822/model-00022-0.16024-0.97199-1.66682-0.56250.h5\n",
      "21/21 [==============================] - 63s 3s/step - loss: 0.1602 - categorical_accuracy: 0.9720 - val_loss: 1.6668 - val_categorical_accuracy: 0.5625 - lr: 1.6000e-06\n",
      "Epoch 23/30\n",
      "21/21 [==============================] - ETA: 0s - loss: 0.2205 - categorical_accuracy: 0.9188\n",
      "Epoch 00023: saving model to model_init_2022-06-1304_15_44.957822/model-00023-0.22045-0.91877-1.93333-0.50000.h5\n",
      "\n",
      "Epoch 00023: ReduceLROnPlateau reducing learning rate to 3.200000264769187e-07.\n",
      "21/21 [==============================] - 61s 3s/step - loss: 0.2205 - categorical_accuracy: 0.9188 - val_loss: 1.9333 - val_categorical_accuracy: 0.5000 - lr: 1.6000e-06\n",
      "Epoch 24/30\n",
      "21/21 [==============================] - ETA: 0s - loss: 0.2173 - categorical_accuracy: 0.9328\n",
      "Epoch 00024: saving model to model_init_2022-06-1304_15_44.957822/model-00024-0.21729-0.93277-1.18653-0.62500.h5\n",
      "21/21 [==============================] - 64s 3s/step - loss: 0.2173 - categorical_accuracy: 0.9328 - val_loss: 1.1865 - val_categorical_accuracy: 0.6250 - lr: 3.2000e-07\n",
      "Epoch 25/30\n",
      "21/21 [==============================] - ETA: 0s - loss: 0.2185 - categorical_accuracy: 0.9384\n",
      "Epoch 00025: saving model to model_init_2022-06-1304_15_44.957822/model-00025-0.21852-0.93838-1.53240-0.37500.h5\n",
      "21/21 [==============================] - 62s 3s/step - loss: 0.2185 - categorical_accuracy: 0.9384 - val_loss: 1.5324 - val_categorical_accuracy: 0.3750 - lr: 3.2000e-07\n",
      "Epoch 26/30\n",
      "21/21 [==============================] - ETA: 0s - loss: 0.1715 - categorical_accuracy: 0.9440\n",
      "Epoch 00026: saving model to model_init_2022-06-1304_15_44.957822/model-00026-0.17145-0.94398-0.79511-0.62500.h5\n",
      "21/21 [==============================] - 61s 3s/step - loss: 0.1715 - categorical_accuracy: 0.9440 - val_loss: 0.7951 - val_categorical_accuracy: 0.6250 - lr: 3.2000e-07\n",
      "Epoch 27/30\n",
      "21/21 [==============================] - ETA: 0s - loss: 0.2169 - categorical_accuracy: 0.9272\n",
      "Epoch 00027: saving model to model_init_2022-06-1304_15_44.957822/model-00027-0.21687-0.92717-0.80860-0.81250.h5\n",
      "21/21 [==============================] - 62s 3s/step - loss: 0.2169 - categorical_accuracy: 0.9272 - val_loss: 0.8086 - val_categorical_accuracy: 0.8125 - lr: 3.2000e-07\n",
      "Epoch 28/30\n",
      "21/21 [==============================] - ETA: 0s - loss: 0.2340 - categorical_accuracy: 0.9216\n",
      "Epoch 00028: saving model to model_init_2022-06-1304_15_44.957822/model-00028-0.23400-0.92157-0.97788-0.68750.h5\n",
      "21/21 [==============================] - 65s 3s/step - loss: 0.2340 - categorical_accuracy: 0.9216 - val_loss: 0.9779 - val_categorical_accuracy: 0.6875 - lr: 3.2000e-07\n",
      "Epoch 29/30\n",
      "21/21 [==============================] - ETA: 0s - loss: 0.2173 - categorical_accuracy: 0.9356\n",
      "Epoch 00029: saving model to model_init_2022-06-1304_15_44.957822/model-00029-0.21727-0.93557-1.21288-0.68750.h5\n",
      "21/21 [==============================] - 59s 3s/step - loss: 0.2173 - categorical_accuracy: 0.9356 - val_loss: 1.2129 - val_categorical_accuracy: 0.6875 - lr: 3.2000e-07\n",
      "Epoch 30/30\n",
      "21/21 [==============================] - ETA: 0s - loss: 0.1728 - categorical_accuracy: 0.9608\n",
      "Epoch 00030: saving model to model_init_2022-06-1304_15_44.957822/model-00030-0.17277-0.96078-0.89110-0.68750.h5\n",
      "\n",
      "Epoch 00030: ReduceLROnPlateau reducing learning rate to 6.400000529538374e-08.\n",
      "21/21 [==============================] - 65s 3s/step - loss: 0.1728 - categorical_accuracy: 0.9608 - val_loss: 0.8911 - val_categorical_accuracy: 0.6875 - lr: 3.2000e-07\n"
     ]
    }
   ],
   "source": [
    "n_frames = 20\n",
    "num_epochs = 30\n",
    "batch_size = 32\n",
    "\n",
    "img_tensor = getImgTensor(n_frames)\n",
    "train_generator = generator(train_path, train_doc, batch_size, img_tensor)\n",
    "val_generator = generator(val_path, val_doc, batch_size, img_tensor)\n",
    "\n",
    "if (num_train_sequences%batch_size) == 0:\n",
    "    steps_per_epoch = int(num_train_sequences/batch_size)\n",
    "else:\n",
    "    steps_per_epoch = (num_train_sequences//batch_size) + 1\n",
    "\n",
    "if (num_val_sequences%batch_size) == 0:\n",
    "    validation_steps = int(num_val_sequences/batch_size)\n",
    "else:\n",
    "    validation_steps = (num_val_sequences//batch_size) + 1\n",
    "    \n",
    "inputShape = (len(img_tensor[0]), img_tensor[1], img_tensor[2], img_tensor[3])\n",
    "\n",
    "model6 = Sequential([\n",
    "    TimeDistributed(Conv2D(16, make2dFilter(3), padding='same', activation='relu'), input_shape=inputShape),\n",
    "    TimeDistributed(BatchNormalization()),\n",
    "    TimeDistributed(MaxPooling2D(make2dFilter(2))),\n",
    "\n",
    "    TimeDistributed(Conv2D(32, make2dFilter(3), padding='same', activation='relu')),\n",
    "    TimeDistributed(BatchNormalization()),\n",
    "    TimeDistributed(MaxPooling2D(make2dFilter(2))),\n",
    "\n",
    "    TimeDistributed(Conv2D(64, make2dFilter(3), padding='same', activation='relu')),\n",
    "    TimeDistributed(BatchNormalization()),\n",
    "    TimeDistributed(MaxPooling2D(make2dFilter(2))),\n",
    "\n",
    "    TimeDistributed(Conv2D(128, make2dFilter(3), padding='same', activation='relu')),\n",
    "    TimeDistributed(BatchNormalization()),\n",
    "    TimeDistributed(MaxPooling2D(make2dFilter(2))),\n",
    "\n",
    "    TimeDistributed(Conv2D(256, make2dFilter(3), padding='same', activation='relu')),\n",
    "    TimeDistributed(BatchNormalization()),\n",
    "    TimeDistributed(MaxPooling2D(make2dFilter(2))),\n",
    "\n",
    "    TimeDistributed(Flatten()),\n",
    "    LSTM(256),\n",
    "    Dropout(0.2),\n",
    "\n",
    "    Dense(256, activation='relu'),\n",
    "    Dropout(0.2),\n",
    "\n",
    "    Dense(5, activation='softmax')\n",
    "], name=\"conv_2d_lstm\")\n",
    "model6.compile(optimizer=tf.keras.optimizers.Adam(), loss='categorical_crossentropy', metrics=['categorical_accuracy'])\n",
    "print(model6.summary())\n",
    "\n",
    "model6_history = model6.fit_generator(train_generator, steps_per_epoch=steps_per_epoch, epochs=num_epochs, verbose=1, \n",
    "            callbacks=callbacks_list, validation_data=val_generator, \n",
    "            validation_steps=validation_steps, class_weight=None, workers=1, initial_epoch=0)"
   ]
  },
  {
   "cell_type": "code",
   "execution_count": 40,
   "metadata": {
    "id": "wz4CJYdUpIHX"
   },
   "outputs": [
    {
     "data": {
      "image/png": "[encoded data removed]",
      "text/plain": [
       "<Figure size 1080x288 with 2 Axes>"
      ]
     },
     "metadata": {
      "needs_background": "light"
     },
     "output_type": "display_data"
    },
    {
     "name": "stdout",
     "output_type": "stream",
     "text": [
      "Max. Training Accuracy 0.9719887971878052\n",
      "Max. Validaiton Accuracy 0.8125\n"
     ]
    }
   ],
   "source": [
    "plotModelHistory(model6_history)"
   ]
  },
  {
   "cell_type": "markdown",
   "metadata": {
    "id": "skhLjh_vyXfR"
   },
   "source": [
    "### Model 7: Transfer Learning (MobileNet) with LSTM"
   ]
  },
  {
   "cell_type": "code",
   "execution_count": 41,
   "metadata": {
    "id": "6o_v7A10vBKd"
   },
   "outputs": [],
   "source": [
    "from tensorflow.keras.applications import mobilenet"
   ]
  },
  {
   "cell_type": "code",
   "execution_count": 42,
   "metadata": {
    "id": "1o8quf9byzns"
   },
   "outputs": [
    {
     "name": "stdout",
     "output_type": "stream",
     "text": [
      "WARNING:tensorflow:`input_shape` is undefined or non-square, or `rows` is not in [128, 160, 192, 224]. Weights for input shape (224, 224) will be loaded as the default.\n",
      "Downloading data from https://storage.googleapis.com/tensorflow/keras-applications/mobilenet/mobilenet_1_0_224_tf_no_top.h5\n",
      "17227776/17225924 [==============================] - 1s 0us/step\n",
      "17235968/17225924 [==============================] - 1s 0us/step\n",
      "Model: \"mobilenet_lstm\"\n",
      "_________________________________________________________________\n",
      " Layer (type)                Output Shape              Param #   \n",
      "=================================================================\n",
      " time_distributed_16 (TimeDi  (None, 20, 3, 3, 1024)   3228864   \n",
      " stributed)                                                      \n",
      "                                                                 \n",
      " time_distributed_17 (TimeDi  (None, 20, 3, 3, 1024)   4096      \n",
      " stributed)                                                      \n",
      "                                                                 \n",
      " time_distributed_18 (TimeDi  (None, 20, 1, 1, 1024)   0         \n",
      " stributed)                                                      \n",
      "                                                                 \n",
      " time_distributed_19 (TimeDi  (None, 20, 1024)         0         \n",
      " stributed)                                                      \n",
      "                                                                 \n",
      " lstm_1 (LSTM)               (None, 256)               1311744   \n",
      "                                                                 \n",
      " dropout_12 (Dropout)        (None, 256)               0         \n",
      "                                                                 \n",
      " dense_20 (Dense)            (None, 256)               65792     \n",
      "                                                                 \n",
      " dropout_13 (Dropout)        (None, 256)               0         \n",
      "                                                                 \n",
      " dense_21 (Dense)            (None, 5)                 1285      \n",
      "                                                                 \n",
      "=================================================================\n",
      "Total params: 4,611,781\n",
      "Trainable params: 1,380,869\n",
      "Non-trainable params: 3,230,912\n",
      "_________________________________________________________________\n",
      "None\n",
      "Source path =  /datasets/Project_data/train ; batch size = 64\n",
      "Epoch 1/30\n",
      "11/11 [==============================] - ETA: 0s - loss: 1.3756 - categorical_accuracy: 0.4193 Source path =  /datasets/Project_data/val ; batch size = 64\n",
      "\n",
      "Epoch 00001: saving model to model_init_2022-06-1304_15_44.957822/model-00001-1.37560-0.41931-1.06840-0.55000.h5\n",
      "11/11 [==============================] - 132s 13s/step - loss: 1.3756 - categorical_accuracy: 0.4193 - val_loss: 1.0684 - val_categorical_accuracy: 0.5500 - lr: 0.0010\n",
      "Epoch 2/30\n",
      "11/11 [==============================] - ETA: 0s - loss: 0.6548 - categorical_accuracy: 0.7866\n",
      "Epoch 00002: saving model to model_init_2022-06-1304_15_44.957822/model-00002-0.65483-0.78656-0.98852-0.60938.h5\n",
      "11/11 [==============================] - 57s 6s/step - loss: 0.6548 - categorical_accuracy: 0.7866 - val_loss: 0.9885 - val_categorical_accuracy: 0.6094 - lr: 0.0010\n",
      "Epoch 3/30\n",
      "11/11 [==============================] - ETA: 0s - loss: 0.5116 - categorical_accuracy: 0.8419\n",
      "Epoch 00003: saving model to model_init_2022-06-1304_15_44.957822/model-00003-0.51159-0.84190-0.83762-0.66071.h5\n",
      "11/11 [==============================] - 54s 5s/step - loss: 0.5116 - categorical_accuracy: 0.8419 - val_loss: 0.8376 - val_categorical_accuracy: 0.6607 - lr: 0.0010\n",
      "Epoch 4/30\n",
      "11/11 [==============================] - ETA: 0s - loss: 0.4012 - categorical_accuracy: 0.8498\n",
      "Epoch 00004: saving model to model_init_2022-06-1304_15_44.957822/model-00004-0.40123-0.84979-0.59064-0.78125.h5\n",
      "11/11 [==============================] - 47s 5s/step - loss: 0.4012 - categorical_accuracy: 0.8498 - val_loss: 0.5906 - val_categorical_accuracy: 0.7812 - lr: 0.0010\n",
      "Epoch 5/30\n",
      "11/11 [==============================] - ETA: 0s - loss: 0.1960 - categorical_accuracy: 0.9426\n",
      "Epoch 00005: saving model to model_init_2022-06-1304_15_44.957822/model-00005-0.19596-0.94258-0.92867-0.62500.h5\n",
      "11/11 [==============================] - 42s 4s/step - loss: 0.1960 - categorical_accuracy: 0.9426 - val_loss: 0.9287 - val_categorical_accuracy: 0.6250 - lr: 0.0010\n",
      "Epoch 6/30\n",
      "11/11 [==============================] - ETA: 0s - loss: 0.2422 - categorical_accuracy: 0.9091\n",
      "Epoch 00006: saving model to model_init_2022-06-1304_15_44.957822/model-00006-0.24220-0.90909-0.19997-1.00000.h5\n",
      "11/11 [==============================] - 35s 4s/step - loss: 0.2422 - categorical_accuracy: 0.9091 - val_loss: 0.2000 - val_categorical_accuracy: 1.0000 - lr: 0.0010\n",
      "Epoch 7/30\n",
      "11/11 [==============================] - ETA: 0s - loss: 0.1549 - categorical_accuracy: 0.9606\n",
      "Epoch 00007: saving model to model_init_2022-06-1304_15_44.957822/model-00007-0.15490-0.96059-2.09117-0.50000.h5\n",
      "11/11 [==============================] - 34s 3s/step - loss: 0.1549 - categorical_accuracy: 0.9606 - val_loss: 2.0912 - val_categorical_accuracy: 0.5000 - lr: 0.0010\n",
      "Epoch 8/30\n",
      "11/11 [==============================] - ETA: 0s - loss: 0.0822 - categorical_accuracy: 0.9840\n",
      "Epoch 00008: saving model to model_init_2022-06-1304_15_44.957822/model-00008-0.08217-0.98396-0.41940-0.87500.h5\n",
      "11/11 [==============================] - 33s 3s/step - loss: 0.0822 - categorical_accuracy: 0.9840 - val_loss: 0.4194 - val_categorical_accuracy: 0.8750 - lr: 0.0010\n",
      "Epoch 9/30\n",
      "11/11 [==============================] - ETA: 0s - loss: 0.1020 - categorical_accuracy: 0.9733\n",
      "Epoch 00009: saving model to model_init_2022-06-1304_15_44.957822/model-00009-0.10196-0.97326-0.58877-0.62500.h5\n",
      "11/11 [==============================] - 33s 3s/step - loss: 0.1020 - categorical_accuracy: 0.9733 - val_loss: 0.5888 - val_categorical_accuracy: 0.6250 - lr: 0.0010\n",
      "Epoch 10/30\n",
      "11/11 [==============================] - ETA: 0s - loss: 0.1201 - categorical_accuracy: 0.9626\n",
      "Epoch 00010: saving model to model_init_2022-06-1304_15_44.957822/model-00010-0.12008-0.96257-1.27697-0.62500.h5\n",
      "\n",
      "Epoch 00010: ReduceLROnPlateau reducing learning rate to 0.00020000000949949026.\n",
      "11/11 [==============================] - 32s 3s/step - loss: 0.1201 - categorical_accuracy: 0.9626 - val_loss: 1.2770 - val_categorical_accuracy: 0.6250 - lr: 0.0010\n",
      "Epoch 11/30\n",
      "11/11 [==============================] - ETA: 0s - loss: 0.0506 - categorical_accuracy: 0.9893\n",
      "Epoch 00011: saving model to model_init_2022-06-1304_15_44.957822/model-00011-0.05059-0.98930-0.82528-0.75000.h5\n",
      "11/11 [==============================] - 32s 3s/step - loss: 0.0506 - categorical_accuracy: 0.9893 - val_loss: 0.8253 - val_categorical_accuracy: 0.7500 - lr: 2.0000e-04\n",
      "Epoch 12/30\n",
      "11/11 [==============================] - ETA: 0s - loss: 0.0338 - categorical_accuracy: 0.9947\n",
      "Epoch 00012: saving model to model_init_2022-06-1304_15_44.957822/model-00012-0.03378-0.99465-0.76562-0.75000.h5\n",
      "11/11 [==============================] - 33s 3s/step - loss: 0.0338 - categorical_accuracy: 0.9947 - val_loss: 0.7656 - val_categorical_accuracy: 0.7500 - lr: 2.0000e-04\n",
      "Epoch 13/30\n",
      "11/11 [==============================] - ETA: 0s - loss: 0.0357 - categorical_accuracy: 0.9947\n",
      "Epoch 00013: saving model to model_init_2022-06-1304_15_44.957822/model-00013-0.03572-0.99465-0.60528-0.87500.h5\n",
      "11/11 [==============================] - 32s 3s/step - loss: 0.0357 - categorical_accuracy: 0.9947 - val_loss: 0.6053 - val_categorical_accuracy: 0.8750 - lr: 2.0000e-04\n",
      "Epoch 14/30\n",
      "11/11 [==============================] - ETA: 0s - loss: 0.0542 - categorical_accuracy: 0.9893\n",
      "Epoch 00014: saving model to model_init_2022-06-1304_15_44.957822/model-00014-0.05422-0.98930-0.90430-0.37500.h5\n",
      "\n",
      "Epoch 00014: ReduceLROnPlateau reducing learning rate to 4.0000001899898055e-05.\n",
      "11/11 [==============================] - 32s 3s/step - loss: 0.0542 - categorical_accuracy: 0.9893 - val_loss: 0.9043 - val_categorical_accuracy: 0.3750 - lr: 2.0000e-04\n",
      "Epoch 15/30\n",
      "11/11 [==============================] - ETA: 0s - loss: 0.0202 - categorical_accuracy: 1.0000\n",
      "Epoch 00015: saving model to model_init_2022-06-1304_15_44.957822/model-00015-0.02018-1.00000-1.88699-0.62500.h5\n",
      "11/11 [==============================] - 33s 3s/step - loss: 0.0202 - categorical_accuracy: 1.0000 - val_loss: 1.8870 - val_categorical_accuracy: 0.6250 - lr: 4.0000e-05\n",
      "Epoch 16/30\n",
      "11/11 [==============================] - ETA: 0s - loss: 0.0161 - categorical_accuracy: 1.0000\n",
      "Epoch 00016: saving model to model_init_2022-06-1304_15_44.957822/model-00016-0.01606-1.00000-0.52280-0.62500.h5\n",
      "11/11 [==============================] - 32s 3s/step - loss: 0.0161 - categorical_accuracy: 1.0000 - val_loss: 0.5228 - val_categorical_accuracy: 0.6250 - lr: 4.0000e-05\n",
      "Epoch 17/30\n",
      "11/11 [==============================] - ETA: 0s - loss: 0.0188 - categorical_accuracy: 1.0000\n",
      "Epoch 00017: saving model to model_init_2022-06-1304_15_44.957822/model-00017-0.01881-1.00000-1.40363-0.50000.h5\n",
      "11/11 [==============================] - 34s 3s/step - loss: 0.0188 - categorical_accuracy: 1.0000 - val_loss: 1.4036 - val_categorical_accuracy: 0.5000 - lr: 4.0000e-05\n",
      "Epoch 18/30\n",
      "11/11 [==============================] - ETA: 0s - loss: 0.0153 - categorical_accuracy: 1.0000\n",
      "Epoch 00018: saving model to model_init_2022-06-1304_15_44.957822/model-00018-0.01529-1.00000-0.87500-0.75000.h5\n",
      "\n",
      "Epoch 00018: ReduceLROnPlateau reducing learning rate to 8.000000525498762e-06.\n",
      "11/11 [==============================] - 31s 3s/step - loss: 0.0153 - categorical_accuracy: 1.0000 - val_loss: 0.8750 - val_categorical_accuracy: 0.7500 - lr: 4.0000e-05\n",
      "Epoch 19/30\n",
      "11/11 [==============================] - ETA: 0s - loss: 0.0209 - categorical_accuracy: 0.9947\n",
      "Epoch 00019: saving model to model_init_2022-06-1304_15_44.957822/model-00019-0.02088-0.99465-0.84497-0.62500.h5\n",
      "11/11 [==============================] - 32s 3s/step - loss: 0.0209 - categorical_accuracy: 0.9947 - val_loss: 0.8450 - val_categorical_accuracy: 0.6250 - lr: 8.0000e-06\n",
      "Epoch 20/30\n",
      "11/11 [==============================] - ETA: 0s - loss: 0.0152 - categorical_accuracy: 1.0000\n",
      "Epoch 00020: saving model to model_init_2022-06-1304_15_44.957822/model-00020-0.01519-1.00000-0.45330-0.75000.h5\n",
      "11/11 [==============================] - 32s 3s/step - loss: 0.0152 - categorical_accuracy: 1.0000 - val_loss: 0.4533 - val_categorical_accuracy: 0.7500 - lr: 8.0000e-06\n",
      "Epoch 21/30\n",
      "11/11 [==============================] - ETA: 0s - loss: 0.0231 - categorical_accuracy: 0.9947\n",
      "Epoch 00021: saving model to model_init_2022-06-1304_15_44.957822/model-00021-0.02312-0.99465-0.96799-0.75000.h5\n",
      "11/11 [==============================] - 33s 3s/step - loss: 0.0231 - categorical_accuracy: 0.9947 - val_loss: 0.9680 - val_categorical_accuracy: 0.7500 - lr: 8.0000e-06\n",
      "Epoch 22/30\n",
      "11/11 [==============================] - ETA: 0s - loss: 0.0177 - categorical_accuracy: 1.0000\n",
      "Epoch 00022: saving model to model_init_2022-06-1304_15_44.957822/model-00022-0.01773-1.00000-2.20007-0.50000.h5\n",
      "\n",
      "Epoch 00022: ReduceLROnPlateau reducing learning rate to 1.6000001778593287e-06.\n",
      "11/11 [==============================] - 32s 3s/step - loss: 0.0177 - categorical_accuracy: 1.0000 - val_loss: 2.2001 - val_categorical_accuracy: 0.5000 - lr: 8.0000e-06\n",
      "Epoch 23/30\n",
      "11/11 [==============================] - ETA: 0s - loss: 0.0129 - categorical_accuracy: 1.0000\n",
      "Epoch 00023: saving model to model_init_2022-06-1304_15_44.957822/model-00023-0.01293-1.00000-0.69782-0.87500.h5\n",
      "11/11 [==============================] - 32s 3s/step - loss: 0.0129 - categorical_accuracy: 1.0000 - val_loss: 0.6978 - val_categorical_accuracy: 0.8750 - lr: 1.6000e-06\n",
      "Epoch 24/30\n",
      "11/11 [==============================] - ETA: 0s - loss: 0.0256 - categorical_accuracy: 0.9947\n",
      "Epoch 00024: saving model to model_init_2022-06-1304_15_44.957822/model-00024-0.02558-0.99465-0.40163-0.62500.h5\n",
      "11/11 [==============================] - 32s 3s/step - loss: 0.0256 - categorical_accuracy: 0.9947 - val_loss: 0.4016 - val_categorical_accuracy: 0.6250 - lr: 1.6000e-06\n",
      "Epoch 25/30\n",
      "11/11 [==============================] - ETA: 0s - loss: 0.0149 - categorical_accuracy: 1.0000\n",
      "Epoch 00025: saving model to model_init_2022-06-1304_15_44.957822/model-00025-0.01492-1.00000-0.67643-0.62500.h5\n",
      "11/11 [==============================] - 33s 3s/step - loss: 0.0149 - categorical_accuracy: 1.0000 - val_loss: 0.6764 - val_categorical_accuracy: 0.6250 - lr: 1.6000e-06\n",
      "Epoch 26/30\n",
      "11/11 [==============================] - ETA: 0s - loss: 0.0247 - categorical_accuracy: 0.9947\n",
      "Epoch 00026: saving model to model_init_2022-06-1304_15_44.957822/model-00026-0.02469-0.99465-1.10994-0.62500.h5\n",
      "\n",
      "Epoch 00026: ReduceLROnPlateau reducing learning rate to 3.200000264769187e-07.\n",
      "11/11 [==============================] - 31s 3s/step - loss: 0.0247 - categorical_accuracy: 0.9947 - val_loss: 1.1099 - val_categorical_accuracy: 0.6250 - lr: 1.6000e-06\n",
      "Epoch 27/30\n",
      "11/11 [==============================] - ETA: 0s - loss: 0.0231 - categorical_accuracy: 1.0000\n",
      "Epoch 00027: saving model to model_init_2022-06-1304_15_44.957822/model-00027-0.02314-1.00000-0.98169-0.75000.h5\n",
      "11/11 [==============================] - 34s 3s/step - loss: 0.0231 - categorical_accuracy: 1.0000 - val_loss: 0.9817 - val_categorical_accuracy: 0.7500 - lr: 3.2000e-07\n",
      "Epoch 28/30\n",
      "11/11 [==============================] - ETA: 0s - loss: 0.0148 - categorical_accuracy: 1.0000\n",
      "Epoch 00028: saving model to model_init_2022-06-1304_15_44.957822/model-00028-0.01483-1.00000-0.20211-0.87500.h5\n",
      "11/11 [==============================] - 32s 3s/step - loss: 0.0148 - categorical_accuracy: 1.0000 - val_loss: 0.2021 - val_categorical_accuracy: 0.8750 - lr: 3.2000e-07\n",
      "Epoch 29/30\n",
      "11/11 [==============================] - ETA: 0s - loss: 0.0138 - categorical_accuracy: 1.0000\n",
      "Epoch 00029: saving model to model_init_2022-06-1304_15_44.957822/model-00029-0.01375-1.00000-1.22750-0.62500.h5\n",
      "11/11 [==============================] - 32s 3s/step - loss: 0.0138 - categorical_accuracy: 1.0000 - val_loss: 1.2275 - val_categorical_accuracy: 0.6250 - lr: 3.2000e-07\n",
      "Epoch 30/30\n",
      "11/11 [==============================] - ETA: 0s - loss: 0.0170 - categorical_accuracy: 1.0000\n",
      "Epoch 00030: saving model to model_init_2022-06-1304_15_44.957822/model-00030-0.01704-1.00000-1.08077-0.62500.h5\n",
      "\n",
      "Epoch 00030: ReduceLROnPlateau reducing learning rate to 6.400000529538374e-08.\n",
      "11/11 [==============================] - 32s 3s/step - loss: 0.0170 - categorical_accuracy: 1.0000 - val_loss: 1.0808 - val_categorical_accuracy: 0.6250 - lr: 3.2000e-07\n"
     ]
    }
   ],
   "source": [
    "mobilenet = mobilenet.MobileNet(weights='imagenet', include_top=False)\n",
    "\n",
    "n_frames = 20\n",
    "num_epochs = 30\n",
    "batch_size = 64\n",
    "\n",
    "img_tensor = getImgTensor(n_frames)\n",
    "train_generator = generator(train_path, train_doc, batch_size, img_tensor)\n",
    "val_generator = generator(val_path, val_doc, batch_size, img_tensor)\n",
    "\n",
    "if (num_train_sequences%batch_size) == 0:\n",
    "    steps_per_epoch = int(num_train_sequences/batch_size)\n",
    "else:\n",
    "    steps_per_epoch = (num_train_sequences//batch_size) + 1\n",
    "\n",
    "if (num_val_sequences%batch_size) == 0:\n",
    "    validation_steps = int(num_val_sequences/batch_size)\n",
    "else:\n",
    "    validation_steps = (num_val_sequences//batch_size) + 1\n",
    "    \n",
    "inputShape = (len(img_tensor[0]), img_tensor[1], img_tensor[2], img_tensor[3])\n",
    "\n",
    "model7 = Sequential([\n",
    "    TimeDistributed(mobilenet, input_shape=inputShape)\n",
    "], name=\"mobilenet_lstm\")\n",
    "\n",
    "for layer in model7.layers:\n",
    "    layer.trainable = False\n",
    "\n",
    "model7.add(TimeDistributed(BatchNormalization()))\n",
    "model7.add(TimeDistributed(MaxPooling2D(make2dFilter(2))))\n",
    "model7.add(TimeDistributed(Flatten()))\n",
    "\n",
    "model7.add(LSTM(256))\n",
    "model7.add(Dropout(0.2))\n",
    "\n",
    "model7.add(Dense(256,activation='relu'))\n",
    "model7.add(Dropout(0.2))\n",
    "\n",
    "model7.add(Dense(5, activation='softmax'))\n",
    "\n",
    "model7.compile(optimizer=tf.keras.optimizers.Adam(), loss='categorical_crossentropy', metrics=['categorical_accuracy'])\n",
    "print(model7.summary())\n",
    "\n",
    "model7_history = model7.fit_generator(train_generator, steps_per_epoch=steps_per_epoch, epochs=num_epochs, verbose=1, \n",
    "            callbacks=callbacks_list, validation_data=val_generator, \n",
    "            validation_steps=validation_steps, class_weight=None, workers=1, initial_epoch=0)"
   ]
  },
  {
   "cell_type": "code",
   "execution_count": 43,
   "metadata": {
    "id": "12A53k_WpIHX"
   },
   "outputs": [
    {
     "data": {
      "image/png": "[encoded data removed]",
      "text/plain": [
       "<Figure size 1080x288 with 2 Axes>"
      ]
     },
     "metadata": {
      "needs_background": "light"
     },
     "output_type": "display_data"
    },
    {
     "name": "stdout",
     "output_type": "stream",
     "text": [
      "Max. Training Accuracy 1.0\n",
      "Max. Validaiton Accuracy 1.0\n"
     ]
    }
   ],
   "source": [
    "plotModelHistory(model7_history)"
   ]
  },
  {
   "cell_type": "code",
   "execution_count": null,
   "metadata": {
    "id": "ZYm7gfz5Z_RT"
   },
   "outputs": [],
   "source": []
  }
 ],
 "metadata": {
  "colab": {
   "collapsed_sections": [],
   "name": "gesture-recognition.ipynb",
   "provenance": []
  },
  "kernelspec": {
   "display_name": "Python 3 (ipykernel)",
   "language": "python",
   "name": "python3"
  },
  "language_info": {
   "codemirror_mode": {
    "name": "ipython",
    "version": 3
   },
   "file_extension": ".py",
   "mimetype": "text/x-python",
   "name": "python",
   "nbconvert_exporter": "python",
   "pygments_lexer": "ipython3",
   "version": "3.9.12"
  }
 },
 "nbformat": 4,
 "nbformat_minor": 4
}
